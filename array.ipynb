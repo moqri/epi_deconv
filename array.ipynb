{
 "cells": [
  {
   "cell_type": "code",
   "execution_count": 1,
   "id": "d011a887-693c-401d-8504-94927799cb71",
   "metadata": {},
   "outputs": [],
   "source": [
    "import pandas as pd\n",
    "import numpy as np\n",
    "import seaborn as sns\n",
    "from biolearn.data_library import DataLibrary\n",
    "from scipy.stats import pearsonr"
   ]
  },
  {
   "cell_type": "code",
   "execution_count": 3,
   "id": "da341b49-4e6b-49d6-8bfc-ddf4897ee075",
   "metadata": {},
   "outputs": [
    {
     "name": "stdout",
     "output_type": "stream",
     "text": [
      "CPU times: user 7.6 s, sys: 936 ms, total: 8.53 s\n",
      "Wall time: 8.61 s\n"
     ]
    }
   ],
   "source": [
    "%%time \n",
    "wb_='data/cell/GSE41169_series_matrix.txt'\n",
    "age=pd.read_table(wb_,skiprows=32+14,nrows=0,index_col=0).columns.str.strip('age: ').astype(float).tolist()\n",
    "wb=pd.read_table(wb_,skiprows=32+14+26,index_col=0).drop('!series_matrix_table_end').round(3)"
   ]
  },
  {
   "cell_type": "code",
   "execution_count": 4,
   "id": "ed5a16bf-7762-4d9e-a62a-715f64cde48d",
   "metadata": {},
   "outputs": [
    {
     "name": "stdout",
     "output_type": "stream",
     "text": [
      "CPU times: user 2min 2s, sys: 147 ms, total: 2min 2s\n",
      "Wall time: 2min 2s\n"
     ]
    }
   ],
   "source": [
    "%%time \n",
    "wb_t=wb.T\n",
    "wb_t['age']=age\n",
    "wb_cor=wb_t.corrwith(wb_t['age']).drop('age').sort_values()"
   ]
  },
  {
   "cell_type": "code",
   "execution_count": null,
   "id": "bc48e56b-49b6-491d-95f4-008ecbcdf802",
   "metadata": {},
   "outputs": [],
   "source": [
    "hmr=pd.read_table('/labs/mpsnyder/moqri/epi_deconv/data/arc/hmr/neo',header=None,index_col=3,usecols=[0,1,2,3])\n",
    "hmr['b']=hmr[0].str[3:].astype(int)*10**9+hmr[1]\n",
    "hmr['e']=hmr[0].str[3:].astype(int)*10**9+hmr[2]\n",
    "hmr=hmr.sort_values('b')"
   ]
  },
  {
   "cell_type": "code",
   "execution_count": 342,
   "id": "1301691f-7e72-412c-8297-94ef50cf4fe5",
   "metadata": {},
   "outputs": [],
   "source": [
    "man=pd.read_table('../Blood-DNA-Methylation-Atlas/data/ref/HM450.hg38.manifest.tsv',index_col='Probe_ID')[['CpG_chrm','CpG_beg']]\n",
    "man=man.dropna().copy()\n",
    "man['CpG_beg']=man['CpG_beg'].astype(int)\n",
    "man.columns=[0,1]\n",
    "man['cg']=man.index\n",
    "man=man.merge(wb_cor.rename('cor'),left_index=True,right_index=True)\n",
    "man=man[man[0].isin('chr'+str(c) for c in range(1,23))].copy()\n",
    "man['pos']=man[0].str[3:].astype(int)*10**9+man[1]\n",
    "man=man.sort_values('pos')"
   ]
  },
  {
   "cell_type": "code",
   "execution_count": 393,
   "id": "069742c5-6b48-43c6-8098-d0980f15a868",
   "metadata": {},
   "outputs": [
    {
     "data": {
      "text/plain": [
       "PearsonRResult(statistic=0.17000257154587675, pvalue=0.09954625549702951)"
      ]
     },
     "execution_count": 393,
     "metadata": {},
     "output_type": "execute_result"
    }
   ],
   "source": [
    "cg=wb_cor[wb_cor>.170].head(1).index[0]\n",
    "pearsonr(wb_t[cg],wb_t['age'])"
   ]
  },
  {
   "cell_type": "code",
   "execution_count": 394,
   "id": "33426983-5b22-4354-aac5-687fd3bf6a62",
   "metadata": {},
   "outputs": [],
   "source": [
    "man=man[man['cor']>.170].copy()"
   ]
  },
  {
   "cell_type": "code",
   "execution_count": 395,
   "id": "1811c6c6-9803-4bfe-bc93-ddb62d91ad97",
   "metadata": {},
   "outputs": [
    {
     "name": "stdout",
     "output_type": "stream",
     "text": [
      "CPU times: user 3.4 s, sys: 32 ms, total: 3.43 s\n",
      "Wall time: 3.42 s\n"
     ]
    }
   ],
   "source": [
    "%%time\n",
    "l=[]\n",
    "cur=0\n",
    "for i in range(len(man)):\n",
    "    if cur>=len(hmr):\n",
    "        l.append(-1)\n",
    "    else: \n",
    "        pos=man['pos'].iloc[i]\n",
    "        cg=man['cg'].iloc[i]\n",
    "        b=hmr['b'].iloc[cur]\n",
    "        e=hmr['e'].iloc[cur]        \n",
    "        if pos<b:\n",
    "            l.append(-1)\n",
    "        if pos>=b and pos<=e:\n",
    "            l.append(cur)\n",
    "        if pos>e:\n",
    "            while (pos>hmr['e'].iloc[cur]):\n",
    "                cur+=1\n",
    "                b=hmr['b'].iloc[cur]\n",
    "                e=hmr['e'].iloc[cur] \n",
    "            if pos>=b and pos<=e:\n",
    "                l.append(cur)\n",
    "            else:\n",
    "                l.append(-1)"
   ]
  },
  {
   "cell_type": "code",
   "execution_count": 396,
   "id": "54d497e0-8dce-4e08-bb17-156cdd840728",
   "metadata": {},
   "outputs": [
    {
     "name": "stdout",
     "output_type": "stream",
     "text": [
      "2628\n"
     ]
    },
    {
     "data": {
      "text/html": [
       "<div>\n",
       "<style scoped>\n",
       "    .dataframe tbody tr th:only-of-type {\n",
       "        vertical-align: middle;\n",
       "    }\n",
       "\n",
       "    .dataframe tbody tr th {\n",
       "        vertical-align: top;\n",
       "    }\n",
       "\n",
       "    .dataframe thead th {\n",
       "        text-align: right;\n",
       "    }\n",
       "</style>\n",
       "<table border=\"1\" class=\"dataframe\">\n",
       "  <thead>\n",
       "    <tr style=\"text-align: right;\">\n",
       "      <th></th>\n",
       "      <th>0</th>\n",
       "      <th>1</th>\n",
       "      <th>2</th>\n",
       "    </tr>\n",
       "    <tr>\n",
       "      <th>3</th>\n",
       "      <th></th>\n",
       "      <th></th>\n",
       "      <th></th>\n",
       "    </tr>\n",
       "  </thead>\n",
       "  <tbody>\n",
       "    <tr>\n",
       "      <th>HYPO15803</th>\n",
       "      <td>chr16</td>\n",
       "      <td>693607</td>\n",
       "      <td>696132</td>\n",
       "    </tr>\n",
       "    <tr>\n",
       "      <th>HYPO1989</th>\n",
       "      <td>chr1</td>\n",
       "      <td>52842501</td>\n",
       "      <td>52844181</td>\n",
       "    </tr>\n",
       "    <tr>\n",
       "      <th>HYPO24516</th>\n",
       "      <td>chr19</td>\n",
       "      <td>52492573</td>\n",
       "      <td>52493670</td>\n",
       "    </tr>\n",
       "    <tr>\n",
       "      <th>HYPO41672</th>\n",
       "      <td>chr7</td>\n",
       "      <td>130733013</td>\n",
       "      <td>130735171</td>\n",
       "    </tr>\n",
       "    <tr>\n",
       "      <th>HYPO2189</th>\n",
       "      <td>chr1</td>\n",
       "      <td>68046821</td>\n",
       "      <td>68047168</td>\n",
       "    </tr>\n",
       "    <tr>\n",
       "      <th>HYPO25032</th>\n",
       "      <td>chr2</td>\n",
       "      <td>11669594</td>\n",
       "      <td>11670306</td>\n",
       "    </tr>\n",
       "    <tr>\n",
       "      <th>HYPO37891</th>\n",
       "      <td>chr6</td>\n",
       "      <td>11042674</td>\n",
       "      <td>11044965</td>\n",
       "    </tr>\n",
       "    <tr>\n",
       "      <th>HYPO26321</th>\n",
       "      <td>chr2</td>\n",
       "      <td>105398173</td>\n",
       "      <td>105399417</td>\n",
       "    </tr>\n",
       "    <tr>\n",
       "      <th>HYPO39239</th>\n",
       "      <td>chr6</td>\n",
       "      <td>127514450</td>\n",
       "      <td>127516914</td>\n",
       "    </tr>\n",
       "    <tr>\n",
       "      <th>HYPO32479</th>\n",
       "      <td>chr3</td>\n",
       "      <td>51706724</td>\n",
       "      <td>51707741</td>\n",
       "    </tr>\n",
       "  </tbody>\n",
       "</table>\n",
       "</div>"
      ],
      "text/plain": [
       "               0          1          2\n",
       "3                                     \n",
       "HYPO15803  chr16     693607     696132\n",
       "HYPO1989    chr1   52842501   52844181\n",
       "HYPO24516  chr19   52492573   52493670\n",
       "HYPO41672   chr7  130733013  130735171\n",
       "HYPO2189    chr1   68046821   68047168\n",
       "HYPO25032   chr2   11669594   11670306\n",
       "HYPO37891   chr6   11042674   11044965\n",
       "HYPO26321   chr2  105398173  105399417\n",
       "HYPO39239   chr6  127514450  127516914\n",
       "HYPO32479   chr3   51706724   51707741"
      ]
     },
     "execution_count": 396,
     "metadata": {},
     "output_type": "execute_result"
    }
   ],
   "source": [
    "man['l']=l\n",
    "mg=pd.DataFrame(man.groupby('l')[0].count())\n",
    "mg=mg[mg[0]>=4].copy()\n",
    "print(len(mg))\n",
    "mg['cor']=man.groupby('l')['cor'].mean()\n",
    "hmr.iloc[mg.sort_values('cor').tail(10).index][[0,1,2]]"
   ]
  },
  {
   "cell_type": "code",
   "execution_count": 397,
   "id": "a276818b-7c47-4f99-85cb-8c2fa2dd1e85",
   "metadata": {},
   "outputs": [
    {
     "name": "stdout",
     "output_type": "stream",
     "text": [
      "CPU times: user 2.26 s, sys: 25 ms, total: 2.29 s\n",
      "Wall time: 2.29 s\n"
     ]
    }
   ],
   "source": [
    "%%time \n",
    "man=man[man['l']>0].copy()\n",
    "man['bin']=man['cor']>0\n",
    "cont=[]\n",
    "c=0\n",
    "last=False\n",
    "last_l=-1\n",
    "for i,b in man[['l','bin']].iterrows():\n",
    "    if (b['bin']):\n",
    "        if (b['l']>last_l or last==False):\n",
    "            c+=1\n",
    "            last_l=b['l']\n",
    "        cont.append(c)\n",
    "        last=True  \n",
    "    else:\n",
    "        cont.append(-1)\n",
    "        last=False"
   ]
  },
  {
   "cell_type": "code",
   "execution_count": 399,
   "id": "8236e710-35c8-4cd9-951c-b29a51624c0c",
   "metadata": {},
   "outputs": [
    {
     "data": {
      "text/html": [
       "<div>\n",
       "<style scoped>\n",
       "    .dataframe tbody tr th:only-of-type {\n",
       "        vertical-align: middle;\n",
       "    }\n",
       "\n",
       "    .dataframe tbody tr th {\n",
       "        vertical-align: top;\n",
       "    }\n",
       "\n",
       "    .dataframe thead th {\n",
       "        text-align: right;\n",
       "    }\n",
       "</style>\n",
       "<table border=\"1\" class=\"dataframe\">\n",
       "  <thead>\n",
       "    <tr style=\"text-align: right;\">\n",
       "      <th></th>\n",
       "      <th>0</th>\n",
       "      <th>chr</th>\n",
       "      <th>b</th>\n",
       "      <th>e</th>\n",
       "      <th>cor</th>\n",
       "    </tr>\n",
       "    <tr>\n",
       "      <th>cont</th>\n",
       "      <th></th>\n",
       "      <th></th>\n",
       "      <th></th>\n",
       "      <th></th>\n",
       "      <th></th>\n",
       "    </tr>\n",
       "  </thead>\n",
       "  <tbody>\n",
       "    <tr>\n",
       "      <th>9180</th>\n",
       "      <td>5</td>\n",
       "      <td>chr17</td>\n",
       "      <td>21452694</td>\n",
       "      <td>21453059</td>\n",
       "      <td>0.518702</td>\n",
       "    </tr>\n",
       "    <tr>\n",
       "      <th>1872</th>\n",
       "      <td>7</td>\n",
       "      <td>chr2</td>\n",
       "      <td>218871527</td>\n",
       "      <td>218874009</td>\n",
       "      <td>0.519095</td>\n",
       "    </tr>\n",
       "    <tr>\n",
       "      <th>8504</th>\n",
       "      <td>6</td>\n",
       "      <td>chr16</td>\n",
       "      <td>693924</td>\n",
       "      <td>694938</td>\n",
       "      <td>0.532847</td>\n",
       "    </tr>\n",
       "    <tr>\n",
       "      <th>507</th>\n",
       "      <td>6</td>\n",
       "      <td>chr1</td>\n",
       "      <td>52842924</td>\n",
       "      <td>52843588</td>\n",
       "      <td>0.533822</td>\n",
       "    </tr>\n",
       "    <tr>\n",
       "      <th>4810</th>\n",
       "      <td>10</td>\n",
       "      <td>chr7</td>\n",
       "      <td>130733487</td>\n",
       "      <td>130734723</td>\n",
       "      <td>0.577275</td>\n",
       "    </tr>\n",
       "    <tr>\n",
       "      <th>564</th>\n",
       "      <td>5</td>\n",
       "      <td>chr1</td>\n",
       "      <td>68046855</td>\n",
       "      <td>68047161</td>\n",
       "      <td>0.581576</td>\n",
       "    </tr>\n",
       "    <tr>\n",
       "      <th>3752</th>\n",
       "      <td>5</td>\n",
       "      <td>chr6</td>\n",
       "      <td>11043397</td>\n",
       "      <td>11044740</td>\n",
       "      <td>0.613848</td>\n",
       "    </tr>\n",
       "    <tr>\n",
       "      <th>1565</th>\n",
       "      <td>5</td>\n",
       "      <td>chr2</td>\n",
       "      <td>105398492</td>\n",
       "      <td>105399359</td>\n",
       "      <td>0.614469</td>\n",
       "    </tr>\n",
       "    <tr>\n",
       "      <th>4171</th>\n",
       "      <td>5</td>\n",
       "      <td>chr6</td>\n",
       "      <td>127514604</td>\n",
       "      <td>127515013</td>\n",
       "      <td>0.624143</td>\n",
       "    </tr>\n",
       "    <tr>\n",
       "      <th>2196</th>\n",
       "      <td>7</td>\n",
       "      <td>chr3</td>\n",
       "      <td>51706724</td>\n",
       "      <td>51707456</td>\n",
       "      <td>0.723285</td>\n",
       "    </tr>\n",
       "  </tbody>\n",
       "</table>\n",
       "</div>"
      ],
      "text/plain": [
       "       0    chr          b          e       cor\n",
       "cont                                           \n",
       "9180   5  chr17   21452694   21453059  0.518702\n",
       "1872   7   chr2  218871527  218874009  0.519095\n",
       "8504   6  chr16     693924     694938  0.532847\n",
       "507    6   chr1   52842924   52843588  0.533822\n",
       "4810  10   chr7  130733487  130734723  0.577275\n",
       "564    5   chr1   68046855   68047161  0.581576\n",
       "3752   5   chr6   11043397   11044740  0.613848\n",
       "1565   5   chr2  105398492  105399359  0.614469\n",
       "4171   5   chr6  127514604  127515013  0.624143\n",
       "2196   7   chr3   51706724   51707456  0.723285"
      ]
     },
     "execution_count": 399,
     "metadata": {},
     "output_type": "execute_result"
    }
   ],
   "source": [
    "man['cont']=cont\n",
    "mgc=pd.DataFrame(man.groupby('cont')[0].count())\n",
    "mgc['chr']=man.groupby('cont')[0].first()\n",
    "mgc['b']=man.groupby('cont')[1].first()\n",
    "mgc['e']=man.groupby('cont')[1].last()\n",
    "mgc['cor']=man.groupby('cont')['cor'].mean()\n",
    "topl=mgc[mgc[0]>=5].sort_values('cor')\n",
    "topl.tail(10)"
   ]
  },
  {
   "cell_type": "code",
   "execution_count": null,
   "id": "7f8a04ea-042a-4768-85ac-271fa2692a74",
   "metadata": {},
   "outputs": [],
   "source": []
  },
  {
   "cell_type": "code",
   "execution_count": null,
   "id": "9e300154-fb75-4f76-ad0a-406dcd26d8f6",
   "metadata": {},
   "outputs": [],
   "source": [
    "%%time\n",
    "mono_='data/cell/GSE56046_methylome_normalized.txt'\n",
    "mono=pd.read_table(mono_,index_col=0,usecols=[0]+list(range(1,201,2)))\n",
    "p2=pow(2,mono).round(3)\n",
    "mono=p2/(p2+1)\n",
    "age=pd.read_table('https://ftp.ncbi.nlm.nih.gov/geo/series/GSE56nnn/GSE56046/matrix/GSE56046_series_matrix.txt.gz',skiprows=46,\n",
    "             index_col=0).iloc[10].str.strip('age (yrs): ').astype(int)\n",
    "mono_t=mono.T\n",
    "mono_t['age']=age.head(100).values\n",
    "mono_cor=mono_t.corrwith(mono_t['age']).drop('age').sort_values()"
   ]
  },
  {
   "cell_type": "code",
   "execution_count": null,
   "id": "04c2ef77-a13c-457e-8e74-ee036c0a4b19",
   "metadata": {},
   "outputs": [],
   "source": [
    "%%time\n",
    "t_='data/cell/GSE56581_methylome_normalized.txt'\n",
    "t=pd.read_table(t_,index_col=0,usecols=[0]+list(range(1,201,2)))\n",
    "p2=pow(2,t).round(3)\n",
    "t=p2/(p2+1)\n",
    "age=pd.read_table('https://ftp.ncbi.nlm.nih.gov/geo/series/GSE56nnn/GSE56581/matrix/GSE56581_series_matrix.txt.gz',skiprows=40,\n",
    "             index_col=0).iloc[10].str.strip('age (yrs): ').astype(int)\n",
    "t_t=t.T\n",
    "t_t['age']=age.head(100).values\n",
    "t_cor=t_t.corrwith(t_t['age']).drop('age').sort_values()"
   ]
  },
  {
   "cell_type": "code",
   "execution_count": null,
   "id": "cb75bd91-d00e-41e5-b36b-8888ff936b60",
   "metadata": {},
   "outputs": [],
   "source": [
    "%%time\n",
    "liver_='data/cell/GSE48325_series_matrix.txt'\n",
    "liver=pd.read_table(liver_,skiprows=27+33,index_col=0).round(3)\n",
    "age=pd.read_table(liver_,skiprows=27,nrows=50,index_col=0).iloc[8].str.strip('age: ').astype(int)\n",
    "liver_t=liver.T\n",
    "liver_t['age']=age.values\n",
    "liver_cor=liver_t.corrwith(liver_t['age']).drop('age').sort_values()"
   ]
  },
  {
   "cell_type": "code",
   "execution_count": null,
   "id": "ec6586d9-8661-4a05-bf05-f61ff9e14856",
   "metadata": {},
   "outputs": [],
   "source": [
    "dd=pd.concat([wb_cor,t_cor,mono_cor,liver_cor],axis=1).drop('!series_matrix_table_end')\n",
    "dd.corr()"
   ]
  },
  {
   "cell_type": "code",
   "execution_count": null,
   "id": "7de61c79-cdb7-4894-9d09-3a0a6e1adf5a",
   "metadata": {},
   "outputs": [],
   "source": [
    "t_hm=pd.read_table('../Blood-DNA-Methylation-Atlas/data/merge/hm450/cd4.meth',header=None,skiprows=860,index_col=3)[[0,1,4]]\n",
    "m_hm=pd.read_table('../Blood-DNA-Methylation-Atlas/data/merge/hm450/mono.meth',header=None,skiprows=860,index_col=3)[[0,1,4]]"
   ]
  },
  {
   "cell_type": "code",
   "execution_count": null,
   "id": "7ef6ba0c-d177-4076-9a84-03713aa9b2b4",
   "metadata": {},
   "outputs": [],
   "source": []
  }
 ],
 "metadata": {
  "kernelspec": {
   "display_name": "meth",
   "language": "python",
   "name": "meth"
  },
  "language_info": {
   "codemirror_mode": {
    "name": "ipython",
    "version": 3
   },
   "file_extension": ".py",
   "mimetype": "text/x-python",
   "name": "python",
   "nbconvert_exporter": "python",
   "pygments_lexer": "ipython3",
   "version": "3.10.9"
  }
 },
 "nbformat": 4,
 "nbformat_minor": 5
}
