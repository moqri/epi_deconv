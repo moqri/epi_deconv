{
 "cells": [
  {
   "cell_type": "code",
   "execution_count": 1,
   "id": "d011a887-693c-401d-8504-94927799cb71",
   "metadata": {},
   "outputs": [],
   "source": [
    "import pandas as pd\n",
    "import numpy as np\n",
    "import seaborn as sns\n",
    "from biolearn.data_library import DataLibrary"
   ]
  },
  {
   "cell_type": "code",
   "execution_count": 199,
   "id": "b2a6a3ae-8d4c-49e8-aa63-78511d85ca4c",
   "metadata": {},
   "outputs": [],
   "source": [
    "man=pd.read_table('../Blood-DNA-Methylation-Atlas/ref/HM450.hg38.manifest.tsv',index_col='Probe_ID')[['CpG_chrm','CpG_beg']]\n",
    "man=man.dropna().copy()\n",
    "man['CpG_beg']=man['CpG_beg'].astype(int)\n",
    "man.columns=[0,1]\n",
    "man['cg']=man.index"
   ]
  },
  {
   "cell_type": "code",
   "execution_count": 3,
   "id": "da341b49-4e6b-49d6-8bfc-ddf4897ee075",
   "metadata": {},
   "outputs": [
    {
     "name": "stdout",
     "output_type": "stream",
     "text": [
      "CPU times: user 7.6 s, sys: 936 ms, total: 8.53 s\n",
      "Wall time: 8.61 s\n"
     ]
    }
   ],
   "source": [
    "%%time \n",
    "wb_='data/cell/GSE41169_series_matrix.txt'\n",
    "age=pd.read_table(wb_,skiprows=32+14,nrows=0,index_col=0).columns.str.strip('age: ').astype(float).tolist()\n",
    "wb=pd.read_table(wb_,skiprows=32+14+26,index_col=0).drop('!series_matrix_table_end').round(3)"
   ]
  },
  {
   "cell_type": "code",
   "execution_count": 4,
   "id": "ed5a16bf-7762-4d9e-a62a-715f64cde48d",
   "metadata": {},
   "outputs": [
    {
     "name": "stdout",
     "output_type": "stream",
     "text": [
      "CPU times: user 2min 2s, sys: 147 ms, total: 2min 2s\n",
      "Wall time: 2min 2s\n"
     ]
    }
   ],
   "source": [
    "%%time \n",
    "wb_t=wb.T\n",
    "wb_t['age']=age\n",
    "wb_cor=wb_t.corrwith(wb_t['age']).drop('age').sort_values()"
   ]
  },
  {
   "cell_type": "code",
   "execution_count": 200,
   "id": "1301691f-7e72-412c-8297-94ef50cf4fe5",
   "metadata": {},
   "outputs": [],
   "source": [
    "man=man.merge(wb_cor.rename('cor'),left_index=True,right_index=True)\n",
    "man=man[man[0].isin('chr'+str(c) for c in range(1,23))].copy()\n",
    "man['pos']=man[0].str[3:].astype(int)*10**9+man[1]\n",
    "man=man.sort_values('pos')"
   ]
  },
  {
   "cell_type": "code",
   "execution_count": null,
   "id": "4a206be3-474c-42f0-af49-6935d3262a85",
   "metadata": {},
   "outputs": [],
   "source": [
    "hmr=pd.read_table('/labs/mpsnyder/moqri/epi_deconv/data/arc/hmr/neo',header=None,index_col=3,usecols=[0,1,2,3])\n",
    "hmr['b']=hmr[0].str[3:].astype(int)*10**9+hmr[1]\n",
    "hmr['e']=hmr[0].str[3:].astype(int)*10**9+hmr[2]\n",
    "hmr=hmr.sort_values('b')"
   ]
  },
  {
   "cell_type": "code",
   "execution_count": 201,
   "id": "1811c6c6-9803-4bfe-bc93-ddb62d91ad97",
   "metadata": {},
   "outputs": [
    {
     "name": "stdout",
     "output_type": "stream",
     "text": [
      "CPU times: user 22.4 s, sys: 19.7 ms, total: 22.5 s\n",
      "Wall time: 22.5 s\n"
     ]
    }
   ],
   "source": [
    "%%time\n",
    "l=[]\n",
    "cur=0\n",
    "for i in range(len(man)):\n",
    "    if cur>=len(hmr):\n",
    "        l.append(-1)\n",
    "    else: \n",
    "        pos=man['pos'].iloc[i]\n",
    "        cg=man['cg'].iloc[i]\n",
    "        b=hmr['b'].iloc[cur]\n",
    "        e=hmr['e'].iloc[cur]        \n",
    "        if pos<b:\n",
    "            l.append(-1)\n",
    "        if pos>=b and pos<=e:\n",
    "            l.append(cur)\n",
    "        if pos>e:\n",
    "            l.append(-1)\n",
    "            cur+=1"
   ]
  },
  {
   "cell_type": "code",
   "execution_count": 202,
   "id": "67704767-f9ff-46f4-9826-409ffe88d357",
   "metadata": {},
   "outputs": [],
   "source": [
    "man['l']=l"
   ]
  },
  {
   "cell_type": "code",
   "execution_count": 203,
   "id": "49ec035e-7b68-4568-9b97-d06c622f83c5",
   "metadata": {},
   "outputs": [
    {
     "name": "stdout",
     "output_type": "stream",
     "text": [
      "14855\n"
     ]
    }
   ],
   "source": [
    "mg=pd.DataFrame(man.groupby('l')[0].count())\n",
    "mg=mg[mg[0]>=5].copy()\n",
    "print(len(mg))\n",
    "mg['cor']=man.groupby('l')['cor'].mean()"
   ]
  },
  {
   "cell_type": "code",
   "execution_count": 204,
   "id": "54d497e0-8dce-4e08-bb17-156cdd840728",
   "metadata": {},
   "outputs": [
    {
     "data": {
      "text/html": [
       "<div>\n",
       "<style scoped>\n",
       "    .dataframe tbody tr th:only-of-type {\n",
       "        vertical-align: middle;\n",
       "    }\n",
       "\n",
       "    .dataframe tbody tr th {\n",
       "        vertical-align: top;\n",
       "    }\n",
       "\n",
       "    .dataframe thead th {\n",
       "        text-align: right;\n",
       "    }\n",
       "</style>\n",
       "<table border=\"1\" class=\"dataframe\">\n",
       "  <thead>\n",
       "    <tr style=\"text-align: right;\">\n",
       "      <th></th>\n",
       "      <th>0</th>\n",
       "      <th>1</th>\n",
       "      <th>2</th>\n",
       "    </tr>\n",
       "    <tr>\n",
       "      <th>3</th>\n",
       "      <th></th>\n",
       "      <th></th>\n",
       "      <th></th>\n",
       "    </tr>\n",
       "  </thead>\n",
       "  <tbody>\n",
       "    <tr>\n",
       "      <th>HYPO18969</th>\n",
       "      <td>chr17</td>\n",
       "      <td>28985870</td>\n",
       "      <td>28986481</td>\n",
       "    </tr>\n",
       "    <tr>\n",
       "      <th>HYPO43087</th>\n",
       "      <td>chr8</td>\n",
       "      <td>56447897</td>\n",
       "      <td>56448292</td>\n",
       "    </tr>\n",
       "    <tr>\n",
       "      <th>HYPO23856</th>\n",
       "      <td>chr19</td>\n",
       "      <td>41996936</td>\n",
       "      <td>41999519</td>\n",
       "    </tr>\n",
       "    <tr>\n",
       "      <th>HYPO24496</th>\n",
       "      <td>chr19</td>\n",
       "      <td>51887336</td>\n",
       "      <td>51888227</td>\n",
       "    </tr>\n",
       "    <tr>\n",
       "      <th>HYPO24741</th>\n",
       "      <td>chr19</td>\n",
       "      <td>57708673</td>\n",
       "      <td>57709644</td>\n",
       "    </tr>\n",
       "    <tr>\n",
       "      <th>HYPO36296</th>\n",
       "      <td>chr5</td>\n",
       "      <td>93620363</td>\n",
       "      <td>93621878</td>\n",
       "    </tr>\n",
       "    <tr>\n",
       "      <th>HYPO23522</th>\n",
       "      <td>chr19</td>\n",
       "      <td>35755461</td>\n",
       "      <td>35756232</td>\n",
       "    </tr>\n",
       "    <tr>\n",
       "      <th>HYPO1989</th>\n",
       "      <td>chr1</td>\n",
       "      <td>52842501</td>\n",
       "      <td>52844181</td>\n",
       "    </tr>\n",
       "    <tr>\n",
       "      <th>HYPO2189</th>\n",
       "      <td>chr1</td>\n",
       "      <td>68046821</td>\n",
       "      <td>68047168</td>\n",
       "    </tr>\n",
       "    <tr>\n",
       "      <th>HYPO32479</th>\n",
       "      <td>chr3</td>\n",
       "      <td>51706724</td>\n",
       "      <td>51707741</td>\n",
       "    </tr>\n",
       "  </tbody>\n",
       "</table>\n",
       "</div>"
      ],
      "text/plain": [
       "               0         1         2\n",
       "3                                   \n",
       "HYPO18969  chr17  28985870  28986481\n",
       "HYPO43087   chr8  56447897  56448292\n",
       "HYPO23856  chr19  41996936  41999519\n",
       "HYPO24496  chr19  51887336  51888227\n",
       "HYPO24741  chr19  57708673  57709644\n",
       "HYPO36296   chr5  93620363  93621878\n",
       "HYPO23522  chr19  35755461  35756232\n",
       "HYPO1989    chr1  52842501  52844181\n",
       "HYPO2189    chr1  68046821  68047168\n",
       "HYPO32479   chr3  51706724  51707741"
      ]
     },
     "execution_count": 204,
     "metadata": {},
     "output_type": "execute_result"
    }
   ],
   "source": [
    "hmr.iloc[mg.sort_values('cor').tail(10).index][[0,1,2]]"
   ]
  },
  {
   "cell_type": "code",
   "execution_count": 206,
   "id": "f6be4da4-e73c-4350-adf3-436ee64a2b9d",
   "metadata": {},
   "outputs": [],
   "source": [
    "man=man[man['l']>0].copy()"
   ]
  },
  {
   "cell_type": "code",
   "execution_count": 207,
   "id": "ac46c7a6-ac28-4e45-a4e0-fee05b58a58c",
   "metadata": {},
   "outputs": [],
   "source": [
    "man['bin']=man['cor']>0"
   ]
  },
  {
   "cell_type": "code",
   "execution_count": 208,
   "id": "a276818b-7c47-4f99-85cb-8c2fa2dd1e85",
   "metadata": {},
   "outputs": [
    {
     "name": "stdout",
     "output_type": "stream",
     "text": [
      "CPU times: user 11.7 s, sys: 18.8 ms, total: 11.7 s\n",
      "Wall time: 11.7 s\n"
     ]
    }
   ],
   "source": [
    "%%time \n",
    "cont=[]\n",
    "c=0\n",
    "last=False\n",
    "last_l=-1\n",
    "for i,b in man[['l','bin']].iterrows():\n",
    "    if (b['bin']):\n",
    "        if (b['l']>last_l or last==False):\n",
    "            c+=1\n",
    "            last_l=b['l']\n",
    "        cont.append(c)\n",
    "        last=True  \n",
    "    else:\n",
    "        cont.append(-1)\n",
    "        last=False"
   ]
  },
  {
   "cell_type": "code",
   "execution_count": 209,
   "id": "139c25c9-6b4d-4653-baec-42d9f98ce831",
   "metadata": {},
   "outputs": [],
   "source": [
    "man['cont']=cont"
   ]
  },
  {
   "cell_type": "code",
   "execution_count": 210,
   "id": "8236e710-35c8-4cd9-951c-b29a51624c0c",
   "metadata": {},
   "outputs": [],
   "source": [
    "mgc=pd.DataFrame(man.groupby('cont')[0].count())\n",
    "mgc['chr']=man.groupby('cont')[0].first()\n",
    "mgc['b']=man.groupby('cont')[1].first()\n",
    "mgc['e']=man.groupby('cont')[1].last()\n",
    "mgc['cor']=man.groupby('cont')['cor'].mean()"
   ]
  },
  {
   "cell_type": "code",
   "execution_count": 211,
   "id": "832a50a8-b550-48e9-b378-cb1afeab1d0b",
   "metadata": {},
   "outputs": [],
   "source": [
    "topl=mgc[mgc[0]>=5].sort_values('cor')"
   ]
  },
  {
   "cell_type": "code",
   "execution_count": 212,
   "id": "0e315049-4943-4b68-b357-67a007a04555",
   "metadata": {},
   "outputs": [
    {
     "data": {
      "text/html": [
       "<div>\n",
       "<style scoped>\n",
       "    .dataframe tbody tr th:only-of-type {\n",
       "        vertical-align: middle;\n",
       "    }\n",
       "\n",
       "    .dataframe tbody tr th {\n",
       "        vertical-align: top;\n",
       "    }\n",
       "\n",
       "    .dataframe thead th {\n",
       "        text-align: right;\n",
       "    }\n",
       "</style>\n",
       "<table border=\"1\" class=\"dataframe\">\n",
       "  <thead>\n",
       "    <tr style=\"text-align: right;\">\n",
       "      <th></th>\n",
       "      <th>0</th>\n",
       "      <th>chr</th>\n",
       "      <th>b</th>\n",
       "      <th>e</th>\n",
       "      <th>cor</th>\n",
       "    </tr>\n",
       "    <tr>\n",
       "      <th>cont</th>\n",
       "      <th></th>\n",
       "      <th></th>\n",
       "      <th></th>\n",
       "      <th></th>\n",
       "      <th></th>\n",
       "    </tr>\n",
       "  </thead>\n",
       "  <tbody>\n",
       "    <tr>\n",
       "      <th>41084</th>\n",
       "      <td>7</td>\n",
       "      <td>chr19</td>\n",
       "      <td>35755493</td>\n",
       "      <td>35756004</td>\n",
       "      <td>0.481751</td>\n",
       "    </tr>\n",
       "    <tr>\n",
       "      <th>30316</th>\n",
       "      <td>7</td>\n",
       "      <td>chr13</td>\n",
       "      <td>30905990</td>\n",
       "      <td>30906525</td>\n",
       "      <td>0.490382</td>\n",
       "    </tr>\n",
       "    <tr>\n",
       "      <th>42916</th>\n",
       "      <td>5</td>\n",
       "      <td>chr20</td>\n",
       "      <td>21391487</td>\n",
       "      <td>21392168</td>\n",
       "      <td>0.509066</td>\n",
       "    </tr>\n",
       "    <tr>\n",
       "      <th>16728</th>\n",
       "      <td>6</td>\n",
       "      <td>chr6</td>\n",
       "      <td>117481424</td>\n",
       "      <td>117481998</td>\n",
       "      <td>0.509642</td>\n",
       "    </tr>\n",
       "    <tr>\n",
       "      <th>34070</th>\n",
       "      <td>6</td>\n",
       "      <td>chr16</td>\n",
       "      <td>693924</td>\n",
       "      <td>694938</td>\n",
       "      <td>0.532847</td>\n",
       "    </tr>\n",
       "    <tr>\n",
       "      <th>1994</th>\n",
       "      <td>6</td>\n",
       "      <td>chr1</td>\n",
       "      <td>52842924</td>\n",
       "      <td>52843588</td>\n",
       "      <td>0.533822</td>\n",
       "    </tr>\n",
       "    <tr>\n",
       "      <th>7722</th>\n",
       "      <td>6</td>\n",
       "      <td>chr2</td>\n",
       "      <td>218872669</td>\n",
       "      <td>218874009</td>\n",
       "      <td>0.552954</td>\n",
       "    </tr>\n",
       "    <tr>\n",
       "      <th>2214</th>\n",
       "      <td>5</td>\n",
       "      <td>chr1</td>\n",
       "      <td>68046855</td>\n",
       "      <td>68047161</td>\n",
       "      <td>0.581576</td>\n",
       "    </tr>\n",
       "    <tr>\n",
       "      <th>16807</th>\n",
       "      <td>5</td>\n",
       "      <td>chr6</td>\n",
       "      <td>127514604</td>\n",
       "      <td>127515013</td>\n",
       "      <td>0.624143</td>\n",
       "    </tr>\n",
       "    <tr>\n",
       "      <th>9058</th>\n",
       "      <td>7</td>\n",
       "      <td>chr3</td>\n",
       "      <td>51706724</td>\n",
       "      <td>51707456</td>\n",
       "      <td>0.723285</td>\n",
       "    </tr>\n",
       "  </tbody>\n",
       "</table>\n",
       "</div>"
      ],
      "text/plain": [
       "       0    chr          b          e       cor\n",
       "cont                                           \n",
       "41084  7  chr19   35755493   35756004  0.481751\n",
       "30316  7  chr13   30905990   30906525  0.490382\n",
       "42916  5  chr20   21391487   21392168  0.509066\n",
       "16728  6   chr6  117481424  117481998  0.509642\n",
       "34070  6  chr16     693924     694938  0.532847\n",
       "1994   6   chr1   52842924   52843588  0.533822\n",
       "7722   6   chr2  218872669  218874009  0.552954\n",
       "2214   5   chr1   68046855   68047161  0.581576\n",
       "16807  5   chr6  127514604  127515013  0.624143\n",
       "9058   7   chr3   51706724   51707456  0.723285"
      ]
     },
     "execution_count": 212,
     "metadata": {},
     "output_type": "execute_result"
    }
   ],
   "source": [
    "topl.tail(10)"
   ]
  },
  {
   "cell_type": "code",
   "execution_count": 194,
   "id": "650438d6-24ba-4234-b05f-be41dc055db9",
   "metadata": {},
   "outputs": [
    {
     "data": {
      "text/html": [
       "<div>\n",
       "<style scoped>\n",
       "    .dataframe tbody tr th:only-of-type {\n",
       "        vertical-align: middle;\n",
       "    }\n",
       "\n",
       "    .dataframe tbody tr th {\n",
       "        vertical-align: top;\n",
       "    }\n",
       "\n",
       "    .dataframe thead th {\n",
       "        text-align: right;\n",
       "    }\n",
       "</style>\n",
       "<table border=\"1\" class=\"dataframe\">\n",
       "  <thead>\n",
       "    <tr style=\"text-align: right;\">\n",
       "      <th></th>\n",
       "      <th>0</th>\n",
       "      <th>chr</th>\n",
       "      <th>b</th>\n",
       "      <th>e</th>\n",
       "      <th>cor</th>\n",
       "    </tr>\n",
       "    <tr>\n",
       "      <th>cont</th>\n",
       "      <th></th>\n",
       "      <th></th>\n",
       "      <th></th>\n",
       "      <th></th>\n",
       "      <th></th>\n",
       "    </tr>\n",
       "  </thead>\n",
       "  <tbody>\n",
       "    <tr>\n",
       "      <th>102354</th>\n",
       "      <td>11</td>\n",
       "      <td>chr19</td>\n",
       "      <td>57708711</td>\n",
       "      <td>57709468</td>\n",
       "      <td>0.475737</td>\n",
       "    </tr>\n",
       "    <tr>\n",
       "      <th>23123</th>\n",
       "      <td>7</td>\n",
       "      <td>chr3</td>\n",
       "      <td>158094228</td>\n",
       "      <td>158095627</td>\n",
       "      <td>0.476681</td>\n",
       "    </tr>\n",
       "    <tr>\n",
       "      <th>5060</th>\n",
       "      <td>10</td>\n",
       "      <td>chr1</td>\n",
       "      <td>68046855</td>\n",
       "      <td>68049525</td>\n",
       "      <td>0.478658</td>\n",
       "    </tr>\n",
       "    <tr>\n",
       "      <th>74531</th>\n",
       "      <td>7</td>\n",
       "      <td>chr13</td>\n",
       "      <td>30905990</td>\n",
       "      <td>30906525</td>\n",
       "      <td>0.490382</td>\n",
       "    </tr>\n",
       "    <tr>\n",
       "      <th>17184</th>\n",
       "      <td>7</td>\n",
       "      <td>chr2</td>\n",
       "      <td>218872669</td>\n",
       "      <td>218874841</td>\n",
       "      <td>0.495426</td>\n",
       "    </tr>\n",
       "    <tr>\n",
       "      <th>103079</th>\n",
       "      <td>5</td>\n",
       "      <td>chr20</td>\n",
       "      <td>21391487</td>\n",
       "      <td>21392168</td>\n",
       "      <td>0.509066</td>\n",
       "    </tr>\n",
       "    <tr>\n",
       "      <th>40364</th>\n",
       "      <td>6</td>\n",
       "      <td>chr6</td>\n",
       "      <td>117481424</td>\n",
       "      <td>117481998</td>\n",
       "      <td>0.509642</td>\n",
       "    </tr>\n",
       "    <tr>\n",
       "      <th>83880</th>\n",
       "      <td>6</td>\n",
       "      <td>chr16</td>\n",
       "      <td>693924</td>\n",
       "      <td>694938</td>\n",
       "      <td>0.532847</td>\n",
       "    </tr>\n",
       "    <tr>\n",
       "      <th>40519</th>\n",
       "      <td>5</td>\n",
       "      <td>chr6</td>\n",
       "      <td>127514604</td>\n",
       "      <td>127515013</td>\n",
       "      <td>0.624143</td>\n",
       "    </tr>\n",
       "    <tr>\n",
       "      <th>20511</th>\n",
       "      <td>7</td>\n",
       "      <td>chr3</td>\n",
       "      <td>51706724</td>\n",
       "      <td>51707456</td>\n",
       "      <td>0.723285</td>\n",
       "    </tr>\n",
       "  </tbody>\n",
       "</table>\n",
       "</div>"
      ],
      "text/plain": [
       "         0    chr          b          e       cor\n",
       "cont                                             \n",
       "102354  11  chr19   57708711   57709468  0.475737\n",
       "23123    7   chr3  158094228  158095627  0.476681\n",
       "5060    10   chr1   68046855   68049525  0.478658\n",
       "74531    7  chr13   30905990   30906525  0.490382\n",
       "17184    7   chr2  218872669  218874841  0.495426\n",
       "103079   5  chr20   21391487   21392168  0.509066\n",
       "40364    6   chr6  117481424  117481998  0.509642\n",
       "83880    6  chr16     693924     694938  0.532847\n",
       "40519    5   chr6  127514604  127515013  0.624143\n",
       "20511    7   chr3   51706724   51707456  0.723285"
      ]
     },
     "execution_count": 194,
     "metadata": {},
     "output_type": "execute_result"
    }
   ],
   "source": []
  },
  {
   "cell_type": "code",
   "execution_count": null,
   "id": "a2b5af84-4f2e-4b6a-a952-ef02483c96b3",
   "metadata": {},
   "outputs": [],
   "source": []
  },
  {
   "cell_type": "code",
   "execution_count": null,
   "id": "7f8a04ea-042a-4768-85ac-271fa2692a74",
   "metadata": {},
   "outputs": [],
   "source": []
  },
  {
   "cell_type": "code",
   "execution_count": null,
   "id": "9e300154-fb75-4f76-ad0a-406dcd26d8f6",
   "metadata": {},
   "outputs": [],
   "source": [
    "%%time\n",
    "mono_='data/cell/GSE56046_methylome_normalized.txt'\n",
    "mono=pd.read_table(mono_,index_col=0,usecols=[0]+list(range(1,201,2)))\n",
    "p2=pow(2,mono).round(3)\n",
    "mono=p2/(p2+1)\n",
    "age=pd.read_table('https://ftp.ncbi.nlm.nih.gov/geo/series/GSE56nnn/GSE56046/matrix/GSE56046_series_matrix.txt.gz',skiprows=46,\n",
    "             index_col=0).iloc[10].str.strip('age (yrs): ').astype(int)\n",
    "mono_t=mono.T\n",
    "mono_t['age']=age.head(100).values\n",
    "mono_cor=mono_t.corrwith(mono_t['age']).drop('age').sort_values()"
   ]
  },
  {
   "cell_type": "code",
   "execution_count": null,
   "id": "04c2ef77-a13c-457e-8e74-ee036c0a4b19",
   "metadata": {},
   "outputs": [],
   "source": [
    "%%time\n",
    "t_='data/cell/GSE56581_methylome_normalized.txt'\n",
    "t=pd.read_table(t_,index_col=0,usecols=[0]+list(range(1,201,2)))\n",
    "p2=pow(2,t).round(3)\n",
    "t=p2/(p2+1)\n",
    "age=pd.read_table('https://ftp.ncbi.nlm.nih.gov/geo/series/GSE56nnn/GSE56581/matrix/GSE56581_series_matrix.txt.gz',skiprows=40,\n",
    "             index_col=0).iloc[10].str.strip('age (yrs): ').astype(int)\n",
    "t_t=t.T\n",
    "t_t['age']=age.head(100).values\n",
    "t_cor=t_t.corrwith(t_t['age']).drop('age').sort_values()"
   ]
  },
  {
   "cell_type": "code",
   "execution_count": null,
   "id": "cb75bd91-d00e-41e5-b36b-8888ff936b60",
   "metadata": {},
   "outputs": [],
   "source": [
    "%%time\n",
    "liver_='data/cell/GSE48325_series_matrix.txt'\n",
    "liver=pd.read_table(liver_,skiprows=27+33,index_col=0).round(3)\n",
    "age=pd.read_table(liver_,skiprows=27,nrows=50,index_col=0).iloc[8].str.strip('age: ').astype(int)\n",
    "liver_t=liver.T\n",
    "liver_t['age']=age.values\n",
    "liver_cor=liver_t.corrwith(liver_t['age']).drop('age').sort_values()"
   ]
  },
  {
   "cell_type": "code",
   "execution_count": null,
   "id": "ec6586d9-8661-4a05-bf05-f61ff9e14856",
   "metadata": {},
   "outputs": [],
   "source": [
    "dd=pd.concat([wb_cor,t_cor,mono_cor,liver_cor],axis=1).drop('!series_matrix_table_end')\n",
    "dd.corr()"
   ]
  },
  {
   "cell_type": "code",
   "execution_count": null,
   "id": "7de61c79-cdb7-4894-9d09-3a0a6e1adf5a",
   "metadata": {},
   "outputs": [],
   "source": [
    "t_hm=pd.read_table('../Blood-DNA-Methylation-Atlas/data/merge/hm450/cd4.meth',header=None,skiprows=860,index_col=3)[[0,1,4]]\n",
    "m_hm=pd.read_table('../Blood-DNA-Methylation-Atlas/data/merge/hm450/mono.meth',header=None,skiprows=860,index_col=3)[[0,1,4]]"
   ]
  },
  {
   "cell_type": "code",
   "execution_count": null,
   "id": "7ef6ba0c-d177-4076-9a84-03713aa9b2b4",
   "metadata": {},
   "outputs": [],
   "source": []
  }
 ],
 "metadata": {
  "kernelspec": {
   "display_name": "meth",
   "language": "python",
   "name": "meth"
  },
  "language_info": {
   "codemirror_mode": {
    "name": "ipython",
    "version": 3
   },
   "file_extension": ".py",
   "mimetype": "text/x-python",
   "name": "python",
   "nbconvert_exporter": "python",
   "pygments_lexer": "ipython3",
   "version": "3.10.9"
  }
 },
 "nbformat": 4,
 "nbformat_minor": 5
}
