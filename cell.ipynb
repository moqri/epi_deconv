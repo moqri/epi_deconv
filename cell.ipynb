{
 "cells": [
  {
   "cell_type": "code",
   "execution_count": 1,
   "id": "d011a887-693c-401d-8504-94927799cb71",
   "metadata": {},
   "outputs": [],
   "source": [
    "import pandas as pd\n",
    "import numpy as np\n",
    "import seaborn as sns\n",
    "from biolearn.data_library import DataLibrary"
   ]
  },
  {
   "cell_type": "code",
   "execution_count": 2,
   "id": "b2a6a3ae-8d4c-49e8-aa63-78511d85ca4c",
   "metadata": {},
   "outputs": [],
   "source": [
    "man=pd.read_table('../Blood-DNA-Methylation-Atlas/ref/HM450.hg38.manifest.tsv',index_col='Probe_ID')[['CpG_chrm','CpG_beg']]\n",
    "man=man.dropna().copy()\n",
    "man['CpG_beg']=man['CpG_beg'].astype(int)\n",
    "man.columns=[0,1]\n",
    "man['cg']=man.index"
   ]
  },
  {
   "cell_type": "code",
   "execution_count": 3,
   "id": "da341b49-4e6b-49d6-8bfc-ddf4897ee075",
   "metadata": {},
   "outputs": [
    {
     "name": "stdout",
     "output_type": "stream",
     "text": [
      "CPU times: user 7.6 s, sys: 936 ms, total: 8.53 s\n",
      "Wall time: 8.61 s\n"
     ]
    }
   ],
   "source": [
    "%%time \n",
    "wb_='data/cell/GSE41169_series_matrix.txt'\n",
    "age=pd.read_table(wb_,skiprows=32+14,nrows=0,index_col=0).columns.str.strip('age: ').astype(float).tolist()\n",
    "wb=pd.read_table(wb_,skiprows=32+14+26,index_col=0).drop('!series_matrix_table_end').round(3)"
   ]
  },
  {
   "cell_type": "code",
   "execution_count": 4,
   "id": "ed5a16bf-7762-4d9e-a62a-715f64cde48d",
   "metadata": {},
   "outputs": [
    {
     "name": "stdout",
     "output_type": "stream",
     "text": [
      "CPU times: user 2min 2s, sys: 147 ms, total: 2min 2s\n",
      "Wall time: 2min 2s\n"
     ]
    }
   ],
   "source": [
    "%%time \n",
    "wb_t=wb.T\n",
    "wb_t['age']=age\n",
    "wb_cor=wb_t.corrwith(wb_t['age']).drop('age').sort_values()"
   ]
  },
  {
   "cell_type": "code",
   "execution_count": 9,
   "id": "f6a8232b-e537-44ea-a401-4d3ad73ee809",
   "metadata": {},
   "outputs": [],
   "source": [
    "hmr=pd.read_table('/labs/mpsnyder/moqri/epi_deconv/data/arc/hmr/neo',header=None,index_col=3,usecols=[0,1,2,3])\n",
    "hmr['b']=hmr[0].str[3:].astype(int)*10**9+hmr[1]\n",
    "hmr['e']=hmr[0].str[3:].astype(int)*10**9+hmr[2]\n",
    "hmr=hmr.sort_values('b')"
   ]
  },
  {
   "cell_type": "code",
   "execution_count": 8,
   "id": "1301691f-7e72-412c-8297-94ef50cf4fe5",
   "metadata": {},
   "outputs": [],
   "source": [
    "man=man.merge(wb_cor.rename('cor'),left_index=True,right_index=True)\n",
    "man=man[man[0].isin('chr'+str(c) for c in range(1,23))].copy()\n",
    "man['pos']=man[0].str[3:].astype(int)*10**9+man[1]\n",
    "man=man.sort_values('pos')"
   ]
  },
  {
   "cell_type": "code",
   "execution_count": 21,
   "id": "389cd469-c03d-4d98-aa82-c609d8ad7334",
   "metadata": {},
   "outputs": [
    {
     "data": {
      "text/plain": [
       "True"
      ]
     },
     "execution_count": 21,
     "metadata": {},
     "output_type": "execute_result"
    }
   ],
   "source": [
    "cur>=len(hmr)"
   ]
  },
  {
   "cell_type": "code",
   "execution_count": 22,
   "id": "1811c6c6-9803-4bfe-bc93-ddb62d91ad97",
   "metadata": {},
   "outputs": [
    {
     "name": "stdout",
     "output_type": "stream",
     "text": [
      "CPU times: user 22.4 s, sys: 15.2 ms, total: 22.4 s\n",
      "Wall time: 22.4 s\n"
     ]
    }
   ],
   "source": [
    "%%time\n",
    "l=[]\n",
    "cur=0\n",
    "for i in range(len(man)):\n",
    "    if cur>=len(hmr):\n",
    "        l.append('nan')\n",
    "    else: \n",
    "        pos=man['pos'].iloc[i]\n",
    "        cg=man['cg'].iloc[i]\n",
    "        b=hmr['b'].iloc[cur]\n",
    "        e=hmr['e'].iloc[cur]        \n",
    "        if pos<b:\n",
    "            l.append('nan')\n",
    "        if pos>=b and pos<=e:\n",
    "            l.append(cur)\n",
    "        if pos>e:\n",
    "            l.append('nan')\n",
    "            cur+=1"
   ]
  },
  {
   "cell_type": "code",
   "execution_count": 24,
   "id": "1765c345-960a-403d-bfb6-f6e48e3e4c95",
   "metadata": {},
   "outputs": [],
   "source": [
    "man['l']=l"
   ]
  },
  {
   "cell_type": "code",
   "execution_count": 25,
   "id": "49ec035e-7b68-4568-9b97-d06c622f83c5",
   "metadata": {},
   "outputs": [
    {
     "data": {
      "text/html": [
       "<div>\n",
       "<style scoped>\n",
       "    .dataframe tbody tr th:only-of-type {\n",
       "        vertical-align: middle;\n",
       "    }\n",
       "\n",
       "    .dataframe tbody tr th {\n",
       "        vertical-align: top;\n",
       "    }\n",
       "\n",
       "    .dataframe thead th {\n",
       "        text-align: right;\n",
       "    }\n",
       "</style>\n",
       "<table border=\"1\" class=\"dataframe\">\n",
       "  <thead>\n",
       "    <tr style=\"text-align: right;\">\n",
       "      <th></th>\n",
       "      <th>cor</th>\n",
       "      <th>c</th>\n",
       "    </tr>\n",
       "    <tr>\n",
       "      <th>l</th>\n",
       "      <th></th>\n",
       "      <th></th>\n",
       "    </tr>\n",
       "  </thead>\n",
       "  <tbody>\n",
       "    <tr>\n",
       "      <th>36634</th>\n",
       "      <td>0.449117</td>\n",
       "      <td>6</td>\n",
       "    </tr>\n",
       "    <tr>\n",
       "      <th>19194</th>\n",
       "      <td>0.449230</td>\n",
       "      <td>5</td>\n",
       "    </tr>\n",
       "    <tr>\n",
       "      <th>41521</th>\n",
       "      <td>0.458695</td>\n",
       "      <td>6</td>\n",
       "    </tr>\n",
       "    <tr>\n",
       "      <th>42161</th>\n",
       "      <td>0.459930</td>\n",
       "      <td>12</td>\n",
       "    </tr>\n",
       "    <tr>\n",
       "      <th>42406</th>\n",
       "      <td>0.475737</td>\n",
       "      <td>11</td>\n",
       "    </tr>\n",
       "    <tr>\n",
       "      <th>12403</th>\n",
       "      <td>0.477521</td>\n",
       "      <td>11</td>\n",
       "    </tr>\n",
       "    <tr>\n",
       "      <th>41187</th>\n",
       "      <td>0.481751</td>\n",
       "      <td>7</td>\n",
       "    </tr>\n",
       "    <tr>\n",
       "      <th>1989</th>\n",
       "      <td>0.533822</td>\n",
       "      <td>6</td>\n",
       "    </tr>\n",
       "    <tr>\n",
       "      <th>2189</th>\n",
       "      <td>0.581576</td>\n",
       "      <td>5</td>\n",
       "    </tr>\n",
       "    <tr>\n",
       "      <th>8586</th>\n",
       "      <td>0.723285</td>\n",
       "      <td>7</td>\n",
       "    </tr>\n",
       "  </tbody>\n",
       "</table>\n",
       "</div>"
      ],
      "text/plain": [
       "            cor   c\n",
       "l                  \n",
       "36634  0.449117   6\n",
       "19194  0.449230   5\n",
       "41521  0.458695   6\n",
       "42161  0.459930  12\n",
       "42406  0.475737  11\n",
       "12403  0.477521  11\n",
       "41187  0.481751   7\n",
       "1989   0.533822   6\n",
       "2189   0.581576   5\n",
       "8586   0.723285   7"
      ]
     },
     "execution_count": 25,
     "metadata": {},
     "output_type": "execute_result"
    }
   ],
   "source": [
    "mg=pd.DataFrame(man.groupby('l')['cor'].mean())\n",
    "mg['c']=man.groupby('l')['cor'].count()\n",
    "mg[mg['c']>=5].sort_values('cor').tail(10)"
   ]
  },
  {
   "cell_type": "code",
   "execution_count": 26,
   "id": "54d497e0-8dce-4e08-bb17-156cdd840728",
   "metadata": {},
   "outputs": [
    {
     "data": {
      "text/html": [
       "<div>\n",
       "<style scoped>\n",
       "    .dataframe tbody tr th:only-of-type {\n",
       "        vertical-align: middle;\n",
       "    }\n",
       "\n",
       "    .dataframe tbody tr th {\n",
       "        vertical-align: top;\n",
       "    }\n",
       "\n",
       "    .dataframe thead th {\n",
       "        text-align: right;\n",
       "    }\n",
       "</style>\n",
       "<table border=\"1\" class=\"dataframe\">\n",
       "  <thead>\n",
       "    <tr style=\"text-align: right;\">\n",
       "      <th></th>\n",
       "      <th>0</th>\n",
       "      <th>1</th>\n",
       "      <th>2</th>\n",
       "      <th>b</th>\n",
       "      <th>e</th>\n",
       "    </tr>\n",
       "    <tr>\n",
       "      <th>3</th>\n",
       "      <th></th>\n",
       "      <th></th>\n",
       "      <th></th>\n",
       "      <th></th>\n",
       "      <th></th>\n",
       "    </tr>\n",
       "  </thead>\n",
       "  <tbody>\n",
       "    <tr>\n",
       "      <th>HYPO18969</th>\n",
       "      <td>chr17</td>\n",
       "      <td>28985870</td>\n",
       "      <td>28986481</td>\n",
       "      <td>17028985870</td>\n",
       "      <td>17028986481</td>\n",
       "    </tr>\n",
       "    <tr>\n",
       "      <th>HYPO43087</th>\n",
       "      <td>chr8</td>\n",
       "      <td>56447897</td>\n",
       "      <td>56448292</td>\n",
       "      <td>8056447897</td>\n",
       "      <td>8056448292</td>\n",
       "    </tr>\n",
       "    <tr>\n",
       "      <th>HYPO23856</th>\n",
       "      <td>chr19</td>\n",
       "      <td>41996936</td>\n",
       "      <td>41999519</td>\n",
       "      <td>19041996936</td>\n",
       "      <td>19041999519</td>\n",
       "    </tr>\n",
       "    <tr>\n",
       "      <th>HYPO24496</th>\n",
       "      <td>chr19</td>\n",
       "      <td>51887336</td>\n",
       "      <td>51888227</td>\n",
       "      <td>19051887336</td>\n",
       "      <td>19051888227</td>\n",
       "    </tr>\n",
       "    <tr>\n",
       "      <th>HYPO24741</th>\n",
       "      <td>chr19</td>\n",
       "      <td>57708673</td>\n",
       "      <td>57709644</td>\n",
       "      <td>19057708673</td>\n",
       "      <td>19057709644</td>\n",
       "    </tr>\n",
       "    <tr>\n",
       "      <th>HYPO36296</th>\n",
       "      <td>chr5</td>\n",
       "      <td>93620363</td>\n",
       "      <td>93621878</td>\n",
       "      <td>5093620363</td>\n",
       "      <td>5093621878</td>\n",
       "    </tr>\n",
       "    <tr>\n",
       "      <th>HYPO23522</th>\n",
       "      <td>chr19</td>\n",
       "      <td>35755461</td>\n",
       "      <td>35756232</td>\n",
       "      <td>19035755461</td>\n",
       "      <td>19035756232</td>\n",
       "    </tr>\n",
       "    <tr>\n",
       "      <th>HYPO1989</th>\n",
       "      <td>chr1</td>\n",
       "      <td>52842501</td>\n",
       "      <td>52844181</td>\n",
       "      <td>1052842501</td>\n",
       "      <td>1052844181</td>\n",
       "    </tr>\n",
       "    <tr>\n",
       "      <th>HYPO2189</th>\n",
       "      <td>chr1</td>\n",
       "      <td>68046821</td>\n",
       "      <td>68047168</td>\n",
       "      <td>1068046821</td>\n",
       "      <td>1068047168</td>\n",
       "    </tr>\n",
       "    <tr>\n",
       "      <th>HYPO32479</th>\n",
       "      <td>chr3</td>\n",
       "      <td>51706724</td>\n",
       "      <td>51707741</td>\n",
       "      <td>3051706724</td>\n",
       "      <td>3051707741</td>\n",
       "    </tr>\n",
       "  </tbody>\n",
       "</table>\n",
       "</div>"
      ],
      "text/plain": [
       "               0         1         2            b            e\n",
       "3                                                             \n",
       "HYPO18969  chr17  28985870  28986481  17028985870  17028986481\n",
       "HYPO43087   chr8  56447897  56448292   8056447897   8056448292\n",
       "HYPO23856  chr19  41996936  41999519  19041996936  19041999519\n",
       "HYPO24496  chr19  51887336  51888227  19051887336  19051888227\n",
       "HYPO24741  chr19  57708673  57709644  19057708673  19057709644\n",
       "HYPO36296   chr5  93620363  93621878   5093620363   5093621878\n",
       "HYPO23522  chr19  35755461  35756232  19035755461  19035756232\n",
       "HYPO1989    chr1  52842501  52844181   1052842501   1052844181\n",
       "HYPO2189    chr1  68046821  68047168   1068046821   1068047168\n",
       "HYPO32479   chr3  51706724  51707741   3051706724   3051707741"
      ]
     },
     "execution_count": 26,
     "metadata": {},
     "output_type": "execute_result"
    }
   ],
   "source": [
    "hmr.iloc[mg[mg['c']>=5].sort_values('cor').tail(10).index]"
   ]
  },
  {
   "cell_type": "code",
   "execution_count": 46,
   "id": "91890877-8146-46d6-8e61-741c72b81607",
   "metadata": {},
   "outputs": [
    {
     "ename": "KeyboardInterrupt",
     "evalue": "",
     "output_type": "error",
     "traceback": [
      "\u001b[0;31m---------------------------------------------------------------------------\u001b[0m",
      "\u001b[0;31mKeyboardInterrupt\u001b[0m                         Traceback (most recent call last)",
      "File \u001b[0;32m<timed exec>:6\u001b[0m\n",
      "File \u001b[0;32m~/miniconda3/envs/meth/lib/python3.10/site-packages/pandas/core/ops/common.py:72\u001b[0m, in \u001b[0;36m_unpack_zerodim_and_defer.<locals>.new_method\u001b[0;34m(self, other)\u001b[0m\n\u001b[1;32m     68\u001b[0m             \u001b[38;5;28;01mreturn\u001b[39;00m \u001b[38;5;28mNotImplemented\u001b[39m\n\u001b[1;32m     70\u001b[0m other \u001b[38;5;241m=\u001b[39m item_from_zerodim(other)\n\u001b[0;32m---> 72\u001b[0m \u001b[38;5;28;01mreturn\u001b[39;00m \u001b[43mmethod\u001b[49m\u001b[43m(\u001b[49m\u001b[38;5;28;43mself\u001b[39;49m\u001b[43m,\u001b[49m\u001b[43m \u001b[49m\u001b[43mother\u001b[49m\u001b[43m)\u001b[49m\n",
      "File \u001b[0;32m~/miniconda3/envs/meth/lib/python3.10/site-packages/pandas/core/arraylike.py:42\u001b[0m, in \u001b[0;36mOpsMixin.__eq__\u001b[0;34m(self, other)\u001b[0m\n\u001b[1;32m     40\u001b[0m \u001b[38;5;129m@unpack_zerodim_and_defer\u001b[39m(\u001b[38;5;124m\"\u001b[39m\u001b[38;5;124m__eq__\u001b[39m\u001b[38;5;124m\"\u001b[39m)\n\u001b[1;32m     41\u001b[0m \u001b[38;5;28;01mdef\u001b[39;00m \u001b[38;5;21m__eq__\u001b[39m(\u001b[38;5;28mself\u001b[39m, other):\n\u001b[0;32m---> 42\u001b[0m     \u001b[38;5;28;01mreturn\u001b[39;00m \u001b[38;5;28;43mself\u001b[39;49m\u001b[38;5;241;43m.\u001b[39;49m\u001b[43m_cmp_method\u001b[49m\u001b[43m(\u001b[49m\u001b[43mother\u001b[49m\u001b[43m,\u001b[49m\u001b[43m \u001b[49m\u001b[43moperator\u001b[49m\u001b[38;5;241;43m.\u001b[39;49m\u001b[43meq\u001b[49m\u001b[43m)\u001b[49m\n",
      "File \u001b[0;32m~/miniconda3/envs/meth/lib/python3.10/site-packages/pandas/core/series.py:6243\u001b[0m, in \u001b[0;36mSeries._cmp_method\u001b[0;34m(self, other, op)\u001b[0m\n\u001b[1;32m   6240\u001b[0m rvalues \u001b[38;5;241m=\u001b[39m extract_array(other, extract_numpy\u001b[38;5;241m=\u001b[39m\u001b[38;5;28;01mTrue\u001b[39;00m, extract_range\u001b[38;5;241m=\u001b[39m\u001b[38;5;28;01mTrue\u001b[39;00m)\n\u001b[1;32m   6242\u001b[0m \u001b[38;5;28;01mwith\u001b[39;00m np\u001b[38;5;241m.\u001b[39merrstate(\u001b[38;5;28mall\u001b[39m\u001b[38;5;241m=\u001b[39m\u001b[38;5;124m\"\u001b[39m\u001b[38;5;124mignore\u001b[39m\u001b[38;5;124m\"\u001b[39m):\n\u001b[0;32m-> 6243\u001b[0m     res_values \u001b[38;5;241m=\u001b[39m \u001b[43mops\u001b[49m\u001b[38;5;241;43m.\u001b[39;49m\u001b[43mcomparison_op\u001b[49m\u001b[43m(\u001b[49m\u001b[43mlvalues\u001b[49m\u001b[43m,\u001b[49m\u001b[43m \u001b[49m\u001b[43mrvalues\u001b[49m\u001b[43m,\u001b[49m\u001b[43m \u001b[49m\u001b[43mop\u001b[49m\u001b[43m)\u001b[49m\n\u001b[1;32m   6245\u001b[0m \u001b[38;5;28;01mreturn\u001b[39;00m \u001b[38;5;28mself\u001b[39m\u001b[38;5;241m.\u001b[39m_construct_result(res_values, name\u001b[38;5;241m=\u001b[39mres_name)\n",
      "File \u001b[0;32m~/miniconda3/envs/meth/lib/python3.10/site-packages/pandas/core/ops/array_ops.py:287\u001b[0m, in \u001b[0;36mcomparison_op\u001b[0;34m(left, right, op)\u001b[0m\n\u001b[1;32m    284\u001b[0m     \u001b[38;5;28;01mreturn\u001b[39;00m invalid_comparison(lvalues, rvalues, op)\n\u001b[1;32m    286\u001b[0m \u001b[38;5;28;01melif\u001b[39;00m is_object_dtype(lvalues\u001b[38;5;241m.\u001b[39mdtype) \u001b[38;5;129;01mor\u001b[39;00m \u001b[38;5;28misinstance\u001b[39m(rvalues, \u001b[38;5;28mstr\u001b[39m):\n\u001b[0;32m--> 287\u001b[0m     res_values \u001b[38;5;241m=\u001b[39m \u001b[43mcomp_method_OBJECT_ARRAY\u001b[49m\u001b[43m(\u001b[49m\u001b[43mop\u001b[49m\u001b[43m,\u001b[49m\u001b[43m \u001b[49m\u001b[43mlvalues\u001b[49m\u001b[43m,\u001b[49m\u001b[43m \u001b[49m\u001b[43mrvalues\u001b[49m\u001b[43m)\u001b[49m\n\u001b[1;32m    289\u001b[0m \u001b[38;5;28;01melse\u001b[39;00m:\n\u001b[1;32m    290\u001b[0m     res_values \u001b[38;5;241m=\u001b[39m _na_arithmetic_op(lvalues, rvalues, op, is_cmp\u001b[38;5;241m=\u001b[39m\u001b[38;5;28;01mTrue\u001b[39;00m)\n",
      "File \u001b[0;32m~/miniconda3/envs/meth/lib/python3.10/site-packages/pandas/core/ops/array_ops.py:75\u001b[0m, in \u001b[0;36mcomp_method_OBJECT_ARRAY\u001b[0;34m(op, x, y)\u001b[0m\n\u001b[1;32m     73\u001b[0m     result \u001b[38;5;241m=\u001b[39m libops\u001b[38;5;241m.\u001b[39mvec_compare(x\u001b[38;5;241m.\u001b[39mravel(), y\u001b[38;5;241m.\u001b[39mravel(), op)\n\u001b[1;32m     74\u001b[0m \u001b[38;5;28;01melse\u001b[39;00m:\n\u001b[0;32m---> 75\u001b[0m     result \u001b[38;5;241m=\u001b[39m \u001b[43mlibops\u001b[49m\u001b[38;5;241;43m.\u001b[39;49m\u001b[43mscalar_compare\u001b[49m\u001b[43m(\u001b[49m\u001b[43mx\u001b[49m\u001b[38;5;241;43m.\u001b[39;49m\u001b[43mravel\u001b[49m\u001b[43m(\u001b[49m\u001b[43m)\u001b[49m\u001b[43m,\u001b[49m\u001b[43m \u001b[49m\u001b[43my\u001b[49m\u001b[43m,\u001b[49m\u001b[43m \u001b[49m\u001b[43mop\u001b[49m\u001b[43m)\u001b[49m\n\u001b[1;32m     76\u001b[0m \u001b[38;5;28;01mreturn\u001b[39;00m result\u001b[38;5;241m.\u001b[39mreshape(x\u001b[38;5;241m.\u001b[39mshape)\n",
      "\u001b[0;31mKeyboardInterrupt\u001b[0m: "
     ]
    }
   ],
   "source": [
    "%%time\n",
    "hyp=[]\n",
    "for i in top.index:\n",
    "    if i in man.index:      \n",
    "        ch=man.loc[i][0]\n",
    "        pos=man.loc[i][1]\n",
    "        if len(hmr[(hmr[0]==ch)&(hmr[1]<pos)&(hmr[2]>pos)])>0:\n",
    "            hyp.append(hmr[(hmr[0]==ch)&(hmr[1]<pos)&(hmr[2]>pos)].index.tolist()[0])\n",
    "        else:\n",
    "            hyp.append('nan')\n",
    "    else:\n",
    "        hyp.append('nan')"
   ]
  },
  {
   "cell_type": "code",
   "execution_count": 47,
   "id": "070ca00f-4c86-4ed5-baa1-38edf275ca39",
   "metadata": {},
   "outputs": [
    {
     "ename": "ValueError",
     "evalue": "Length of values (367925) does not match length of index (485577)",
     "output_type": "error",
     "traceback": [
      "\u001b[0;31m---------------------------------------------------------------------------\u001b[0m",
      "\u001b[0;31mValueError\u001b[0m                                Traceback (most recent call last)",
      "Cell \u001b[0;32mIn[47], line 1\u001b[0m\n\u001b[0;32m----> 1\u001b[0m top[\u001b[38;5;124m'\u001b[39m\u001b[38;5;124mhyp\u001b[39m\u001b[38;5;124m'\u001b[39m]\u001b[38;5;241m=\u001b[39mhyp\n",
      "File \u001b[0;32m~/miniconda3/envs/meth/lib/python3.10/site-packages/pandas/core/frame.py:3978\u001b[0m, in \u001b[0;36mDataFrame.__setitem__\u001b[0;34m(self, key, value)\u001b[0m\n\u001b[1;32m   3975\u001b[0m     \u001b[38;5;28mself\u001b[39m\u001b[38;5;241m.\u001b[39m_setitem_array([key], value)\n\u001b[1;32m   3976\u001b[0m \u001b[38;5;28;01melse\u001b[39;00m:\n\u001b[1;32m   3977\u001b[0m     \u001b[38;5;66;03m# set column\u001b[39;00m\n\u001b[0;32m-> 3978\u001b[0m     \u001b[38;5;28;43mself\u001b[39;49m\u001b[38;5;241;43m.\u001b[39;49m\u001b[43m_set_item\u001b[49m\u001b[43m(\u001b[49m\u001b[43mkey\u001b[49m\u001b[43m,\u001b[49m\u001b[43m \u001b[49m\u001b[43mvalue\u001b[49m\u001b[43m)\u001b[49m\n",
      "File \u001b[0;32m~/miniconda3/envs/meth/lib/python3.10/site-packages/pandas/core/frame.py:4172\u001b[0m, in \u001b[0;36mDataFrame._set_item\u001b[0;34m(self, key, value)\u001b[0m\n\u001b[1;32m   4162\u001b[0m \u001b[38;5;28;01mdef\u001b[39;00m \u001b[38;5;21m_set_item\u001b[39m(\u001b[38;5;28mself\u001b[39m, key, value) \u001b[38;5;241m-\u001b[39m\u001b[38;5;241m>\u001b[39m \u001b[38;5;28;01mNone\u001b[39;00m:\n\u001b[1;32m   4163\u001b[0m \u001b[38;5;250m    \u001b[39m\u001b[38;5;124;03m\"\"\"\u001b[39;00m\n\u001b[1;32m   4164\u001b[0m \u001b[38;5;124;03m    Add series to DataFrame in specified column.\u001b[39;00m\n\u001b[1;32m   4165\u001b[0m \n\u001b[0;32m   (...)\u001b[0m\n\u001b[1;32m   4170\u001b[0m \u001b[38;5;124;03m    ensure homogeneity.\u001b[39;00m\n\u001b[1;32m   4171\u001b[0m \u001b[38;5;124;03m    \"\"\"\u001b[39;00m\n\u001b[0;32m-> 4172\u001b[0m     value \u001b[38;5;241m=\u001b[39m \u001b[38;5;28;43mself\u001b[39;49m\u001b[38;5;241;43m.\u001b[39;49m\u001b[43m_sanitize_column\u001b[49m\u001b[43m(\u001b[49m\u001b[43mvalue\u001b[49m\u001b[43m)\u001b[49m\n\u001b[1;32m   4174\u001b[0m     \u001b[38;5;28;01mif\u001b[39;00m (\n\u001b[1;32m   4175\u001b[0m         key \u001b[38;5;129;01min\u001b[39;00m \u001b[38;5;28mself\u001b[39m\u001b[38;5;241m.\u001b[39mcolumns\n\u001b[1;32m   4176\u001b[0m         \u001b[38;5;129;01mand\u001b[39;00m value\u001b[38;5;241m.\u001b[39mndim \u001b[38;5;241m==\u001b[39m \u001b[38;5;241m1\u001b[39m\n\u001b[1;32m   4177\u001b[0m         \u001b[38;5;129;01mand\u001b[39;00m \u001b[38;5;129;01mnot\u001b[39;00m is_extension_array_dtype(value)\n\u001b[1;32m   4178\u001b[0m     ):\n\u001b[1;32m   4179\u001b[0m         \u001b[38;5;66;03m# broadcast across multiple columns if necessary\u001b[39;00m\n\u001b[1;32m   4180\u001b[0m         \u001b[38;5;28;01mif\u001b[39;00m \u001b[38;5;129;01mnot\u001b[39;00m \u001b[38;5;28mself\u001b[39m\u001b[38;5;241m.\u001b[39mcolumns\u001b[38;5;241m.\u001b[39mis_unique \u001b[38;5;129;01mor\u001b[39;00m \u001b[38;5;28misinstance\u001b[39m(\u001b[38;5;28mself\u001b[39m\u001b[38;5;241m.\u001b[39mcolumns, MultiIndex):\n",
      "File \u001b[0;32m~/miniconda3/envs/meth/lib/python3.10/site-packages/pandas/core/frame.py:4912\u001b[0m, in \u001b[0;36mDataFrame._sanitize_column\u001b[0;34m(self, value)\u001b[0m\n\u001b[1;32m   4909\u001b[0m     \u001b[38;5;28;01mreturn\u001b[39;00m _reindex_for_setitem(Series(value), \u001b[38;5;28mself\u001b[39m\u001b[38;5;241m.\u001b[39mindex)\n\u001b[1;32m   4911\u001b[0m \u001b[38;5;28;01mif\u001b[39;00m is_list_like(value):\n\u001b[0;32m-> 4912\u001b[0m     \u001b[43mcom\u001b[49m\u001b[38;5;241;43m.\u001b[39;49m\u001b[43mrequire_length_match\u001b[49m\u001b[43m(\u001b[49m\u001b[43mvalue\u001b[49m\u001b[43m,\u001b[49m\u001b[43m \u001b[49m\u001b[38;5;28;43mself\u001b[39;49m\u001b[38;5;241;43m.\u001b[39;49m\u001b[43mindex\u001b[49m\u001b[43m)\u001b[49m\n\u001b[1;32m   4913\u001b[0m \u001b[38;5;28;01mreturn\u001b[39;00m sanitize_array(value, \u001b[38;5;28mself\u001b[39m\u001b[38;5;241m.\u001b[39mindex, copy\u001b[38;5;241m=\u001b[39m\u001b[38;5;28;01mTrue\u001b[39;00m, allow_2d\u001b[38;5;241m=\u001b[39m\u001b[38;5;28;01mTrue\u001b[39;00m)\n",
      "File \u001b[0;32m~/miniconda3/envs/meth/lib/python3.10/site-packages/pandas/core/common.py:561\u001b[0m, in \u001b[0;36mrequire_length_match\u001b[0;34m(data, index)\u001b[0m\n\u001b[1;32m    557\u001b[0m \u001b[38;5;250m\u001b[39m\u001b[38;5;124;03m\"\"\"\u001b[39;00m\n\u001b[1;32m    558\u001b[0m \u001b[38;5;124;03mCheck the length of data matches the length of the index.\u001b[39;00m\n\u001b[1;32m    559\u001b[0m \u001b[38;5;124;03m\"\"\"\u001b[39;00m\n\u001b[1;32m    560\u001b[0m \u001b[38;5;28;01mif\u001b[39;00m \u001b[38;5;28mlen\u001b[39m(data) \u001b[38;5;241m!=\u001b[39m \u001b[38;5;28mlen\u001b[39m(index):\n\u001b[0;32m--> 561\u001b[0m     \u001b[38;5;28;01mraise\u001b[39;00m \u001b[38;5;167;01mValueError\u001b[39;00m(\n\u001b[1;32m    562\u001b[0m         \u001b[38;5;124m\"\u001b[39m\u001b[38;5;124mLength of values \u001b[39m\u001b[38;5;124m\"\u001b[39m\n\u001b[1;32m    563\u001b[0m         \u001b[38;5;124mf\u001b[39m\u001b[38;5;124m\"\u001b[39m\u001b[38;5;124m(\u001b[39m\u001b[38;5;132;01m{\u001b[39;00m\u001b[38;5;28mlen\u001b[39m(data)\u001b[38;5;132;01m}\u001b[39;00m\u001b[38;5;124m) \u001b[39m\u001b[38;5;124m\"\u001b[39m\n\u001b[1;32m    564\u001b[0m         \u001b[38;5;124m\"\u001b[39m\u001b[38;5;124mdoes not match length of index \u001b[39m\u001b[38;5;124m\"\u001b[39m\n\u001b[1;32m    565\u001b[0m         \u001b[38;5;124mf\u001b[39m\u001b[38;5;124m\"\u001b[39m\u001b[38;5;124m(\u001b[39m\u001b[38;5;132;01m{\u001b[39;00m\u001b[38;5;28mlen\u001b[39m(index)\u001b[38;5;132;01m}\u001b[39;00m\u001b[38;5;124m)\u001b[39m\u001b[38;5;124m\"\u001b[39m\n\u001b[1;32m    566\u001b[0m     )\n",
      "\u001b[0;31mValueError\u001b[0m: Length of values (367925) does not match length of index (485577)"
     ]
    }
   ],
   "source": [
    "top['hyp']=hyp"
   ]
  },
  {
   "cell_type": "code",
   "execution_count": null,
   "id": "9c3e6acb-9cb0-466e-b00a-a3a5dcb13197",
   "metadata": {},
   "outputs": [],
   "source": [
    "thyp=top.groupby('hyp')['hyp'].mean().sort_values().tail(50)"
   ]
  },
  {
   "cell_type": "code",
   "execution_count": null,
   "id": "62e9e7c7-86fd-4fd8-92f6-09f756bbe5c2",
   "metadata": {},
   "outputs": [],
   "source": [
    "hmr.merge(thyp,left_index=True,right_index=True).sort_values('hyp').tail(10).head(10)"
   ]
  },
  {
   "cell_type": "code",
   "execution_count": null,
   "id": "8ee0f79a-bc00-4da6-b641-33fe7c08b211",
   "metadata": {},
   "outputs": [],
   "source": []
  },
  {
   "cell_type": "code",
   "execution_count": null,
   "id": "b30f1ff0-52dc-41f2-a2e1-b7616e2f66a2",
   "metadata": {},
   "outputs": [],
   "source": []
  },
  {
   "cell_type": "code",
   "execution_count": null,
   "id": "ac46c7a6-ac28-4e45-a4e0-fee05b58a58c",
   "metadata": {},
   "outputs": [],
   "source": []
  },
  {
   "cell_type": "code",
   "execution_count": null,
   "id": "a276818b-7c47-4f99-85cb-8c2fa2dd1e85",
   "metadata": {},
   "outputs": [],
   "source": []
  },
  {
   "cell_type": "code",
   "execution_count": null,
   "id": "139c25c9-6b4d-4653-baec-42d9f98ce831",
   "metadata": {},
   "outputs": [],
   "source": []
  },
  {
   "cell_type": "code",
   "execution_count": null,
   "id": "8236e710-35c8-4cd9-951c-b29a51624c0c",
   "metadata": {},
   "outputs": [],
   "source": []
  },
  {
   "cell_type": "code",
   "execution_count": null,
   "id": "832a50a8-b550-48e9-b378-cb1afeab1d0b",
   "metadata": {},
   "outputs": [],
   "source": []
  },
  {
   "cell_type": "code",
   "execution_count": null,
   "id": "ff53fd14-6ef8-4b0d-a826-a03fce762046",
   "metadata": {},
   "outputs": [],
   "source": []
  },
  {
   "cell_type": "code",
   "execution_count": null,
   "id": "9e300154-fb75-4f76-ad0a-406dcd26d8f6",
   "metadata": {},
   "outputs": [],
   "source": [
    "%%time\n",
    "mono_='data/cell/GSE56046_methylome_normalized.txt'\n",
    "mono=pd.read_table(mono_,index_col=0,usecols=[0]+list(range(1,201,2)))\n",
    "p2=pow(2,mono).round(3)\n",
    "mono=p2/(p2+1)\n",
    "age=pd.read_table('https://ftp.ncbi.nlm.nih.gov/geo/series/GSE56nnn/GSE56046/matrix/GSE56046_series_matrix.txt.gz',skiprows=46,\n",
    "             index_col=0).iloc[10].str.strip('age (yrs): ').astype(int)\n",
    "mono_t=mono.T\n",
    "mono_t['age']=age.head(100).values\n",
    "mono_cor=mono_t.corrwith(mono_t['age']).drop('age').sort_values()"
   ]
  },
  {
   "cell_type": "code",
   "execution_count": null,
   "id": "04c2ef77-a13c-457e-8e74-ee036c0a4b19",
   "metadata": {},
   "outputs": [],
   "source": [
    "%%time\n",
    "t_='data/cell/GSE56581_methylome_normalized.txt'\n",
    "t=pd.read_table(t_,index_col=0,usecols=[0]+list(range(1,201,2)))\n",
    "p2=pow(2,t).round(3)\n",
    "t=p2/(p2+1)\n",
    "age=pd.read_table('https://ftp.ncbi.nlm.nih.gov/geo/series/GSE56nnn/GSE56581/matrix/GSE56581_series_matrix.txt.gz',skiprows=40,\n",
    "             index_col=0).iloc[10].str.strip('age (yrs): ').astype(int)\n",
    "t_t=t.T\n",
    "t_t['age']=age.head(100).values\n",
    "t_cor=t_t.corrwith(t_t['age']).drop('age').sort_values()"
   ]
  },
  {
   "cell_type": "code",
   "execution_count": null,
   "id": "cb75bd91-d00e-41e5-b36b-8888ff936b60",
   "metadata": {},
   "outputs": [],
   "source": [
    "%%time\n",
    "liver_='data/cell/GSE48325_series_matrix.txt'\n",
    "liver=pd.read_table(liver_,skiprows=27+33,index_col=0).round(3)\n",
    "age=pd.read_table(liver_,skiprows=27,nrows=50,index_col=0).iloc[8].str.strip('age: ').astype(int)\n",
    "liver_t=liver.T\n",
    "liver_t['age']=age.values\n",
    "liver_cor=liver_t.corrwith(liver_t['age']).drop('age').sort_values()"
   ]
  },
  {
   "cell_type": "code",
   "execution_count": null,
   "id": "ec6586d9-8661-4a05-bf05-f61ff9e14856",
   "metadata": {},
   "outputs": [],
   "source": [
    "dd=pd.concat([wb_cor,t_cor,mono_cor,liver_cor],axis=1).drop('!series_matrix_table_end')\n",
    "dd.corr()"
   ]
  },
  {
   "cell_type": "code",
   "execution_count": null,
   "id": "7de61c79-cdb7-4894-9d09-3a0a6e1adf5a",
   "metadata": {},
   "outputs": [],
   "source": [
    "t_hm=pd.read_table('../Blood-DNA-Methylation-Atlas/data/merge/hm450/cd4.meth',header=None,skiprows=860,index_col=3)[[0,1,4]]\n",
    "m_hm=pd.read_table('../Blood-DNA-Methylation-Atlas/data/merge/hm450/mono.meth',header=None,skiprows=860,index_col=3)[[0,1,4]]"
   ]
  },
  {
   "cell_type": "code",
   "execution_count": null,
   "id": "7ef6ba0c-d177-4076-9a84-03713aa9b2b4",
   "metadata": {},
   "outputs": [],
   "source": []
  }
 ],
 "metadata": {
  "kernelspec": {
   "display_name": "meth",
   "language": "python",
   "name": "meth"
  },
  "language_info": {
   "codemirror_mode": {
    "name": "ipython",
    "version": 3
   },
   "file_extension": ".py",
   "mimetype": "text/x-python",
   "name": "python",
   "nbconvert_exporter": "python",
   "pygments_lexer": "ipython3",
   "version": "3.10.9"
  }
 },
 "nbformat": 4,
 "nbformat_minor": 5
}
