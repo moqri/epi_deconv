{
 "cells": [
  {
   "cell_type": "code",
   "execution_count": 221,
   "id": "be15c465-5287-4fc6-8b12-16d8a58a5171",
   "metadata": {},
   "outputs": [],
   "source": [
    "import pandas as pd\n",
    "from scipy.stats import pearsonr\n",
    "import seaborn as sns"
   ]
  },
  {
   "cell_type": "code",
   "execution_count": 2,
   "id": "20f10284-2e8c-4550-bd1d-c6adb969c24e",
   "metadata": {},
   "outputs": [
    {
     "name": "stdout",
     "output_type": "stream",
     "text": [
      "CPU times: user 3min 11s, sys: 14.6 s, total: 3min 26s\n",
      "Wall time: 3min 27s\n"
     ]
    }
   ],
   "source": [
    "%%time\n",
    "wb=pd.read_csv('data/array/GSE132203_Geo_Submission_GTPEpic.csv',nrows=1000000,usecols=[0]+list(range(1,1591,2)),index_col=0).round(3)"
   ]
  },
  {
   "cell_type": "code",
   "execution_count": 3,
   "id": "ecd2ce19-3c5b-4833-9c84-b1ed9d590365",
   "metadata": {},
   "outputs": [],
   "source": [
    "age=pd.read_table('https://ftp.ncbi.nlm.nih.gov/geo/series/GSE132nnn/GSE132203/matrix/GSE132203_series_matrix.txt.gz',skiprows=29+10,nrows=0,index_col=0).columns.str.strip('age: ').astype(float)"
   ]
  },
  {
   "cell_type": "code",
   "execution_count": 4,
   "id": "1000d5e8-d6fe-4c4b-b51c-d597b87b0595",
   "metadata": {},
   "outputs": [
    {
     "name": "stdout",
     "output_type": "stream",
     "text": [
      "CPU times: user 3min 57s, sys: 1.49 s, total: 3min 59s\n",
      "Wall time: 3min 59s\n"
     ]
    }
   ],
   "source": [
    "%%time \n",
    "wb_t=wb.T\n",
    "wb_t['age']=age\n",
    "wb_cor=wb_t.corrwith(wb_t['age']).drop('age').sort_values()"
   ]
  },
  {
   "cell_type": "code",
   "execution_count": 5,
   "id": "9f37ccc8-2d78-41ed-be81-b14d34fa8be6",
   "metadata": {},
   "outputs": [],
   "source": [
    "hmr=pd.read_table('/labs/mpsnyder/moqri/epi_deconv/data/arc/hmr/neo',header=None,index_col=3,usecols=[0,1,2,3])\n",
    "hmr['b']=hmr[0].str[3:].astype(int)*10**9+hmr[1]\n",
    "hmr['e']=hmr[0].str[3:].astype(int)*10**9+hmr[2]\n",
    "hmr=hmr.sort_values('b')"
   ]
  },
  {
   "cell_type": "code",
   "execution_count": 24,
   "id": "3feec41e-e0fa-42dc-b2ff-4a762224730c",
   "metadata": {},
   "outputs": [],
   "source": [
    "man=pd.read_table('../Blood-DNA-Methylation-Atlas/data/ref/EPIC.hg38.manifest.tsv',index_col='Probe_ID')[['CpG_chrm','CpG_beg']]\n",
    "man=man.dropna().copy()\n",
    "man['CpG_beg']=man['CpG_beg'].astype(int)\n",
    "man.columns=[0,1]\n",
    "man=man[man[0].isin('chr'+str(c) for c in range(1,23))].copy()\n",
    "#man['cg']=man.index"
   ]
  },
  {
   "cell_type": "code",
   "execution_count": 31,
   "id": "548b674a-7c8a-48be-b2ee-1ae5100e2757",
   "metadata": {},
   "outputs": [
    {
     "data": {
      "text/plain": [
       "(800192, 4)"
      ]
     },
     "execution_count": 31,
     "metadata": {},
     "output_type": "execute_result"
    }
   ],
   "source": [
    "man=man.merge(wb_cor.rename('cor'),left_index=True,right_index=True)\n",
    "man['pos']=man[0].str[3:].astype(int)*10**9+man[1]\n",
    "man=man.sort_values('pos')\n",
    "man.shape\n",
    "#man['bin']=man['cor']>0"
   ]
  },
  {
   "cell_type": "code",
   "execution_count": 140,
   "id": "2fd5a3b9-7ee6-4cb6-bf8b-86335e0fee24",
   "metadata": {},
   "outputs": [
    {
     "data": {
      "text/plain": [
       "PearsonRResult(statistic=0.09170011703738634, pvalue=0.009683327216200192)"
      ]
     },
     "execution_count": 140,
     "metadata": {},
     "output_type": "execute_result"
    }
   ],
   "source": [
    "cg=wb_cor[wb_cor>.0917].head(1).index[0]\n",
    "pearsonr(wb_t[cg],wb_t['age'])"
   ]
  },
  {
   "cell_type": "code",
   "execution_count": 54,
   "id": "d941347f-2430-4601-8364-e103de0d5f32",
   "metadata": {},
   "outputs": [],
   "source": [
    "pv=.0917"
   ]
  },
  {
   "cell_type": "code",
   "execution_count": 174,
   "id": "5e6c836a-5009-463d-b07d-863fccf9afbc",
   "metadata": {},
   "outputs": [],
   "source": [
    "#man=man[man['cor']>.07].copy()"
   ]
  },
  {
   "cell_type": "code",
   "execution_count": 91,
   "id": "97665f06-03fe-4437-8503-e27c5bed9ad0",
   "metadata": {},
   "outputs": [
    {
     "name": "stdout",
     "output_type": "stream",
     "text": [
      "CPU times: user 52.5 s, sys: 258 ms, total: 52.7 s\n",
      "Wall time: 52.8 s\n"
     ]
    }
   ],
   "source": [
    "%%time \n",
    "#man=man[man['l']>0].copy()\n",
    "cont=[]\n",
    "c=0\n",
    "last=False\n",
    "last_l=-1\n",
    "last_pos=man[1].head(1).values[0]\n",
    "for i,b in man[[1,'cor']].iterrows():\n",
    "    if b[1]-last_pos>1000:\n",
    "        c+=1\n",
    "    if b['cor']>pv:\n",
    "        if last==False:\n",
    "            c+=1\n",
    "        last=True  \n",
    "        cont.append(c)\n",
    "    else:\n",
    "        cont.append(-1)\n",
    "        last=False\n",
    "    last_pos=b[1]"
   ]
  },
  {
   "cell_type": "code",
   "execution_count": null,
   "id": "ad348615-dd1d-4342-a3d0-fa7e5693c0d9",
   "metadata": {},
   "outputs": [],
   "source": [
    "man['cont']=cont\n",
    "cor450=pd.read_csv('data/res/cor450.csv',index_col=0)\n",
    "man=man.merge(cor450,left_index=True, right_index=True,how='left')"
   ]
  },
  {
   "cell_type": "code",
   "execution_count": 199,
   "id": "8c38c0f2-f4d2-42d3-b8d1-12c313d097b1",
   "metadata": {},
   "outputs": [
    {
     "data": {
      "text/html": [
       "<div>\n",
       "<style scoped>\n",
       "    .dataframe tbody tr th:only-of-type {\n",
       "        vertical-align: middle;\n",
       "    }\n",
       "\n",
       "    .dataframe tbody tr th {\n",
       "        vertical-align: top;\n",
       "    }\n",
       "\n",
       "    .dataframe thead th {\n",
       "        text-align: right;\n",
       "    }\n",
       "</style>\n",
       "<table border=\"1\" class=\"dataframe\">\n",
       "  <thead>\n",
       "    <tr style=\"text-align: right;\">\n",
       "      <th></th>\n",
       "      <th>0</th>\n",
       "      <th>chr</th>\n",
       "      <th>b</th>\n",
       "      <th>e</th>\n",
       "      <th>cor</th>\n",
       "      <th>cor450</th>\n",
       "    </tr>\n",
       "    <tr>\n",
       "      <th>cont</th>\n",
       "      <th></th>\n",
       "      <th></th>\n",
       "      <th></th>\n",
       "      <th></th>\n",
       "      <th></th>\n",
       "      <th></th>\n",
       "    </tr>\n",
       "  </thead>\n",
       "  <tbody>\n",
       "    <tr>\n",
       "      <th>49023</th>\n",
       "      <td>3</td>\n",
       "      <td>chr2</td>\n",
       "      <td>105399281</td>\n",
       "      <td>105399309</td>\n",
       "      <td>0.717583</td>\n",
       "      <td>0.825327</td>\n",
       "    </tr>\n",
       "    <tr>\n",
       "      <th>72766</th>\n",
       "      <td>9</td>\n",
       "      <td>chr3</td>\n",
       "      <td>51706605</td>\n",
       "      <td>51707456</td>\n",
       "      <td>0.539097</td>\n",
       "      <td>0.723285</td>\n",
       "    </tr>\n",
       "    <tr>\n",
       "      <th>288581</th>\n",
       "      <td>4</td>\n",
       "      <td>chr15</td>\n",
       "      <td>72319783</td>\n",
       "      <td>72319879</td>\n",
       "      <td>0.526374</td>\n",
       "      <td>0.523217</td>\n",
       "    </tr>\n",
       "    <tr>\n",
       "      <th>32067</th>\n",
       "      <td>3</td>\n",
       "      <td>chr1</td>\n",
       "      <td>228212515</td>\n",
       "      <td>228212926</td>\n",
       "      <td>0.515130</td>\n",
       "      <td>0.589686</td>\n",
       "    </tr>\n",
       "    <tr>\n",
       "      <th>132279</th>\n",
       "      <td>3</td>\n",
       "      <td>chr6</td>\n",
       "      <td>27631361</td>\n",
       "      <td>27631395</td>\n",
       "      <td>0.497728</td>\n",
       "      <td>0.639231</td>\n",
       "    </tr>\n",
       "    <tr>\n",
       "      <th>12258</th>\n",
       "      <td>7</td>\n",
       "      <td>chr1</td>\n",
       "      <td>52842671</td>\n",
       "      <td>52843588</td>\n",
       "      <td>0.461199</td>\n",
       "      <td>0.498970</td>\n",
       "    </tr>\n",
       "    <tr>\n",
       "      <th>282143</th>\n",
       "      <td>3</td>\n",
       "      <td>chr15</td>\n",
       "      <td>31483202</td>\n",
       "      <td>31484246</td>\n",
       "      <td>0.445688</td>\n",
       "      <td>0.555696</td>\n",
       "    </tr>\n",
       "    <tr>\n",
       "      <th>341595</th>\n",
       "      <td>3</td>\n",
       "      <td>chr19</td>\n",
       "      <td>38256714</td>\n",
       "      <td>38256737</td>\n",
       "      <td>0.432265</td>\n",
       "      <td>0.496729</td>\n",
       "    </tr>\n",
       "    <tr>\n",
       "      <th>143029</th>\n",
       "      <td>5</td>\n",
       "      <td>chr6</td>\n",
       "      <td>127514604</td>\n",
       "      <td>127515013</td>\n",
       "      <td>0.427854</td>\n",
       "      <td>0.624143</td>\n",
       "    </tr>\n",
       "    <tr>\n",
       "      <th>129626</th>\n",
       "      <td>6</td>\n",
       "      <td>chr6</td>\n",
       "      <td>11044324</td>\n",
       "      <td>11045136</td>\n",
       "      <td>0.421024</td>\n",
       "      <td>0.505395</td>\n",
       "    </tr>\n",
       "    <tr>\n",
       "      <th>283130</th>\n",
       "      <td>6</td>\n",
       "      <td>chr15</td>\n",
       "      <td>39919904</td>\n",
       "      <td>39920579</td>\n",
       "      <td>0.414476</td>\n",
       "      <td>0.529959</td>\n",
       "    </tr>\n",
       "    <tr>\n",
       "      <th>342689</th>\n",
       "      <td>5</td>\n",
       "      <td>chr19</td>\n",
       "      <td>41998578</td>\n",
       "      <td>41999259</td>\n",
       "      <td>0.413920</td>\n",
       "      <td>0.536861</td>\n",
       "    </tr>\n",
       "    <tr>\n",
       "      <th>266177</th>\n",
       "      <td>4</td>\n",
       "      <td>chr13</td>\n",
       "      <td>99895713</td>\n",
       "      <td>99896258</td>\n",
       "      <td>0.410864</td>\n",
       "      <td>0.430967</td>\n",
       "    </tr>\n",
       "    <tr>\n",
       "      <th>343182</th>\n",
       "      <td>9</td>\n",
       "      <td>chr19</td>\n",
       "      <td>44259825</td>\n",
       "      <td>44260449</td>\n",
       "      <td>0.405486</td>\n",
       "      <td>0.423416</td>\n",
       "    </tr>\n",
       "    <tr>\n",
       "      <th>164822</th>\n",
       "      <td>4</td>\n",
       "      <td>chr7</td>\n",
       "      <td>130734304</td>\n",
       "      <td>130734411</td>\n",
       "      <td>0.405260</td>\n",
       "      <td>0.536132</td>\n",
       "    </tr>\n",
       "    <tr>\n",
       "      <th>66578</th>\n",
       "      <td>9</td>\n",
       "      <td>chr3</td>\n",
       "      <td>9552397</td>\n",
       "      <td>9553961</td>\n",
       "      <td>0.404835</td>\n",
       "      <td>0.359400</td>\n",
       "    </tr>\n",
       "    <tr>\n",
       "      <th>94912</th>\n",
       "      <td>3</td>\n",
       "      <td>chr4</td>\n",
       "      <td>48490827</td>\n",
       "      <td>48491402</td>\n",
       "      <td>0.404360</td>\n",
       "      <td>0.559179</td>\n",
       "    </tr>\n",
       "    <tr>\n",
       "      <th>323516</th>\n",
       "      <td>3</td>\n",
       "      <td>chr17</td>\n",
       "      <td>79840264</td>\n",
       "      <td>79840769</td>\n",
       "      <td>0.398980</td>\n",
       "      <td>0.371122</td>\n",
       "    </tr>\n",
       "    <tr>\n",
       "      <th>140585</th>\n",
       "      <td>6</td>\n",
       "      <td>chr6</td>\n",
       "      <td>104940315</td>\n",
       "      <td>104940855</td>\n",
       "      <td>0.398408</td>\n",
       "      <td>0.458222</td>\n",
       "    </tr>\n",
       "    <tr>\n",
       "      <th>344977</th>\n",
       "      <td>3</td>\n",
       "      <td>chr19</td>\n",
       "      <td>49889996</td>\n",
       "      <td>49890739</td>\n",
       "      <td>0.396203</td>\n",
       "      <td>0.363407</td>\n",
       "    </tr>\n",
       "  </tbody>\n",
       "</table>\n",
       "</div>"
      ],
      "text/plain": [
       "        0    chr          b          e       cor    cor450\n",
       "cont                                                      \n",
       "49023   3   chr2  105399281  105399309  0.717583  0.825327\n",
       "72766   9   chr3   51706605   51707456  0.539097  0.723285\n",
       "288581  4  chr15   72319783   72319879  0.526374  0.523217\n",
       "32067   3   chr1  228212515  228212926  0.515130  0.589686\n",
       "132279  3   chr6   27631361   27631395  0.497728  0.639231\n",
       "12258   7   chr1   52842671   52843588  0.461199  0.498970\n",
       "282143  3  chr15   31483202   31484246  0.445688  0.555696\n",
       "341595  3  chr19   38256714   38256737  0.432265  0.496729\n",
       "143029  5   chr6  127514604  127515013  0.427854  0.624143\n",
       "129626  6   chr6   11044324   11045136  0.421024  0.505395\n",
       "283130  6  chr15   39919904   39920579  0.414476  0.529959\n",
       "342689  5  chr19   41998578   41999259  0.413920  0.536861\n",
       "266177  4  chr13   99895713   99896258  0.410864  0.430967\n",
       "343182  9  chr19   44259825   44260449  0.405486  0.423416\n",
       "164822  4   chr7  130734304  130734411  0.405260  0.536132\n",
       "66578   9   chr3    9552397    9553961  0.404835  0.359400\n",
       "94912   3   chr4   48490827   48491402  0.404360  0.559179\n",
       "323516  3  chr17   79840264   79840769  0.398980  0.371122\n",
       "140585  6   chr6  104940315  104940855  0.398408  0.458222\n",
       "344977  3  chr19   49889996   49890739  0.396203  0.363407"
      ]
     },
     "execution_count": 199,
     "metadata": {},
     "output_type": "execute_result"
    }
   ],
   "source": [
    "mgc=pd.DataFrame(man.groupby('cont')[0].count())\n",
    "mgc['chr']=man.groupby('cont')[0].first()\n",
    "mgc['b']=man.groupby('cont')[1].first()\n",
    "mgc['e']=man.groupby('cont')[1].last()\n",
    "mgc['cor']=man.groupby('cont')['cor'].mean()\n",
    "mgc['cor450']=man.groupby('cont')['cor_450'].mean()\n",
    "topp=mgc[mgc[0]>=3].sort_values('cor',ascending=False)\n",
    "topp.head(20)"
   ]
  },
  {
   "cell_type": "code",
   "execution_count": 200,
   "id": "7f02967e-2b10-40ca-8427-74b553668ea9",
   "metadata": {},
   "outputs": [],
   "source": [
    "topp.to_csv('data/res/epicor_p.csv')"
   ]
  },
  {
   "cell_type": "code",
   "execution_count": 197,
   "id": "6efee7f7-cd61-49cc-87ec-c782c83de566",
   "metadata": {},
   "outputs": [
    {
     "data": {
      "text/plain": [
       "array([[<Axes: title={'center': 'cor450'}>]], dtype=object)"
      ]
     },
     "execution_count": 197,
     "metadata": {},
     "output_type": "execute_result"
    },
    {
     "data": {
      "image/png": "[encoded data removed]",
      "text/plain": [
       "<Figure size 640x480 with 1 Axes>"
      ]
     },
     "metadata": {},
     "output_type": "display_data"
    }
   ],
   "source": [
    "topl[['cor','cor450']].tail(500).hist('cor450',bins=100)"
   ]
  },
  {
   "cell_type": "code",
   "execution_count": 162,
   "id": "26d492ca-63db-4bd0-8b1b-507f6f850c15",
   "metadata": {},
   "outputs": [
    {
     "name": "stdout",
     "output_type": "stream",
     "text": [
      "CPU times: user 52.7 s, sys: 121 ms, total: 52.8 s\n",
      "Wall time: 52.9 s\n"
     ]
    }
   ],
   "source": [
    "%%time \n",
    "#man=man[man['l']>0].copy()\n",
    "cont=[]\n",
    "c=0\n",
    "last=False\n",
    "last_l=-1\n",
    "last_pos=man[1].head(1).values[0]\n",
    "for i,b in man[[1,'cor']].iterrows():\n",
    "    if b[1]-last_pos>1000:\n",
    "        c+=1\n",
    "    if b['cor']<-pv:\n",
    "        if last==False:\n",
    "            c+=1\n",
    "        last=True  \n",
    "        cont.append(c)\n",
    "    else:\n",
    "        cont.append(-1)\n",
    "        last=False\n",
    "    last_pos=b[1]"
   ]
  },
  {
   "cell_type": "code",
   "execution_count": 163,
   "id": "0ecfcb0f-8468-4ead-b9c8-50334b69956f",
   "metadata": {},
   "outputs": [],
   "source": [
    "man['neg']=cont"
   ]
  },
  {
   "cell_type": "code",
   "execution_count": 183,
   "id": "f16bcf19-e781-4f52-a47e-d13d3c7749f2",
   "metadata": {},
   "outputs": [
    {
     "data": {
      "text/html": [
       "<div>\n",
       "<style scoped>\n",
       "    .dataframe tbody tr th:only-of-type {\n",
       "        vertical-align: middle;\n",
       "    }\n",
       "\n",
       "    .dataframe tbody tr th {\n",
       "        vertical-align: top;\n",
       "    }\n",
       "\n",
       "    .dataframe thead th {\n",
       "        text-align: right;\n",
       "    }\n",
       "</style>\n",
       "<table border=\"1\" class=\"dataframe\">\n",
       "  <thead>\n",
       "    <tr style=\"text-align: right;\">\n",
       "      <th></th>\n",
       "      <th>0</th>\n",
       "      <th>chr</th>\n",
       "      <th>b</th>\n",
       "      <th>e</th>\n",
       "      <th>cor</th>\n",
       "      <th>cor450</th>\n",
       "    </tr>\n",
       "    <tr>\n",
       "      <th>neg</th>\n",
       "      <th></th>\n",
       "      <th></th>\n",
       "      <th></th>\n",
       "      <th></th>\n",
       "      <th></th>\n",
       "      <th></th>\n",
       "    </tr>\n",
       "  </thead>\n",
       "  <tbody>\n",
       "    <tr>\n",
       "      <th>364160</th>\n",
       "      <td>4</td>\n",
       "      <td>chr19</td>\n",
       "      <td>15419794</td>\n",
       "      <td>15420058</td>\n",
       "      <td>-0.492347</td>\n",
       "      <td>-0.510260</td>\n",
       "    </tr>\n",
       "    <tr>\n",
       "      <th>154263</th>\n",
       "      <td>6</td>\n",
       "      <td>chr6</td>\n",
       "      <td>110415218</td>\n",
       "      <td>110415849</td>\n",
       "      <td>-0.440743</td>\n",
       "      <td>-0.389990</td>\n",
       "    </tr>\n",
       "    <tr>\n",
       "      <th>6430</th>\n",
       "      <td>3</td>\n",
       "      <td>chr1</td>\n",
       "      <td>22642498</td>\n",
       "      <td>22642846</td>\n",
       "      <td>-0.432295</td>\n",
       "      <td>-0.198782</td>\n",
       "    </tr>\n",
       "    <tr>\n",
       "      <th>145942</th>\n",
       "      <td>3</td>\n",
       "      <td>chr6</td>\n",
       "      <td>33162210</td>\n",
       "      <td>33162256</td>\n",
       "      <td>-0.419197</td>\n",
       "      <td>-0.478346</td>\n",
       "    </tr>\n",
       "    <tr>\n",
       "      <th>96629</th>\n",
       "      <td>4</td>\n",
       "      <td>chr3</td>\n",
       "      <td>194270717</td>\n",
       "      <td>194271566</td>\n",
       "      <td>-0.413187</td>\n",
       "      <td>-0.564411</td>\n",
       "    </tr>\n",
       "    <tr>\n",
       "      <th>277380</th>\n",
       "      <td>4</td>\n",
       "      <td>chr12</td>\n",
       "      <td>120266013</td>\n",
       "      <td>120266230</td>\n",
       "      <td>-0.411685</td>\n",
       "      <td>-0.394578</td>\n",
       "    </tr>\n",
       "    <tr>\n",
       "      <th>364481</th>\n",
       "      <td>9</td>\n",
       "      <td>chr19</td>\n",
       "      <td>16719475</td>\n",
       "      <td>16720047</td>\n",
       "      <td>-0.409430</td>\n",
       "      <td>-0.606487</td>\n",
       "    </tr>\n",
       "    <tr>\n",
       "      <th>123623</th>\n",
       "      <td>5</td>\n",
       "      <td>chr5</td>\n",
       "      <td>64164439</td>\n",
       "      <td>64165543</td>\n",
       "      <td>-0.402117</td>\n",
       "      <td>-0.398989</td>\n",
       "    </tr>\n",
       "    <tr>\n",
       "      <th>145905</th>\n",
       "      <td>5</td>\n",
       "      <td>chr6</td>\n",
       "      <td>33076063</td>\n",
       "      <td>33076732</td>\n",
       "      <td>-0.399556</td>\n",
       "      <td>-0.485637</td>\n",
       "    </tr>\n",
       "    <tr>\n",
       "      <th>58036</th>\n",
       "      <td>6</td>\n",
       "      <td>chr2</td>\n",
       "      <td>144520584</td>\n",
       "      <td>144521231</td>\n",
       "      <td>-0.377592</td>\n",
       "      <td>-0.564349</td>\n",
       "    </tr>\n",
       "    <tr>\n",
       "      <th>230267</th>\n",
       "      <td>4</td>\n",
       "      <td>chr10</td>\n",
       "      <td>86970103</td>\n",
       "      <td>86970723</td>\n",
       "      <td>-0.371969</td>\n",
       "      <td>-0.447117</td>\n",
       "    </tr>\n",
       "    <tr>\n",
       "      <th>36613</th>\n",
       "      <td>4</td>\n",
       "      <td>chr1</td>\n",
       "      <td>236394369</td>\n",
       "      <td>236394841</td>\n",
       "      <td>-0.371921</td>\n",
       "      <td>-0.398978</td>\n",
       "    </tr>\n",
       "    <tr>\n",
       "      <th>156420</th>\n",
       "      <td>3</td>\n",
       "      <td>chr6</td>\n",
       "      <td>131819845</td>\n",
       "      <td>131820257</td>\n",
       "      <td>-0.362796</td>\n",
       "      <td>NaN</td>\n",
       "    </tr>\n",
       "    <tr>\n",
       "      <th>178100</th>\n",
       "      <td>3</td>\n",
       "      <td>chr7</td>\n",
       "      <td>120989349</td>\n",
       "      <td>120989583</td>\n",
       "      <td>-0.360464</td>\n",
       "      <td>-0.319154</td>\n",
       "    </tr>\n",
       "    <tr>\n",
       "      <th>263101</th>\n",
       "      <td>3</td>\n",
       "      <td>chr12</td>\n",
       "      <td>12563703</td>\n",
       "      <td>12563863</td>\n",
       "      <td>-0.356662</td>\n",
       "      <td>NaN</td>\n",
       "    </tr>\n",
       "    <tr>\n",
       "      <th>32546</th>\n",
       "      <td>3</td>\n",
       "      <td>chr1</td>\n",
       "      <td>212432359</td>\n",
       "      <td>212432586</td>\n",
       "      <td>-0.356548</td>\n",
       "      <td>-0.240656</td>\n",
       "    </tr>\n",
       "    <tr>\n",
       "      <th>24872</th>\n",
       "      <td>3</td>\n",
       "      <td>chr1</td>\n",
       "      <td>161739208</td>\n",
       "      <td>161740222</td>\n",
       "      <td>-0.353258</td>\n",
       "      <td>NaN</td>\n",
       "    </tr>\n",
       "    <tr>\n",
       "      <th>78996</th>\n",
       "      <td>3</td>\n",
       "      <td>chr3</td>\n",
       "      <td>49930083</td>\n",
       "      <td>49930126</td>\n",
       "      <td>-0.349046</td>\n",
       "      <td>-0.329473</td>\n",
       "    </tr>\n",
       "    <tr>\n",
       "      <th>167935</th>\n",
       "      <td>9</td>\n",
       "      <td>chr7</td>\n",
       "      <td>32299441</td>\n",
       "      <td>32299884</td>\n",
       "      <td>-0.348115</td>\n",
       "      <td>-0.526323</td>\n",
       "    </tr>\n",
       "    <tr>\n",
       "      <th>244352</th>\n",
       "      <td>4</td>\n",
       "      <td>chr11</td>\n",
       "      <td>34570648</td>\n",
       "      <td>34570735</td>\n",
       "      <td>-0.347619</td>\n",
       "      <td>NaN</td>\n",
       "    </tr>\n",
       "  </tbody>\n",
       "</table>\n",
       "</div>"
      ],
      "text/plain": [
       "        0    chr          b          e       cor    cor450\n",
       "neg                                                       \n",
       "364160  4  chr19   15419794   15420058 -0.492347 -0.510260\n",
       "154263  6   chr6  110415218  110415849 -0.440743 -0.389990\n",
       "6430    3   chr1   22642498   22642846 -0.432295 -0.198782\n",
       "145942  3   chr6   33162210   33162256 -0.419197 -0.478346\n",
       "96629   4   chr3  194270717  194271566 -0.413187 -0.564411\n",
       "277380  4  chr12  120266013  120266230 -0.411685 -0.394578\n",
       "364481  9  chr19   16719475   16720047 -0.409430 -0.606487\n",
       "123623  5   chr5   64164439   64165543 -0.402117 -0.398989\n",
       "145905  5   chr6   33076063   33076732 -0.399556 -0.485637\n",
       "58036   6   chr2  144520584  144521231 -0.377592 -0.564349\n",
       "230267  4  chr10   86970103   86970723 -0.371969 -0.447117\n",
       "36613   4   chr1  236394369  236394841 -0.371921 -0.398978\n",
       "156420  3   chr6  131819845  131820257 -0.362796       NaN\n",
       "178100  3   chr7  120989349  120989583 -0.360464 -0.319154\n",
       "263101  3  chr12   12563703   12563863 -0.356662       NaN\n",
       "32546   3   chr1  212432359  212432586 -0.356548 -0.240656\n",
       "24872   3   chr1  161739208  161740222 -0.353258       NaN\n",
       "78996   3   chr3   49930083   49930126 -0.349046 -0.329473\n",
       "167935  9   chr7   32299441   32299884 -0.348115 -0.526323\n",
       "244352  4  chr11   34570648   34570735 -0.347619       NaN"
      ]
     },
     "execution_count": 183,
     "metadata": {},
     "output_type": "execute_result"
    }
   ],
   "source": [
    "mgc=pd.DataFrame(man.groupby('neg')[0].count())\n",
    "mgc['chr']=man.groupby('neg')[0].first()\n",
    "mgc['b']=man.groupby('neg')[1].first()\n",
    "mgc['e']=man.groupby('neg')[1].last()\n",
    "mgc['cor']=man.groupby('neg')['cor'].mean()\n",
    "mgc['cor450']=man.groupby('neg')['cor_450'].mean()\n",
    "topn=mgc[mgc[0]>=3].sort_values('cor')\n",
    "topn.head(20)"
   ]
  },
  {
   "cell_type": "code",
   "execution_count": 194,
   "id": "b4d83163-8447-49fb-8d15-1c0425eada26",
   "metadata": {},
   "outputs": [
    {
     "data": {
      "text/plain": [
       "array([[<Axes: title={'center': 'cor450'}>]], dtype=object)"
      ]
     },
     "execution_count": 194,
     "metadata": {},
     "output_type": "execute_result"
    },
    {
     "data": {
      "image/png": "[encoded data removed]",
      "text/plain": [
       "<Figure size 640x480 with 1 Axes>"
      ]
     },
     "metadata": {},
     "output_type": "display_data"
    }
   ],
   "source": [
    "topn[['cor','cor450']].head(500).dropna().hist('cor450',bins=100)"
   ]
  },
  {
   "cell_type": "code",
   "execution_count": 201,
   "id": "fc5e9e75-6914-458b-9f4d-bb4a820b5dca",
   "metadata": {},
   "outputs": [],
   "source": [
    "topn.to_csv('data/res/epicor_n.csv')"
   ]
  },
  {
   "cell_type": "code",
   "execution_count": 239,
   "id": "0fd15f5a-f697-4a11-8375-5cc12a09c354",
   "metadata": {},
   "outputs": [
    {
     "data": {
      "text/plain": [
       "<Axes: xlabel='dir', ylabel='0'>"
      ]
     },
     "execution_count": 239,
     "metadata": {},
     "output_type": "execute_result"
    },
    {
     "data": {
      "image/png": "[encoded data removed]",
      "text/plain": [
       "<Figure size 640x480 with 1 Axes>"
      ]
     },
     "metadata": {},
     "output_type": "display_data"
    }
   ],
   "source": [
    "topp['dir']='p'\n",
    "topn['dir']='n'\n",
    "sns.violinplot(data=pd.concat([topp[[0,'dir']].head(500),topn[[0,'dir']].head(500)]),x='dir',y=0)"
   ]
  },
  {
   "cell_type": "code",
   "execution_count": null,
   "id": "3a782959-d366-4811-8d8b-0634e9312ae4",
   "metadata": {},
   "outputs": [],
   "source": []
  }
 ],
 "metadata": {
  "kernelspec": {
   "display_name": "meth",
   "language": "python",
   "name": "meth"
  },
  "language_info": {
   "codemirror_mode": {
    "name": "ipython",
    "version": 3
   },
   "file_extension": ".py",
   "mimetype": "text/x-python",
   "name": "python",
   "nbconvert_exporter": "python",
   "pygments_lexer": "ipython3",
   "version": "3.10.9"
  }
 },
 "nbformat": 4,
 "nbformat_minor": 5
}
