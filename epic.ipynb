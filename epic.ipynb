{
 "cells": [
  {
   "cell_type": "code",
   "execution_count": null,
   "id": "7a28d580-4047-4b5c-9fc8-0c1e38fbd051",
   "metadata": {},
   "outputs": [],
   "source": [
    "wb_cor=wb_t.corrwith(wb_t['age']).drop('age').sort_values()"
   ]
  },
  {
   "cell_type": "code",
   "execution_count": null,
   "id": "3feec41e-e0fa-42dc-b2ff-4a762224730c",
   "metadata": {},
   "outputs": [],
   "source": [
    "man=pd.read_table('../Blood-DNA-Methylation-Atlas/data/ref/EPIC.hg38.manifest.tsv',index_col='Probe_ID')[['CpG_chrm','CpG_beg']]\n",
    "man=man.dropna().copy()\n",
    "man['CpG_beg']=man['CpG_beg'].astype(int)\n",
    "man.columns=[0,1]\n",
    "man=man[man[0].isin('chr'+str(c) for c in range(1,23))].copy()\n",
    "#man['cg']=man.index"
   ]
  },
  {
   "cell_type": "code",
   "execution_count": null,
   "id": "548b674a-7c8a-48be-b2ee-1ae5100e2757",
   "metadata": {},
   "outputs": [],
   "source": [
    "man=man.merge(wb_cor.rename('cor'),left_index=True,right_index=True)\n",
    "man['pos']=man[0].str[3:].astype(int)*10**9+man[1]\n",
    "man=man.sort_values('pos')\n",
    "man.shape\n",
    "#man['bin']=man['cor']>0"
   ]
  },
  {
   "cell_type": "code",
   "execution_count": 12,
   "id": "be849f6b-7d31-4e8e-8fe0-7e81cfcba2ab",
   "metadata": {},
   "outputs": [],
   "source": [
    "cor450=pd.read_csv('data/res/cor450.csv',index_col=0)\n",
    "man=man.merge(cor450,left_index=True, right_index=True,how='left')"
   ]
  },
  {
   "cell_type": "code",
   "execution_count": 23,
   "id": "3eb9ef28-3b1a-4594-92d3-8379fece9e43",
   "metadata": {},
   "outputs": [],
   "source": []
  },
  {
   "cell_type": "code",
   "execution_count": 24,
   "id": "2c62105c-6bc2-4f95-8046-506dcccb629c",
   "metadata": {},
   "outputs": [],
   "source": []
  },
  {
   "cell_type": "code",
   "execution_count": 25,
   "id": "212dbd1e-77f3-4f2f-ba2d-6ac32457f0cf",
   "metadata": {},
   "outputs": [],
   "source": []
  },
  {
   "cell_type": "code",
   "execution_count": 110,
   "id": "9fd62ce9-867a-465a-b93d-0cdb113946fd",
   "metadata": {},
   "outputs": [],
   "source": [
    "pl['s']=pl['chr'].str[3:].astype(int)*10**9+pl['b']\n",
    "pl['t']=pl['chr'].str[3:].astype(int)*10**9+pl['e']"
   ]
  },
  {
   "cell_type": "code",
   "execution_count": 163,
   "id": "887667e7-bfca-435e-9f50-22fce21095c8",
   "metadata": {},
   "outputs": [],
   "source": [
    "genc=pd.read_table('data/ref/gencode.txt',index_col=0)\n",
    "genc.columns=range(1,6)\n",
    "genc=genc[genc[1].isin(['chr'+str(c) for c in range(1,23)])].copy()\n",
    "genc['tss']=genc.apply(lambda x: int(x[1][3:])*10**9+x[3] if x[2]=='+' else int(x[1][3:])*10**9+x[4],axis=1)\n",
    "genc['tts']=genc.apply(lambda x: int(x[1][3:])*10**9+x[4] if x[2]=='+' else int(x[1][3:])*10**9+x[3],axis=1)\n",
    "genc=genc[genc[5].str[:4]!='ENSG'].copy()\n",
    "genc=genc[genc[5].str[:4]!='LINC'].copy()\n",
    "genc=genc[genc[5].str[:3]!='MIR'].copy()\n",
    "genc=genc[genc[5].str[:3]!='RPL'].copy()\n",
    "genc=genc[genc[5].str[-3:]!='-DT'].copy()\n",
    "genc=genc[genc[5].str[-4:-1]!='-AS'].copy()\n",
    "ts={}\n",
    "ts['s']=genc[[5,'tss']].drop_duplicates().groupby('tss')[5].apply(min)\n",
    "ts['t']=genc[[5,'tts']].drop_duplicates().groupby('tts')[5].apply(min)"
   ]
  },
  {
   "cell_type": "code",
   "execution_count": 164,
   "id": "027c7755-450c-46d2-8c60-aa1908f03828",
   "metadata": {},
   "outputs": [
    {
     "name": "stdout",
     "output_type": "stream",
     "text": [
      "CPU times: user 477 ms, sys: 24.1 ms, total: 501 ms\n",
      "Wall time: 470 ms\n"
     ]
    }
   ],
   "source": [
    "%%time\n",
    "dis={}\n",
    "gen={}\n",
    "for typ in ['s','t']:\n",
    "    dis[typ]=[]\n",
    "    gen[typ]=[]\n",
    "    for i,b in pl[['s','t']].iterrows():\n",
    "        fns=fn(ts[typ].index,b['s'])\n",
    "        fnt=fn(ts[typ].index,b['t'])    \n",
    "        if b['s']<fns<b['t']:\n",
    "            dis[typ].append(0)\n",
    "            gen[typ].append(ts[typ].loc[fns])        \n",
    "        elif b['s']<fnt<b['t']:\n",
    "            dis[typ].append(0)   \n",
    "            gen[typ].append(ts[typ].loc[fnt])        \n",
    "        elif np.abs(b['s']-fns)<=np.abs(b['t']-fnt):\n",
    "            dis[typ].append(np.abs(b['s']-fns))\n",
    "            gen[typ].append(ts[typ].loc[fns])\n",
    "        else:\n",
    "            dis[typ].append(np.abs(b['t']-fnt))\n",
    "            gen[typ].append(ts[typ].loc[fnt])"
   ]
  },
  {
   "cell_type": "code",
   "execution_count": 165,
   "id": "c6bdbcfd-98e1-4730-b2e5-0188fa766ae3",
   "metadata": {},
   "outputs": [],
   "source": [
    "pl['dis_s']=dis['s']\n",
    "pl['gen_s']=gen['s']\n",
    "pl['dis_t']=dis['t']\n",
    "pl['gen_t']=gen['t']"
   ]
  },
  {
   "cell_type": "code",
   "execution_count": null,
   "id": "423a2a06-3d06-4bea-b590-b7bc2a5467a1",
   "metadata": {},
   "outputs": [],
   "source": [
    "pl['Gene']=pl.apply(lambda x: gen(x),axis=1)"
   ]
  },
  {
   "cell_type": "code",
   "execution_count": 184,
   "id": "da4dc460-305d-4d8e-a62a-496bd77f8e72",
   "metadata": {},
   "outputs": [],
   "source": [
    "plpr=pl.drop(['s','t'],axis=1).copy()"
   ]
  },
  {
   "cell_type": "code",
   "execution_count": 185,
   "id": "3aa52c42-545b-44a8-b62f-e279013bcc64",
   "metadata": {},
   "outputs": [],
   "source": [
    "plpr.columns=['Number of CpGs','Chr','DMR Start','DMR End','Corr (Epic)','Corr (450k)', \n",
    "            'HMR','Gain or Loss','Distance to TSS','Nearest TSS','Distance to TTS','Nearest TTS','Gene']\n",
    "plpr[['Gene','Nearest TSS','Distance to TSS','Nearest TTS','Distance to TTS','Number of CpGs','Chr','DMR Start','DMR End','Corr (Epic)','Corr (450k)', \n",
    "            'HMR','Gain or Loss']].round(2).to_csv('data/res/genes.csv')"
   ]
  },
  {
   "cell_type": "code",
   "execution_count": null,
   "id": "6a39e5f0-e5dd-4401-a780-9db9807c0a4f",
   "metadata": {},
   "outputs": [],
   "source": []
  }
 ],
 "metadata": {
  "kernelspec": {
   "display_name": "meth",
   "language": "python",
   "name": "meth"
  },
  "language_info": {
   "codemirror_mode": {
    "name": "ipython",
    "version": 3
   },
   "file_extension": ".py",
   "mimetype": "text/x-python",
   "name": "python",
   "nbconvert_exporter": "python",
   "pygments_lexer": "ipython3",
   "version": "3.10.9"
  }
 },
 "nbformat": 4,
 "nbformat_minor": 5
}
