{
 "cells": [
  {
   "cell_type": "code",
   "execution_count": 559,
   "id": "be15c465-5287-4fc6-8b12-16d8a58a5171",
   "metadata": {},
   "outputs": [],
   "source": [
    "import pandas as pd\n",
    "from scipy.stats import pearsonr\n",
    "import seaborn as sns\n",
    "import matplotlib.pyplot as plt\n",
    "import numpy as np"
   ]
  },
  {
   "cell_type": "code",
   "execution_count": 2,
   "id": "20f10284-2e8c-4550-bd1d-c6adb969c24e",
   "metadata": {},
   "outputs": [
    {
     "name": "stdout",
     "output_type": "stream",
     "text": [
      "CPU times: user 3min 11s, sys: 14.6 s, total: 3min 26s\n",
      "Wall time: 3min 27s\n"
     ]
    }
   ],
   "source": [
    "%%time\n",
    "wb=pd.read_csv('data/array/GSE132203_Geo_Submission_GTPEpic.csv',nrows=1000000,usecols=[0]+list(range(1,1591,2)),index_col=0).round(3)"
   ]
  },
  {
   "cell_type": "code",
   "execution_count": 3,
   "id": "ecd2ce19-3c5b-4833-9c84-b1ed9d590365",
   "metadata": {},
   "outputs": [],
   "source": [
    "age=pd.read_table('https://ftp.ncbi.nlm.nih.gov/geo/series/GSE132nnn/GSE132203/matrix/GSE132203_series_matrix.txt.gz',skiprows=29+10,nrows=0,index_col=0).columns.str.strip('age: ').astype(float)"
   ]
  },
  {
   "cell_type": "code",
   "execution_count": 4,
   "id": "1000d5e8-d6fe-4c4b-b51c-d597b87b0595",
   "metadata": {},
   "outputs": [
    {
     "name": "stdout",
     "output_type": "stream",
     "text": [
      "CPU times: user 3min 57s, sys: 1.49 s, total: 3min 59s\n",
      "Wall time: 3min 59s\n"
     ]
    }
   ],
   "source": [
    "%%time \n",
    "wb_t=wb.T\n",
    "wb_t['age']=age\n",
    "wb_cor=wb_t.corrwith(wb_t['age']).drop('age').sort_values()"
   ]
  },
  {
   "cell_type": "code",
   "execution_count": 24,
   "id": "3feec41e-e0fa-42dc-b2ff-4a762224730c",
   "metadata": {},
   "outputs": [],
   "source": [
    "man=pd.read_table('../Blood-DNA-Methylation-Atlas/data/ref/EPIC.hg38.manifest.tsv',index_col='Probe_ID')[['CpG_chrm','CpG_beg']]\n",
    "man=man.dropna().copy()\n",
    "man['CpG_beg']=man['CpG_beg'].astype(int)\n",
    "man.columns=[0,1]\n",
    "man=man[man[0].isin('chr'+str(c) for c in range(1,23))].copy()\n",
    "#man['cg']=man.index"
   ]
  },
  {
   "cell_type": "code",
   "execution_count": 31,
   "id": "548b674a-7c8a-48be-b2ee-1ae5100e2757",
   "metadata": {},
   "outputs": [
    {
     "data": {
      "text/plain": [
       "(800192, 4)"
      ]
     },
     "execution_count": 31,
     "metadata": {},
     "output_type": "execute_result"
    }
   ],
   "source": [
    "man=man.merge(wb_cor.rename('cor'),left_index=True,right_index=True)\n",
    "man['pos']=man[0].str[3:].astype(int)*10**9+man[1]\n",
    "man=man.sort_values('pos')\n",
    "man.shape\n",
    "#man['bin']=man['cor']>0"
   ]
  },
  {
   "cell_type": "code",
   "execution_count": null,
   "id": "83762a0f-8aa0-4c3d-acd3-fdec421c19bc",
   "metadata": {},
   "outputs": [],
   "source": [
    "hmr=pd.read_table('/labs/mpsnyder/moqri/epi_deconv/data/arc/hmr/neo',header=None,index_col=3,usecols=[0,1,2,3])\n",
    "hmr['b']=hmr[0].str[3:].astype(int)*10**9+hmr[1]\n",
    "hmr['e']=hmr[0].str[3:].astype(int)*10**9+hmr[2]\n",
    "hmr=hmr.sort_values('b')\n",
    "%%time\n",
    "l=[]\n",
    "cur=0\n",
    "for i,b in man.iterrows():\n",
    "    if cur>=len(hmr):\n",
    "        l.append(0)\n",
    "    else: \n",
    "        pos=b['pos']\n",
    "        cg=b.name\n",
    "        b=hmr['b'].iloc[cur]\n",
    "        e=hmr['e'].iloc[cur]        \n",
    "        if pos<b:\n",
    "            l.append(0)\n",
    "        if pos>=b and pos<=e:\n",
    "            l.append(cur)\n",
    "        if pos>e:\n",
    "            while (pos>hmr['e'].iloc[cur] and cur<len(hmr)-1):\n",
    "                cur+=1\n",
    "                b=hmr['b'].iloc[cur]\n",
    "                e=hmr['e'].iloc[cur] \n",
    "            if pos>=b and pos<=e:\n",
    "                l.append(cur)\n",
    "            else:\n",
    "                l.append(0)\n",
    "man['hmr']=l\n",
    "man['hmr_bin']=man['hmr'].clip(upper=1)"
   ]
  },
  {
   "cell_type": "code",
   "execution_count": null,
   "id": "be849f6b-7d31-4e8e-8fe0-7e81cfcba2ab",
   "metadata": {},
   "outputs": [],
   "source": [
    "cor450=pd.read_csv('data/res/cor450.csv',index_col=0)\n",
    "man=man.merge(cor450,left_index=True, right_index=True,how='left')"
   ]
  },
  {
   "cell_type": "code",
   "execution_count": 140,
   "id": "2fd5a3b9-7ee6-4cb6-bf8b-86335e0fee24",
   "metadata": {},
   "outputs": [
    {
     "data": {
      "text/plain": [
       "PearsonRResult(statistic=0.09170011703738634, pvalue=0.009683327216200192)"
      ]
     },
     "execution_count": 140,
     "metadata": {},
     "output_type": "execute_result"
    }
   ],
   "source": [
    "cg=wb_cor[wb_cor>.0917].head(1).index[0]\n",
    "pearsonr(wb_t[cg],wb_t['age'])"
   ]
  },
  {
   "cell_type": "code",
   "execution_count": 54,
   "id": "d941347f-2430-4601-8364-e103de0d5f32",
   "metadata": {},
   "outputs": [],
   "source": [
    "pv=.0917"
   ]
  },
  {
   "cell_type": "code",
   "execution_count": 174,
   "id": "5e6c836a-5009-463d-b07d-863fccf9afbc",
   "metadata": {},
   "outputs": [],
   "source": [
    "#man=man[man['cor']>.07].copy()"
   ]
  },
  {
   "cell_type": "code",
   "execution_count": 242,
   "id": "97665f06-03fe-4437-8503-e27c5bed9ad0",
   "metadata": {},
   "outputs": [
    {
     "name": "stdout",
     "output_type": "stream",
     "text": [
      "CPU times: user 53.6 s, sys: 296 ms, total: 53.9 s\n",
      "Wall time: 54 s\n"
     ]
    }
   ],
   "source": [
    "%%time \n",
    "contp=[]\n",
    "c=1000000\n",
    "last=False\n",
    "last_l=-1\n",
    "last_pos=man[1].head(1).values[0]\n",
    "for i,b in man[[1,'cor']].iterrows():\n",
    "    if b[1]-last_pos>1000:\n",
    "        c+=1\n",
    "    if b['cor']>pv:\n",
    "        if last==False:\n",
    "            c+=1\n",
    "        last=True  \n",
    "        contp.append(c)\n",
    "    else:\n",
    "        contp.append(-1)\n",
    "        last=False\n",
    "    last_pos=b[1]"
   ]
  },
  {
   "cell_type": "code",
   "execution_count": 256,
   "id": "7dabd3d8-a6ce-44cc-a656-25d2739f01c9",
   "metadata": {},
   "outputs": [
    {
     "name": "stdout",
     "output_type": "stream",
     "text": [
      "CPU times: user 52.1 s, sys: 217 ms, total: 52.3 s\n",
      "Wall time: 52.4 s\n"
     ]
    }
   ],
   "source": [
    "%%time \n",
    "contn=[]\n",
    "c=2000000\n",
    "last=False\n",
    "last_l=-1\n",
    "last_pos=man[1].head(1).values[0]\n",
    "for i,b in man[[1,'cor']].iterrows():\n",
    "    if b[1]-last_pos>1000:\n",
    "        c+=1\n",
    "    if b['cor']<-pv:\n",
    "        if last==False:\n",
    "            c+=1\n",
    "        last=True  \n",
    "        contn.append(c)\n",
    "    else:\n",
    "        contn.append(-1)\n",
    "        last=False\n",
    "    last_pos=b[1]"
   ]
  },
  {
   "cell_type": "code",
   "execution_count": 257,
   "id": "ad348615-dd1d-4342-a3d0-fa7e5693c0d9",
   "metadata": {},
   "outputs": [],
   "source": [
    "man['contp']=contp\n",
    "man['contn']=contn"
   ]
  },
  {
   "cell_type": "code",
   "execution_count": 462,
   "id": "8c38c0f2-f4d2-42d3-b8d1-12c313d097b1",
   "metadata": {},
   "outputs": [
    {
     "data": {
      "text/html": [
       "<div>\n",
       "<style scoped>\n",
       "    .dataframe tbody tr th:only-of-type {\n",
       "        vertical-align: middle;\n",
       "    }\n",
       "\n",
       "    .dataframe tbody tr th {\n",
       "        vertical-align: top;\n",
       "    }\n",
       "\n",
       "    .dataframe thead th {\n",
       "        text-align: right;\n",
       "    }\n",
       "</style>\n",
       "<table border=\"1\" class=\"dataframe\">\n",
       "  <thead>\n",
       "    <tr style=\"text-align: right;\">\n",
       "      <th></th>\n",
       "      <th>0</th>\n",
       "      <th>chr</th>\n",
       "      <th>b</th>\n",
       "      <th>e</th>\n",
       "      <th>cor</th>\n",
       "      <th>cor450</th>\n",
       "      <th>hmr</th>\n",
       "    </tr>\n",
       "    <tr>\n",
       "      <th>contp</th>\n",
       "      <th></th>\n",
       "      <th></th>\n",
       "      <th></th>\n",
       "      <th></th>\n",
       "      <th></th>\n",
       "      <th></th>\n",
       "      <th></th>\n",
       "    </tr>\n",
       "  </thead>\n",
       "  <tbody>\n",
       "    <tr>\n",
       "      <th>49023</th>\n",
       "      <td>3</td>\n",
       "      <td>chr2</td>\n",
       "      <td>105399281</td>\n",
       "      <td>105399309</td>\n",
       "      <td>0.717583</td>\n",
       "      <td>0.825327</td>\n",
       "      <td>1.000000</td>\n",
       "    </tr>\n",
       "    <tr>\n",
       "      <th>72766</th>\n",
       "      <td>9</td>\n",
       "      <td>chr3</td>\n",
       "      <td>51706605</td>\n",
       "      <td>51707456</td>\n",
       "      <td>0.539097</td>\n",
       "      <td>0.723285</td>\n",
       "      <td>0.888889</td>\n",
       "    </tr>\n",
       "    <tr>\n",
       "      <th>288581</th>\n",
       "      <td>4</td>\n",
       "      <td>chr15</td>\n",
       "      <td>72319783</td>\n",
       "      <td>72319879</td>\n",
       "      <td>0.526374</td>\n",
       "      <td>0.523217</td>\n",
       "      <td>1.000000</td>\n",
       "    </tr>\n",
       "    <tr>\n",
       "      <th>32067</th>\n",
       "      <td>3</td>\n",
       "      <td>chr1</td>\n",
       "      <td>228212515</td>\n",
       "      <td>228212926</td>\n",
       "      <td>0.515130</td>\n",
       "      <td>0.589686</td>\n",
       "      <td>1.000000</td>\n",
       "    </tr>\n",
       "    <tr>\n",
       "      <th>132279</th>\n",
       "      <td>3</td>\n",
       "      <td>chr6</td>\n",
       "      <td>27631361</td>\n",
       "      <td>27631395</td>\n",
       "      <td>0.497728</td>\n",
       "      <td>0.639231</td>\n",
       "      <td>1.000000</td>\n",
       "    </tr>\n",
       "  </tbody>\n",
       "</table>\n",
       "</div>"
      ],
      "text/plain": [
       "        0    chr          b          e       cor    cor450       hmr\n",
       "contp                                                               \n",
       "49023   3   chr2  105399281  105399309  0.717583  0.825327  1.000000\n",
       "72766   9   chr3   51706605   51707456  0.539097  0.723285  0.888889\n",
       "288581  4  chr15   72319783   72319879  0.526374  0.523217  1.000000\n",
       "32067   3   chr1  228212515  228212926  0.515130  0.589686  1.000000\n",
       "132279  3   chr6   27631361   27631395  0.497728  0.639231  1.000000"
      ]
     },
     "execution_count": 462,
     "metadata": {},
     "output_type": "execute_result"
    }
   ],
   "source": [
    "mgc=pd.DataFrame(man.groupby('contp')[0].count())\n",
    "mgc['chr']=man.groupby('contp')[0].first()\n",
    "mgc['b']=man.groupby('contp')[1].first()\n",
    "mgc['e']=man.groupby('contp')[1].last()\n",
    "mgc['cor']=man.groupby('contp')['cor'].mean()\n",
    "mgc['cor450']=man.groupby('contp')['cor_450'].mean()\n",
    "mgc['hmr']=man.groupby('contp')['hmr_bin'].mean()\n",
    "topp=mgc[mgc[0]>=3].sort_values('cor',ascending=False)\n",
    "topp.head(5)"
   ]
  },
  {
   "cell_type": "code",
   "execution_count": 200,
   "id": "7f02967e-2b10-40ca-8427-74b553668ea9",
   "metadata": {},
   "outputs": [],
   "source": [
    "topp.to_csv('data/res/epicor_p.csv')"
   ]
  },
  {
   "cell_type": "code",
   "execution_count": 249,
   "id": "6efee7f7-cd61-49cc-87ec-c782c83de566",
   "metadata": {},
   "outputs": [
    {
     "data": {
      "text/plain": [
       "array([[<Axes: title={'center': 'cor450'}>]], dtype=object)"
      ]
     },
     "execution_count": 249,
     "metadata": {},
     "output_type": "execute_result"
    },
    {
     "data": {
      "image/png": "[encoded data removed]",
      "text/plain": [
       "<Figure size 640x480 with 1 Axes>"
      ]
     },
     "metadata": {},
     "output_type": "display_data"
    }
   ],
   "source": [
    "topl[['cor','cor450']].tail(500).hist('cor450',bins=100)"
   ]
  },
  {
   "cell_type": "code",
   "execution_count": 451,
   "id": "f16bcf19-e781-4f52-a47e-d13d3c7749f2",
   "metadata": {},
   "outputs": [
    {
     "data": {
      "text/html": [
       "<div>\n",
       "<style scoped>\n",
       "    .dataframe tbody tr th:only-of-type {\n",
       "        vertical-align: middle;\n",
       "    }\n",
       "\n",
       "    .dataframe tbody tr th {\n",
       "        vertical-align: top;\n",
       "    }\n",
       "\n",
       "    .dataframe thead th {\n",
       "        text-align: right;\n",
       "    }\n",
       "</style>\n",
       "<table border=\"1\" class=\"dataframe\">\n",
       "  <thead>\n",
       "    <tr style=\"text-align: right;\">\n",
       "      <th></th>\n",
       "      <th>0</th>\n",
       "      <th>chr</th>\n",
       "      <th>b</th>\n",
       "      <th>e</th>\n",
       "      <th>cor</th>\n",
       "      <th>hmr</th>\n",
       "      <th>cor450</th>\n",
       "    </tr>\n",
       "    <tr>\n",
       "      <th>contn</th>\n",
       "      <th></th>\n",
       "      <th></th>\n",
       "      <th></th>\n",
       "      <th></th>\n",
       "      <th></th>\n",
       "      <th></th>\n",
       "      <th></th>\n",
       "    </tr>\n",
       "  </thead>\n",
       "  <tbody>\n",
       "    <tr>\n",
       "      <th>364160</th>\n",
       "      <td>4</td>\n",
       "      <td>chr19</td>\n",
       "      <td>15419794</td>\n",
       "      <td>15420058</td>\n",
       "      <td>-0.492347</td>\n",
       "      <td>NaN</td>\n",
       "      <td>-0.510260</td>\n",
       "    </tr>\n",
       "    <tr>\n",
       "      <th>154263</th>\n",
       "      <td>6</td>\n",
       "      <td>chr6</td>\n",
       "      <td>110415218</td>\n",
       "      <td>110415849</td>\n",
       "      <td>-0.440743</td>\n",
       "      <td>NaN</td>\n",
       "      <td>-0.389990</td>\n",
       "    </tr>\n",
       "    <tr>\n",
       "      <th>6430</th>\n",
       "      <td>3</td>\n",
       "      <td>chr1</td>\n",
       "      <td>22642498</td>\n",
       "      <td>22642846</td>\n",
       "      <td>-0.432295</td>\n",
       "      <td>NaN</td>\n",
       "      <td>-0.198782</td>\n",
       "    </tr>\n",
       "    <tr>\n",
       "      <th>145942</th>\n",
       "      <td>3</td>\n",
       "      <td>chr6</td>\n",
       "      <td>33162210</td>\n",
       "      <td>33162256</td>\n",
       "      <td>-0.419197</td>\n",
       "      <td>NaN</td>\n",
       "      <td>-0.478346</td>\n",
       "    </tr>\n",
       "    <tr>\n",
       "      <th>96629</th>\n",
       "      <td>4</td>\n",
       "      <td>chr3</td>\n",
       "      <td>194270717</td>\n",
       "      <td>194271566</td>\n",
       "      <td>-0.413187</td>\n",
       "      <td>NaN</td>\n",
       "      <td>-0.564411</td>\n",
       "    </tr>\n",
       "  </tbody>\n",
       "</table>\n",
       "</div>"
      ],
      "text/plain": [
       "        0    chr          b          e       cor  hmr    cor450\n",
       "contn                                                          \n",
       "364160  4  chr19   15419794   15420058 -0.492347  NaN -0.510260\n",
       "154263  6   chr6  110415218  110415849 -0.440743  NaN -0.389990\n",
       "6430    3   chr1   22642498   22642846 -0.432295  NaN -0.198782\n",
       "145942  3   chr6   33162210   33162256 -0.419197  NaN -0.478346\n",
       "96629   4   chr3  194270717  194271566 -0.413187  NaN -0.564411"
      ]
     },
     "execution_count": 451,
     "metadata": {},
     "output_type": "execute_result"
    }
   ],
   "source": [
    "mgc=pd.DataFrame(man.groupby('contn')[0].count())\n",
    "mgc['chr']=man.groupby('contn')[0].first()\n",
    "mgc['b']=man.groupby('contn')[1].first()\n",
    "mgc['e']=man.groupby('contn')[1].last()\n",
    "mgc['cor']=man.groupby('contn')['cor'].mean()\n",
    "mgc['hmr']=man.groupby('contp')['hmr_bin'].mean()\n",
    "mgc['hmr']=mgc['hmr'].fillna(0)\n",
    "mgc['cor450']=man.groupby('contn')['cor_450'].mean()\n",
    "topn=mgc[mgc[0]>=3].sort_values('cor')\n",
    "topn.head(5)"
   ]
  },
  {
   "cell_type": "code",
   "execution_count": 259,
   "id": "b4d83163-8447-49fb-8d15-1c0425eada26",
   "metadata": {},
   "outputs": [
    {
     "data": {
      "text/plain": [
       "array([[<Axes: title={'center': 'cor450'}>]], dtype=object)"
      ]
     },
     "execution_count": 259,
     "metadata": {},
     "output_type": "execute_result"
    },
    {
     "data": {
      "image/png": "[encoded data removed]",
      "text/plain": [
       "<Figure size 640x480 with 1 Axes>"
      ]
     },
     "metadata": {},
     "output_type": "display_data"
    }
   ],
   "source": [
    "topn[['cor','cor450']].head(500).dropna().hist('cor450',bins=100)"
   ]
  },
  {
   "cell_type": "code",
   "execution_count": 260,
   "id": "fc5e9e75-6914-458b-9f4d-bb4a820b5dca",
   "metadata": {},
   "outputs": [],
   "source": [
    "topn.to_csv('data/res/epicor_n.csv')"
   ]
  },
  {
   "cell_type": "code",
   "execution_count": 613,
   "id": "0fd15f5a-f697-4a11-8375-5cc12a09c354",
   "metadata": {},
   "outputs": [
    {
     "data": {
      "text/plain": [
       "<Axes: xlabel='dir', ylabel='0'>"
      ]
     },
     "execution_count": 613,
     "metadata": {},
     "output_type": "execute_result"
    },
    {
     "data": {
      "image/png": "[encoded data removed]",
      "text/plain": [
       "<Figure size 640x480 with 1 Axes>"
      ]
     },
     "metadata": {},
     "output_type": "display_data"
    }
   ],
   "source": [
    "topp['dir']='Gain'\n",
    "topn['dir']='Loss'\n",
    "pl=pd.concat([topp.head(1000),topn.head(1000)])\n",
    "sns.violinplot(data=pl[[0,'dir']],x='dir',y=0)"
   ]
  },
  {
   "cell_type": "code",
   "execution_count": 614,
   "id": "9eb3ce92-f7fb-4ce6-b4b1-b59ed9abf083",
   "metadata": {},
   "outputs": [],
   "source": [
    "pl['rank']=pl['cor'].abs()\n",
    "pl=pl.sort_values('rank',ascending=False).head(1000).copy()\n",
    "pl=pl.drop('rank',axis=1)\n",
    "pl.index=range(1,1001)"
   ]
  },
  {
   "cell_type": "code",
   "execution_count": 615,
   "id": "2c62105c-6bc2-4f95-8046-506dcccb629c",
   "metadata": {},
   "outputs": [],
   "source": [
    "pl['hmr']=(pl['hmr']>0)"
   ]
  },
  {
   "cell_type": "code",
   "execution_count": 616,
   "id": "212dbd1e-77f3-4f2f-ba2d-6ac32457f0cf",
   "metadata": {},
   "outputs": [],
   "source": [
    "pg=pl.groupby(['dir','hmr'])['cor'].count()"
   ]
  },
  {
   "cell_type": "code",
   "execution_count": 617,
   "id": "05b8e36f-bd05-43f7-a84e-fb300207558d",
   "metadata": {},
   "outputs": [
    {
     "data": {
      "image/png": "[encoded data removed]",
      "text/plain": [
       "<Figure size 640x480 with 1 Axes>"
      ]
     },
     "metadata": {},
     "output_type": "display_data"
    }
   ],
   "source": [
    "direc = (\n",
    "    \"Gain\",\n",
    "    \"Loss\",\n",
    ")\n",
    "counts = {\n",
    "    \"HMR\": np.array([pg.loc[('Gain', True)],pg.loc[('Loss', True)]]),\n",
    "    \"Outside HMR\": np.array([pg.loc[('Gain', False)],pg.loc[('Loss', False)]]),\n",
    "}\n",
    "width = 0.5\n",
    "\n",
    "fig, ax = plt.subplots()\n",
    "bottom = np.zeros(2)\n",
    "\n",
    "for boolean, c in counts.items():\n",
    "    p = ax.bar(direc, c, width, label=boolean, bottom=bottom)\n",
    "    bottom += c\n",
    "\n",
    "ax.set_title(\"Number of DMR regions with DNAm Gain/Loss and in/outside of HMRs\")\n",
    "ax.legend(loc=\"upper right\")\n",
    "\n",
    "plt.show()"
   ]
  },
  {
   "cell_type": "code",
   "execution_count": null,
   "id": "7d489476-9ec0-4330-857b-50887cb494c2",
   "metadata": {},
   "outputs": [],
   "source": [
    "%%time\n",
    "pro=pd.read_table('data/ref/promoters.txt',header=None,index_col=3)[[0,6,5]]\n",
    "dic={}\n",
    "for c in range(1,23):\n",
    "    dic['chr'+str(c)]=pro[pro[0]=='chr'+str(c)]\n",
    "g=[]\n",
    "gd=[]\n",
    "for i,b in pl[['chr','b','e']].iterrows():\n",
    "    inp=0\n",
    "    clos=999999\n",
    "    for j,r in dic[b['chr']][[6,5]].iterrows():\n",
    "        if r[6]>=b['b'] and r[6]<=b['e']:\n",
    "            g.append(r.name)\n",
    "            gd.append(0)\n",
    "            inp=1\n",
    "            break\n",
    "        else:\n",
    "            if r[6]<b['b']:\n",
    "                d=b['b']-r[6]\n",
    "            if r[6]>b['e']:\n",
    "                d=r[6]-b['b']\n",
    "        if d<clos:\n",
    "            clos=d\n",
    "            clos_g=r.name\n",
    "    if inp==0:\n",
    "        g.append(clos_g)\n",
    "        gd.append(clos)"
   ]
  },
  {
   "cell_type": "code",
   "execution_count": 618,
   "id": "60b543a7-75dc-4066-9de1-8cb1322e2e83",
   "metadata": {},
   "outputs": [],
   "source": [
    "pl['g']=g\n",
    "pl['gd']=gd"
   ]
  },
  {
   "cell_type": "code",
   "execution_count": 619,
   "id": "d037f0b9-0908-4610-a606-0ca44ece400f",
   "metadata": {},
   "outputs": [],
   "source": [
    "pl['g']=pl['g'].str.split('_').str[0]"
   ]
  },
  {
   "cell_type": "code",
   "execution_count": 620,
   "id": "6893f3fd-ac3b-4ed2-a823-a46ad4175f0f",
   "metadata": {},
   "outputs": [],
   "source": [
    "pl.columns=['Number of CpGs','Chr','DMR Start','DMR End','Corr (Epic)','Corr (450k)', \n",
    "            'HMR','Gain or Loss','Gene','Distance to TSS']"
   ]
  },
  {
   "cell_type": "code",
   "execution_count": 621,
   "id": "6fbc5248-1249-4803-b2f3-6919ed8e6be8",
   "metadata": {},
   "outputs": [],
   "source": [
    "pl[['Gene','Distance to TSS','Number of CpGs','Chr','DMR Start','DMR End','Corr (Epic)','Corr (450k)', \n",
    "            'HMR','Gain or Loss']].round(2).to_csv('data/res/genes.csv')"
   ]
  }
 ],
 "metadata": {
  "kernelspec": {
   "display_name": "meth",
   "language": "python",
   "name": "meth"
  },
  "language_info": {
   "codemirror_mode": {
    "name": "ipython",
    "version": 3
   },
   "file_extension": ".py",
   "mimetype": "text/x-python",
   "name": "python",
   "nbconvert_exporter": "python",
   "pygments_lexer": "ipython3",
   "version": "3.10.9"
  }
 },
 "nbformat": 4,
 "nbformat_minor": 5
}
