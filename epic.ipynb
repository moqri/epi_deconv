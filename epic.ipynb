{
 "cells": [
  {
   "cell_type": "code",
   "execution_count": 1,
   "id": "827e628b-4c90-4049-93e7-0ae173ecd7a8",
   "metadata": {},
   "outputs": [],
   "source": [
    "import pandas as pd"
   ]
  },
  {
   "cell_type": "code",
   "execution_count": 5,
   "id": "7145233a-29e4-4be0-89d6-9636ea9e55ce",
   "metadata": {},
   "outputs": [],
   "source": [
    "epic='https://github.com/zhou-lab/InfiniumAnnotationV1/raw/main/Anno/EPIC/EPIC.hg38.manifest.tsv.gz'\n",
    "df=pd.read_table(epic,index_col='Probe_ID',usecols=['Probe_ID','CpG_chrm','CpG_beg'])"
   ]
  },
  {
   "cell_type": "code",
   "execution_count": 25,
   "id": "b5c1e932-1079-4718-bc9b-db6c7c92cfdc",
   "metadata": {},
   "outputs": [],
   "source": [
    "# download from https://www.ncbi.nlm.nih.gov/geo/query/acc.cgi?acc=GSM2998021\n",
    "dna='/Users/mahdimoqri/Downloads/GSM2998021-7595.txt'"
   ]
  },
  {
   "cell_type": "code",
   "execution_count": 17,
   "id": "4afc14b7-27a1-40cd-8e21-c01b5e50a8c7",
   "metadata": {},
   "outputs": [],
   "source": [
    "dna=pd.read_table(dna,skiprows=3,usecols=['ID_REF','VALUE'],index_col='ID_REF')"
   ]
  },
  {
   "cell_type": "code",
   "execution_count": 24,
   "id": "eafee0e7-4b57-4202-8dc2-d8e8255ea837",
   "metadata": {},
   "outputs": [],
   "source": [
    "df=df.merge(dna,left_index=True,right_index=True)"
   ]
  },
  {
   "cell_type": "code",
   "execution_count": null,
   "id": "70550f71-9ec5-43f8-9b6b-840d9e4b421b",
   "metadata": {},
   "outputs": [],
   "source": []
  }
 ],
 "metadata": {
  "kernelspec": {
   "display_name": "Python 3 (ipykernel)",
   "language": "python",
   "name": "python3"
  },
  "language_info": {
   "codemirror_mode": {
    "name": "ipython",
    "version": 3
   },
   "file_extension": ".py",
   "mimetype": "text/x-python",
   "name": "python",
   "nbconvert_exporter": "python",
   "pygments_lexer": "ipython3",
   "version": "3.10.9"
  }
 },
 "nbformat": 4,
 "nbformat_minor": 5
}
