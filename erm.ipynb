{
 "cells": [
  {
   "cell_type": "code",
   "execution_count": 17,
   "id": "827e628b-4c90-4049-93e7-0ae173ecd7a8",
   "metadata": {},
   "outputs": [],
   "source": [
    "import pandas as pd"
   ]
  },
  {
   "cell_type": "code",
   "execution_count": 18,
   "id": "a6f5e57f-7901-43e3-aea4-404f1fe9dc45",
   "metadata": {},
   "outputs": [
    {
     "data": {
      "text/plain": [
       "(3588879, 2)"
      ]
     },
     "execution_count": 18,
     "metadata": {},
     "output_type": "execute_result"
    }
   ],
   "source": [
    "erm=pd.read_table('data/erm',header=None,sep=' ')\n",
    "erm.shape"
   ]
  },
  {
   "cell_type": "code",
   "execution_count": 19,
   "id": "4508cdf2-dde6-47b6-9768-4470236a25ee",
   "metadata": {},
   "outputs": [],
   "source": [
    "#for illumina 450\n",
    "m450='https://github.com/zhou-lab/InfiniumAnnotationV1/raw/main/Anno/HM450/HM450.hg38.manifest.tsv.gz'\n",
    "m450=pd.read_table(m450,usecols=['Probe_ID','CpG_chrm','CpG_beg'])"
   ]
  },
  {
   "cell_type": "code",
   "execution_count": 20,
   "id": "2b0731c0-fa68-4c57-833f-0a51de7213d8",
   "metadata": {},
   "outputs": [],
   "source": [
    "m27_='https://github.com/zhou-lab/InfiniumAnnotationV1/raw/main/Anno/HM27/HM27.hg38.manifest.tsv.gz'\n",
    "m27=pd.read_table(m27_,usecols=['probeID','CpG_chrm','CpG_beg'])\n",
    "m27.columns=['CpG_chrm','CpG_beg','Probe_ID']"
   ]
  },
  {
   "cell_type": "code",
   "execution_count": 21,
   "id": "88bc6ee6-a198-45e3-ad6f-c6dbed9434a6",
   "metadata": {},
   "outputs": [],
   "source": [
    "array=pd.concat([m27,m450]).drop_duplicates()"
   ]
  },
  {
   "cell_type": "code",
   "execution_count": 22,
   "id": "1bc99dea-254e-4ec0-81be-3ade3079e087",
   "metadata": {},
   "outputs": [],
   "source": [
    "erm_array=array.merge(erm,left_on=['CpG_chrm','CpG_beg'],right_on=[0,1])[['Probe_ID','CpG_chrm','CpG_beg']]\n",
    "erm_array['CpG_beg']=erm_array['CpG_beg'].astype(int)\n",
    "erm_array.to_csv('data/erm.array',index=False)"
   ]
  },
  {
   "cell_type": "code",
   "execution_count": 24,
   "id": "7fdcd751-7f6c-4286-882a-a27b4e37107a",
   "metadata": {},
   "outputs": [],
   "source": [
    "proms=pd.read_table('data/erm.promoter',\n",
    "              header=None,usecols=[0,1,2,3])\n",
    "proms.columns=['CpG_chrm','CpG_beg','CpG_end','Promoter']\n",
    "proms['Gene']=proms['Promoter'].str.split('_').str[0]\n",
    "proms[['Gene','Promoter','CpG_chrm','CpG_beg','CpG_end']].to_csv('data/erm.genes')"
   ]
  },
  {
   "cell_type": "code",
   "execution_count": 49,
   "id": "dc318711-d685-467f-8e12-edb1d924e005",
   "metadata": {},
   "outputs": [
    {
     "name": "stdout",
     "output_type": "stream",
     "text": [
      "1 cg18247055 YES\n",
      "2 cg08521677 YES\n",
      "3 cg14428146 YES\n",
      "4 cg10119075 YES\n",
      "5 cg21988119 YES\n",
      "6 cg09193347 YES\n",
      "7 cg07113642 YES\n",
      "8 cg24033558 YES\n",
      "9 cg17154724 YES\n",
      "10 cg16260298 YES\n",
      "11 cg13703049 YES\n",
      "12 cg03657573 YES\n",
      "13 cg07390647 YES\n",
      "14 cg16198315 YES\n",
      "15 cg25762396 YES\n",
      "16 cg23495581 YES\n",
      "17 cg13801416 YES\n",
      "18 cg00557354 YES\n",
      "19 cg21513553 YES\n",
      "20 cg16557944 YES\n",
      "21 cg25438963 YES\n",
      "22 cg06760035 YES\n",
      "23 cg09952204 YES\n",
      "24 cg00777121 YES\n",
      "25 cg14696396 YES\n",
      "26 cg06856528 YES\n",
      "26 APC YES\n",
      "26 FOXA1 YES\n",
      "26 RASSF1A NEED TO CHECK\n",
      "26 SCGB3A1 YES\n",
      "26 SOX17 YES\n",
      "26 KLK10 YES\n",
      "26 SOX17 YES\n",
      "26 WNT5A YES\n",
      "26 MSH2 YES\n",
      "26 GATA3 YES\n",
      "26 CCND2 YES\n",
      "26 ESR1 YES\n",
      "26 ESR1 YES\n",
      "26 GSTP1 YES\n",
      "26 APC YES\n",
      "26 SFRP2 YES\n",
      "26 RASSF1 YES\n",
      "26 SSBP2 YES\n",
      "26 MCAM YES\n",
      "26 ERα NEED TO CHECK\n",
      "26 ERβ NEED TO CHECK\n",
      "26 APC YES\n",
      "26 CCND2 YES\n",
      "26 MGMT YES\n",
      "26 GSTP1 YES\n",
      "26 p16 NEED TO CHECK\n",
      "26 RARβ2 NEED TO CHECK\n"
     ]
    }
   ],
   "source": [
    "import pandas as pd\n",
    "import pandas as pd\n",
    "erm_array=pd.read_csv('data/erm.array')\n",
    "erm_array_sites=erm_array['Probe_ID'].values\n",
    "cfDNA_sites=pd.read_csv('sites.txt',header=None)[0].values\n",
    "i=0\n",
    "for site in cfDNA_sites:\n",
    "    i+=1\n",
    "    if site in erm_array_sites:\n",
    "        print(i, site, 'YES')\n",
    "    else:\n",
    "        print(i, site, 'NEED TO CHECK')    \n",
    "erm_promoter=pd.read_csv('data/erm.genes',index_col=0)\n",
    "erm_promoter_genes=set(erm_promoter['Gene'].values)\n",
    "cfDNA_regions=pd.read_csv('regions.txt',header=None)[0].values\n",
    "for region in cfDNA_regions:\n",
    "    if region in erm_promoter_genes:\n",
    "        print(i, region, 'YES')\n",
    "    else:\n",
    "        print(i, region, 'NEED TO CHECK')"
   ]
  },
  {
   "cell_type": "code",
   "execution_count": null,
   "id": "3f99da13-3d0b-467b-b9c7-88d35e28bc94",
   "metadata": {},
   "outputs": [],
   "source": [
    "#for epic\n",
    "epic='https://github.com/zhou-lab/InfiniumAnnotationV1/raw/main/Anno/EPIC/EPIC.hg38.manifest.tsv.gz'\n",
    "epic=pd.read_table(epic,usecols=['Probe_ID','CpG_chrm','CpG_beg'])\n",
    "erm_epic=epic.merge(erm,left_on=['CpG_chrm','CpG_beg'],right_on=[0,1])[['Probe_ID','CpG_chrm','CpG_beg']]\n",
    "erm_epic['CpG_beg']=erm_epic['CpG_beg'].astype(int)\n"
   ]
  }
 ],
 "metadata": {
  "kernelspec": {
   "display_name": "Python 3 (ipykernel)",
   "language": "python",
   "name": "python3"
  },
  "language_info": {
   "codemirror_mode": {
    "name": "ipython",
    "version": 3
   },
   "file_extension": ".py",
   "mimetype": "text/x-python",
   "name": "python",
   "nbconvert_exporter": "python",
   "pygments_lexer": "ipython3",
   "version": "3.10.9"
  }
 },
 "nbformat": 4,
 "nbformat_minor": 5
}
