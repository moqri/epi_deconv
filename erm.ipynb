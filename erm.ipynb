{
 "cells": [
  {
   "cell_type": "code",
   "execution_count": 84,
   "id": "827e628b-4c90-4049-93e7-0ae173ecd7a8",
   "metadata": {},
   "outputs": [],
   "source": [
    "import pandas as pd"
   ]
  },
  {
   "cell_type": "code",
   "execution_count": 85,
   "id": "a6f5e57f-7901-43e3-aea4-404f1fe9dc45",
   "metadata": {},
   "outputs": [
    {
     "data": {
      "text/plain": [
       "(3588879, 2)"
      ]
     },
     "execution_count": 85,
     "metadata": {},
     "output_type": "execute_result"
    }
   ],
   "source": [
    "erm=pd.read_table('data/erm',header=None,sep=' ')\n",
    "erm.shape"
   ]
  },
  {
   "cell_type": "code",
   "execution_count": 111,
   "id": "d67d231f-496d-4f74-be56-3ae6d3e72c89",
   "metadata": {},
   "outputs": [],
   "source": [
    "erm.columns=['ch38','pos38']"
   ]
  },
  {
   "cell_type": "code",
   "execution_count": 116,
   "id": "0a545e6e-2f17-4a07-965b-c2dee2fd8bcd",
   "metadata": {},
   "outputs": [
    {
     "data": {
      "text/plain": [
       "(3576081, 4)"
      ]
     },
     "execution_count": 116,
     "metadata": {},
     "output_type": "execute_result"
    }
   ],
   "source": [
    "erm19=pd.read_table('data/erm19.bed',header=None)\n",
    "erm19.columns=['ch19','pos19','end19','ch_pos19']\n",
    "erm19.shape"
   ]
  },
  {
   "cell_type": "code",
   "execution_count": 119,
   "id": "2e18e18b-9cc0-43c1-a503-262390b598f7",
   "metadata": {},
   "outputs": [],
   "source": [
    "erm19['ch38']=erm19['ch_pos19'].str.split('_').str[0]\n",
    "erm19['pos38']=erm19['ch_pos19'].str.split('_').str[1].astype(int)"
   ]
  },
  {
   "cell_type": "code",
   "execution_count": 120,
   "id": "c3ec96e6-035a-405e-8f70-49c136fae2d4",
   "metadata": {},
   "outputs": [],
   "source": [
    "erm_an=erm.merge(erm19,how='left',left_on=['ch38','pos38'],right_on=['ch38','pos38'])[['ch38','pos38','ch19','pos19']]"
   ]
  },
  {
   "cell_type": "code",
   "execution_count": 127,
   "id": "44bfadf5-992e-4210-98c2-5b20675db914",
   "metadata": {},
   "outputs": [],
   "source": [
    "erm_an.to_csv('data/erm_an.csv',index=False)"
   ]
  },
  {
   "cell_type": "code",
   "execution_count": 19,
   "id": "4508cdf2-dde6-47b6-9768-4470236a25ee",
   "metadata": {},
   "outputs": [],
   "source": [
    "#for illumina 450\n",
    "m450='https://github.com/zhou-lab/InfiniumAnnotationV1/raw/main/Anno/HM450/HM450.hg38.manifest.tsv.gz'\n",
    "m450=pd.read_table(m450,usecols=['Probe_ID','CpG_chrm','CpG_beg'])"
   ]
  },
  {
   "cell_type": "code",
   "execution_count": 20,
   "id": "2b0731c0-fa68-4c57-833f-0a51de7213d8",
   "metadata": {},
   "outputs": [],
   "source": [
    "m27_='https://github.com/zhou-lab/InfiniumAnnotationV1/raw/main/Anno/HM27/HM27.hg38.manifest.tsv.gz'\n",
    "m27=pd.read_table(m27_,usecols=['probeID','CpG_chrm','CpG_beg'])\n",
    "m27.columns=['CpG_chrm','CpG_beg','Probe_ID']"
   ]
  },
  {
   "cell_type": "code",
   "execution_count": 21,
   "id": "88bc6ee6-a198-45e3-ad6f-c6dbed9434a6",
   "metadata": {},
   "outputs": [],
   "source": [
    "array=pd.concat([m27,m450]).drop_duplicates()"
   ]
  },
  {
   "cell_type": "code",
   "execution_count": 52,
   "id": "1bc99dea-254e-4ec0-81be-3ade3079e087",
   "metadata": {},
   "outputs": [],
   "source": [
    "erm_array=array.merge(erm,left_on=['CpG_chrm','CpG_beg'],right_on=[0,1])[['Probe_ID','CpG_chrm','CpG_beg']]\n",
    "erm_array['CpG_beg']=erm_array['CpG_beg'].astype(int)\n",
    "erm_array.to_csv('data/erm_sites.csv',index=False)"
   ]
  },
  {
   "cell_type": "code",
   "execution_count": 53,
   "id": "7fdcd751-7f6c-4286-882a-a27b4e37107a",
   "metadata": {},
   "outputs": [],
   "source": [
    "proms=pd.read_table('data/erm.promoter',\n",
    "              header=None,usecols=[0,1,2,3])\n",
    "proms.columns=['CpG_chrm','CpG_beg','CpG_end','Promoter']\n",
    "proms['Gene']=proms['Promoter'].str.split('_').str[0]\n",
    "proms[['Gene','Promoter','CpG_chrm','CpG_beg','CpG_end']].to_csv('data/erm_genes.csv')"
   ]
  },
  {
   "cell_type": "code",
   "execution_count": 227,
   "id": "1fd13e38-f95b-4479-b9bf-942640e9c215",
   "metadata": {},
   "outputs": [
    {
     "name": "stdout",
     "output_type": "stream",
     "text": [
      "1 cg18247055 YES\n",
      "2 cg08521677 YES\n",
      "3 cg14428146 YES\n",
      "4 cg10119075 YES\n",
      "5 cg21988119 YES\n",
      "6 cg09193347 YES\n",
      "7 cg07113642 YES\n",
      "8 cg24033558 YES\n",
      "9 cg17154724 YES\n",
      "10 cg16260298 YES\n",
      "11 cg13703049 YES\n",
      "12 cg03657573 YES\n",
      "13 cg07390647 YES\n",
      "14 cg16198315 YES\n",
      "15 cg25762396 YES\n",
      "16 cg23495581 YES\n",
      "17 cg13801416 YES\n",
      "18 cg00557354 YES\n",
      "19 cg21513553 YES\n",
      "20 cg16557944 YES\n",
      "21 cg25438963 YES\n",
      "22 cg06760035 YES\n",
      "23 cg09952204 YES\n",
      "24 cg00777121 YES\n",
      "25 cg14696396 YES\n",
      "26 cg06856528 YES\n",
      "27 cg16051361 YES\n",
      "28 cg25617519 NEED TO CHECK\n",
      "29 cg08112737 NEED TO CHECK\n",
      "30 cg08889336 YES\n",
      "31 cg08730348 YES\n",
      "32 cg11474701 NEED TO CHECK\n",
      "33 cg20782117 NEED TO CHECK\n",
      "34 cg00041599 YES\n",
      "35 cg25461186 YES\n",
      "36 cg09185884 YES\n",
      "37 cg12725706 YES\n",
      "38 cg04028224 YES\n",
      "39 cg01815536 NEED TO CHECK\n",
      "40 cg14899522 NEED TO CHECK\n",
      "41 cg23331010 NEED TO CHECK\n",
      "42 cg08972357 NEED TO CHECK\n",
      "43 cg11547104 NEED TO CHECK\n",
      "44 cg03313364 YES\n",
      "45 cg02121529 YES\n",
      "46 cg15900387 NEED TO CHECK\n",
      "47 cg25610515 YES\n",
      "48 cg20744163 YES\n",
      "49 cg11610350 YES\n",
      "50 cg16771771 NEED TO CHECK\n",
      "51 cg09577144 NEED TO CHECK\n",
      "52 cg10984178 NEED TO CHECK\n",
      "53 ch.10.7244193R NEED TO CHECK\n",
      "54 cg09927651 NEED TO CHECK\n",
      "55 cg00531453 YES\n",
      "56 cg07056285 YES\n",
      "57 cg14416371 YES\n",
      "58 cg08189989 YES\n",
      "59 cg00100121 YES\n",
      "60 cg03306374 YES\n",
      "61 cg01419831 YES\n",
      "62 cg25875213 YES\n",
      "63 cg00339556 YES\n",
      "64 cg01893212 YES\n",
      "65 cg14732324 YES\n",
      "66 cg07302069 YES\n",
      "67 cg24423088 NEED TO CHECK\n",
      "68 cg02723533 NEED TO CHECK\n",
      "69 cg00062776 NEED TO CHECK\n",
      "70 cg26521404 YES\n",
      "71 cg01354473 YES\n",
      "72 cg01381846 YES\n",
      "73 cg07778029 YES\n",
      "74 cg10673833 YES\n",
      "75 cg23095612 NEED TO CHECK\n",
      "76 cg08862890 YES\n",
      "77 cg08348496 YES\n"
     ]
    }
   ],
   "source": [
    "erm_sites_file='data/erm_sites.csv'\n",
    "cfDNA_sites_file='sites.txt'\n",
    "erm_sites=pd.read_csv(erm_sites_file)['Probe_ID'].values\n",
    "cfDNA_sites=pd.read_csv(cfDNA_sites_file,header=None)[0].values\n",
    "i=0\n",
    "for site in cfDNA_sites:\n",
    "    i+=1\n",
    "    if site in erm_sites:\n",
    "        print(i, site, 'YES')\n",
    "        #print('YES')\n",
    "    else:\n",
    "        print(i, site, 'NEED TO CHECK')    \n",
    "        #print('NEED TO CHECK')    "
   ]
  },
  {
   "cell_type": "code",
   "execution_count": 225,
   "id": "f4d11e27-507e-4853-822a-f83869a618ef",
   "metadata": {},
   "outputs": [
    {
     "name": "stdout",
     "output_type": "stream",
     "text": [
      "1 Gene NEED TO CHECK\n",
      "2 APC YES\n",
      "3 FOXA1 YES\n",
      "4 RASSF1 YES\n",
      "5 SCGB3A1 YES\n",
      "6 SOX17 YES\n",
      "7 KLK10 YES\n",
      "8 SOX17 YES\n",
      "9 WNT5A YES\n",
      "10 MSH2 YES\n",
      "11 GATA3 YES\n",
      "12 CCND2 YES\n",
      "13 ESR1 YES\n",
      "14 ESR1 YES\n",
      "15 MCAM YES\n",
      "16 ESR1 YES\n",
      "17 ESR2 YES\n",
      "18 APC YES\n",
      "19 GSTP1 YES\n",
      "20 APC YES\n",
      "21 FOXA1 YES\n",
      "22 GSTP1 YES\n",
      "23 HOXD3 YES\n",
      "24 RARB YES\n",
      "25 RASSF1 YES\n",
      "26 SEPT9 YES\n",
      "27 SOX17 YES\n",
      "28 ST6GALNAC3 YES\n",
      "29 ZNF660 NEED TO CHECK\n",
      "30 CCDC181 YES\n",
      "31 HAPLN3 YES\n",
      "32 SEPT9 YES\n",
      "33 SEPT9 YES\n",
      "34 RASSF1 YES\n",
      "35 BCAT1 YES\n",
      "36 IKZF1 YES\n",
      "37 NPY YES\n",
      "38 MGMT YES\n",
      "39 HOXA9 YES\n",
      "40 RASSF1 YES\n",
      "41 KMT2C NEED TO CHECK\n",
      "42 CDKN2A YES\n",
      "43 DAPK1 YES\n",
      "44 GSTP1 YES\n",
      "45 MGMT YES\n",
      "46 SOX17 YES\n",
      "47 BRMS1 NEED TO CHECK\n",
      "48 EGFR YES\n"
     ]
    }
   ],
   "source": [
    "erm_genes_file='data/erm_genes.csv'\n",
    "cfDNA_genes_file='genes.txt'\n",
    "erm_genes=set(pd.read_csv(erm_genes_file,index_col=0)['Gene'].values)\n",
    "cfDNA_genes=pd.read_csv(cfDNA_genes_file,header=None)[0].values\n",
    "j=0\n",
    "for gene in cfDNA_genes:\n",
    "    j+=1\n",
    "    if gene in erm_genes:\n",
    "        print(j, gene, 'YES')\n",
    "        #print('YES')\n",
    "    else:\n",
    "        print(j, gene, 'NEED TO CHECK')\n",
    "        #print('NEED TO CHECK')"
   ]
  },
  {
   "cell_type": "code",
   "execution_count": null,
   "id": "3f99da13-3d0b-467b-b9c7-88d35e28bc94",
   "metadata": {},
   "outputs": [],
   "source": [
    "#for epic\n",
    "epic='https://github.com/zhou-lab/InfiniumAnnotationV1/raw/main/Anno/EPIC/EPIC.hg38.manifest.tsv.gz'\n",
    "epic=pd.read_table(epic,usecols=['Probe_ID','CpG_chrm','CpG_beg'])\n",
    "erm_epic=epic.merge(erm,left_on=['CpG_chrm','CpG_beg'],right_on=[0,1])[['Probe_ID','CpG_chrm','CpG_beg']]\n",
    "erm_epic['CpG_beg']=erm_epic['CpG_beg'].astype(int)"
   ]
  }
 ],
 "metadata": {
  "kernelspec": {
   "display_name": "Python 3 (ipykernel)",
   "language": "python",
   "name": "python3"
  },
  "language_info": {
   "codemirror_mode": {
    "name": "ipython",
    "version": 3
   },
   "file_extension": ".py",
   "mimetype": "text/x-python",
   "name": "python",
   "nbconvert_exporter": "python",
   "pygments_lexer": "ipython3",
   "version": "3.10.9"
  }
 },
 "nbformat": 4,
 "nbformat_minor": 5
}
