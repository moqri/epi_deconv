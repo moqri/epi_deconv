{
 "cells": [
  {
   "cell_type": "code",
   "execution_count": 1,
   "id": "69c7512f-de9b-4454-b60a-505d0396ccef",
   "metadata": {},
   "outputs": [],
   "source": [
    "import pandas as pd\n",
    "import seaborn as sns\n",
    "sam_='data/cell/GTEx_Analysis_v8_Annotations_SampleAttributesDS.txt'\n",
    "sub_='https://storage.googleapis.com/gtex_analysis_v8/annotations/GTEx_Analysis_v8_Annotations_SubjectPhenotypesDS.txt'\n",
    "exp_='data/cell/GTEx_Analysis_2017-06-05_v8_RNASeQCv1.1.9_gene_reads.gct'"
   ]
  },
  {
   "cell_type": "code",
   "execution_count": 2,
   "id": "36875c40-aa76-4412-80d5-6255ca77ac0d",
   "metadata": {},
   "outputs": [],
   "source": [
    "sub=pd.read_table('https://storage.googleapis.com/gtex_analysis_v8/annotations/GTEx_Analysis_v8_Annotations_SubjectPhenotypesDS.txt',index_col=0)\n",
    "sub['age']=sub['AGE'].str[:2].astype(int)"
   ]
  },
  {
   "cell_type": "code",
   "execution_count": 3,
   "id": "b1d69ebf-1fb4-4f8f-ae67-a0d3fd5ba405",
   "metadata": {},
   "outputs": [
    {
     "data": {
      "text/plain": [
       "3288"
      ]
     },
     "execution_count": 3,
     "metadata": {},
     "output_type": "execute_result"
    }
   ],
   "source": [
    "sam=pd.read_table(sam_,index_col='SAMPID')\n",
    "wb=sam[sam['SMTSD']=='Whole Blood']\n",
    "len(wb)"
   ]
  },
  {
   "cell_type": "code",
   "execution_count": 4,
   "id": "8a57d73a-3544-45ac-90f0-ebd84b888b6f",
   "metadata": {},
   "outputs": [],
   "source": [
    "cols=pd.read_table(exp_,skiprows=2,nrows=0)"
   ]
  },
  {
   "cell_type": "code",
   "execution_count": 5,
   "id": "b05ff15b-3f07-4b11-b58a-ceaa146692ce",
   "metadata": {},
   "outputs": [
    {
     "data": {
      "text/plain": [
       "755"
      ]
     },
     "execution_count": 5,
     "metadata": {},
     "output_type": "execute_result"
    }
   ],
   "source": [
    "com=[w for w in wb.index if w in cols]\n",
    "len(com)"
   ]
  },
  {
   "cell_type": "code",
   "execution_count": 6,
   "id": "6a03f4a7-a825-4a35-bd26-d6ecdfeb47e0",
   "metadata": {},
   "outputs": [
    {
     "name": "stdout",
     "output_type": "stream",
     "text": [
      "CPU times: user 34 s, sys: 1.96 s, total: 35.9 s\n",
      "Wall time: 36 s\n"
     ]
    },
    {
     "data": {
      "text/plain": [
       "(56200, 757)"
      ]
     },
     "execution_count": 6,
     "metadata": {},
     "output_type": "execute_result"
    }
   ],
   "source": [
    "%%time \n",
    "exp=pd.read_table(exp_,skiprows=2,usecols=list(cols.columns)[:2]+com)\n",
    "exp.shape"
   ]
  },
  {
   "cell_type": "code",
   "execution_count": 161,
   "id": "b4b6ddf5-b26e-47aa-af63-57b93813fb21",
   "metadata": {},
   "outputs": [
    {
     "data": {
      "text/html": [
       "<div>\n",
       "<style scoped>\n",
       "    .dataframe tbody tr th:only-of-type {\n",
       "        vertical-align: middle;\n",
       "    }\n",
       "\n",
       "    .dataframe tbody tr th {\n",
       "        vertical-align: top;\n",
       "    }\n",
       "\n",
       "    .dataframe thead th {\n",
       "        text-align: right;\n",
       "    }\n",
       "</style>\n",
       "<table border=\"1\" class=\"dataframe\">\n",
       "  <thead>\n",
       "    <tr style=\"text-align: right;\">\n",
       "      <th></th>\n",
       "      <th>Name</th>\n",
       "      <th>Description</th>\n",
       "      <th>GTEX-111YS-0006-SM-5NQBE</th>\n",
       "      <th>GTEX-1122O-0005-SM-5O99J</th>\n",
       "      <th>GTEX-1128S-0005-SM-5P9HI</th>\n",
       "      <th>GTEX-113IC-0006-SM-5NQ9C</th>\n",
       "      <th>GTEX-113JC-0006-SM-5O997</th>\n",
       "      <th>GTEX-117XS-0005-SM-5PNU6</th>\n",
       "      <th>GTEX-117YW-0005-SM-5NQ8Z</th>\n",
       "      <th>GTEX-1192W-0005-SM-5NQBQ</th>\n",
       "      <th>...</th>\n",
       "      <th>GTEX-ZVE2-0006-SM-51MRW</th>\n",
       "      <th>GTEX-ZVP2-0005-SM-51MRK</th>\n",
       "      <th>GTEX-ZVT2-0005-SM-57WBW</th>\n",
       "      <th>GTEX-ZVT3-0006-SM-51MT9</th>\n",
       "      <th>GTEX-ZVT4-0006-SM-57WB8</th>\n",
       "      <th>GTEX-ZVTK-0006-SM-57WBK</th>\n",
       "      <th>GTEX-ZVZP-0006-SM-51MSW</th>\n",
       "      <th>GTEX-ZVZQ-0006-SM-51MR8</th>\n",
       "      <th>GTEX-ZXES-0005-SM-57WCB</th>\n",
       "      <th>GTEX-ZXG5-0005-SM-57WCN</th>\n",
       "    </tr>\n",
       "  </thead>\n",
       "  <tbody>\n",
       "    <tr>\n",
       "      <th>20075</th>\n",
       "      <td>ENSG00000075624.13</td>\n",
       "      <td>ACTB</td>\n",
       "      <td>9360.902446</td>\n",
       "      <td>12400.132855</td>\n",
       "      <td>7724.153335</td>\n",
       "      <td>5612.524237</td>\n",
       "      <td>4876.518884</td>\n",
       "      <td>4441.681088</td>\n",
       "      <td>5945.578088</td>\n",
       "      <td>6703.250178</td>\n",
       "      <td>...</td>\n",
       "      <td>123623</td>\n",
       "      <td>845442</td>\n",
       "      <td>355552</td>\n",
       "      <td>168621</td>\n",
       "      <td>220078</td>\n",
       "      <td>226403</td>\n",
       "      <td>709961</td>\n",
       "      <td>247143</td>\n",
       "      <td>451030</td>\n",
       "      <td>344273</td>\n",
       "    </tr>\n",
       "    <tr>\n",
       "      <th>29617</th>\n",
       "      <td>ENSG00000223609.7</td>\n",
       "      <td>HBD</td>\n",
       "      <td>6320.788028</td>\n",
       "      <td>3274.963791</td>\n",
       "      <td>7484.218411</td>\n",
       "      <td>3568.986354</td>\n",
       "      <td>17254.683568</td>\n",
       "      <td>20683.293546</td>\n",
       "      <td>6637.258409</td>\n",
       "      <td>9746.342501</td>\n",
       "      <td>...</td>\n",
       "      <td>948386</td>\n",
       "      <td>383897</td>\n",
       "      <td>459342</td>\n",
       "      <td>535789</td>\n",
       "      <td>349924</td>\n",
       "      <td>281543</td>\n",
       "      <td>81668</td>\n",
       "      <td>777578</td>\n",
       "      <td>505874</td>\n",
       "      <td>222446</td>\n",
       "    </tr>\n",
       "    <tr>\n",
       "      <th>3030</th>\n",
       "      <td>ENSG00000163220.10</td>\n",
       "      <td>S100A9</td>\n",
       "      <td>19142.372178</td>\n",
       "      <td>10207.469962</td>\n",
       "      <td>4179.236696</td>\n",
       "      <td>4263.754489</td>\n",
       "      <td>5002.607188</td>\n",
       "      <td>4075.504567</td>\n",
       "      <td>2079.568819</td>\n",
       "      <td>2752.711550</td>\n",
       "      <td>...</td>\n",
       "      <td>204913</td>\n",
       "      <td>1335772</td>\n",
       "      <td>401811</td>\n",
       "      <td>182240</td>\n",
       "      <td>334217</td>\n",
       "      <td>55614</td>\n",
       "      <td>1275744</td>\n",
       "      <td>177796</td>\n",
       "      <td>564218</td>\n",
       "      <td>235277</td>\n",
       "    </tr>\n",
       "    <tr>\n",
       "      <th>40778</th>\n",
       "      <td>ENSG00000188536.12</td>\n",
       "      <td>HBA2</td>\n",
       "      <td>22236.296417</td>\n",
       "      <td>12594.406718</td>\n",
       "      <td>47138.510640</td>\n",
       "      <td>15868.243366</td>\n",
       "      <td>69364.228135</td>\n",
       "      <td>72623.392016</td>\n",
       "      <td>50183.486335</td>\n",
       "      <td>69942.905587</td>\n",
       "      <td>...</td>\n",
       "      <td>1514883</td>\n",
       "      <td>1151809</td>\n",
       "      <td>1374896</td>\n",
       "      <td>2121851</td>\n",
       "      <td>1091583</td>\n",
       "      <td>2025727</td>\n",
       "      <td>416708</td>\n",
       "      <td>2427269</td>\n",
       "      <td>1475102</td>\n",
       "      <td>828738</td>\n",
       "    </tr>\n",
       "    <tr>\n",
       "      <th>29616</th>\n",
       "      <td>ENSG00000244734.3</td>\n",
       "      <td>HBB</td>\n",
       "      <td>105427.442683</td>\n",
       "      <td>37324.335075</td>\n",
       "      <td>83213.132676</td>\n",
       "      <td>47018.529895</td>\n",
       "      <td>248179.653495</td>\n",
       "      <td>207459.982836</td>\n",
       "      <td>96752.510960</td>\n",
       "      <td>157167.353204</td>\n",
       "      <td>...</td>\n",
       "      <td>15225554</td>\n",
       "      <td>4696583</td>\n",
       "      <td>5850556</td>\n",
       "      <td>7358266</td>\n",
       "      <td>3800894</td>\n",
       "      <td>4123685</td>\n",
       "      <td>1307634</td>\n",
       "      <td>7972857</td>\n",
       "      <td>5305438</td>\n",
       "      <td>2782608</td>\n",
       "    </tr>\n",
       "  </tbody>\n",
       "</table>\n",
       "<p>5 rows × 757 columns</p>\n",
       "</div>"
      ],
      "text/plain": [
       "                     Name Description  GTEX-111YS-0006-SM-5NQBE  \\\n",
       "20075  ENSG00000075624.13        ACTB               9360.902446   \n",
       "29617   ENSG00000223609.7         HBD               6320.788028   \n",
       "3030   ENSG00000163220.10      S100A9              19142.372178   \n",
       "40778  ENSG00000188536.12        HBA2              22236.296417   \n",
       "29616   ENSG00000244734.3         HBB             105427.442683   \n",
       "\n",
       "       GTEX-1122O-0005-SM-5O99J  GTEX-1128S-0005-SM-5P9HI  \\\n",
       "20075              12400.132855               7724.153335   \n",
       "29617               3274.963791               7484.218411   \n",
       "3030               10207.469962               4179.236696   \n",
       "40778              12594.406718              47138.510640   \n",
       "29616              37324.335075              83213.132676   \n",
       "\n",
       "       GTEX-113IC-0006-SM-5NQ9C  GTEX-113JC-0006-SM-5O997  \\\n",
       "20075               5612.524237               4876.518884   \n",
       "29617               3568.986354              17254.683568   \n",
       "3030                4263.754489               5002.607188   \n",
       "40778              15868.243366              69364.228135   \n",
       "29616              47018.529895             248179.653495   \n",
       "\n",
       "       GTEX-117XS-0005-SM-5PNU6  GTEX-117YW-0005-SM-5NQ8Z  \\\n",
       "20075               4441.681088               5945.578088   \n",
       "29617              20683.293546               6637.258409   \n",
       "3030                4075.504567               2079.568819   \n",
       "40778              72623.392016              50183.486335   \n",
       "29616             207459.982836              96752.510960   \n",
       "\n",
       "       GTEX-1192W-0005-SM-5NQBQ  ...  GTEX-ZVE2-0006-SM-51MRW  \\\n",
       "20075               6703.250178  ...                   123623   \n",
       "29617               9746.342501  ...                   948386   \n",
       "3030                2752.711550  ...                   204913   \n",
       "40778              69942.905587  ...                  1514883   \n",
       "29616             157167.353204  ...                 15225554   \n",
       "\n",
       "       GTEX-ZVP2-0005-SM-51MRK  GTEX-ZVT2-0005-SM-57WBW  \\\n",
       "20075                   845442                   355552   \n",
       "29617                   383897                   459342   \n",
       "3030                   1335772                   401811   \n",
       "40778                  1151809                  1374896   \n",
       "29616                  4696583                  5850556   \n",
       "\n",
       "       GTEX-ZVT3-0006-SM-51MT9  GTEX-ZVT4-0006-SM-57WB8  \\\n",
       "20075                   168621                   220078   \n",
       "29617                   535789                   349924   \n",
       "3030                    182240                   334217   \n",
       "40778                  2121851                  1091583   \n",
       "29616                  7358266                  3800894   \n",
       "\n",
       "       GTEX-ZVTK-0006-SM-57WBK  GTEX-ZVZP-0006-SM-51MSW  \\\n",
       "20075                   226403                   709961   \n",
       "29617                   281543                    81668   \n",
       "3030                     55614                  1275744   \n",
       "40778                  2025727                   416708   \n",
       "29616                  4123685                  1307634   \n",
       "\n",
       "       GTEX-ZVZQ-0006-SM-51MR8  GTEX-ZXES-0005-SM-57WCB  \\\n",
       "20075                   247143                   451030   \n",
       "29617                   777578                   505874   \n",
       "3030                    177796                   564218   \n",
       "40778                  2427269                  1475102   \n",
       "29616                  7972857                  5305438   \n",
       "\n",
       "       GTEX-ZXG5-0005-SM-57WCN  \n",
       "20075                   344273  \n",
       "29617                   222446  \n",
       "3030                    235277  \n",
       "40778                   828738  \n",
       "29616                  2782608  \n",
       "\n",
       "[5 rows x 757 columns]"
      ]
     },
     "execution_count": 161,
     "metadata": {},
     "output_type": "execute_result"
    }
   ],
   "source": [
    "exp.loc[exp[com].mean(1).sort_values().tail().index]"
   ]
  },
  {
   "cell_type": "code",
   "execution_count": 154,
   "id": "7288e604-8339-4480-9c27-be76c37e093e",
   "metadata": {},
   "outputs": [],
   "source": [
    "tpm=exp[com]/exp[com].loc[29616]*1000000"
   ]
  },
  {
   "cell_type": "code",
   "execution_count": 155,
   "id": "13684ca6-7e3d-4beb-ad6b-3830f981d578",
   "metadata": {},
   "outputs": [],
   "source": [
    "tpm.index=exp['Description']"
   ]
  },
  {
   "cell_type": "code",
   "execution_count": 166,
   "id": "c4a22d6e-3373-4cd8-b34c-845d054cc97c",
   "metadata": {},
   "outputs": [
    {
     "data": {
      "text/plain": [
       "<Axes: xlabel='age', ylabel='ACTB'>"
      ]
     },
     "execution_count": 166,
     "metadata": {},
     "output_type": "execute_result"
    },
    {
     "data": {
      "image/png": "[encoded data removed]",
      "text/plain": [
       "<Figure size 640x480 with 1 Axes>"
      ]
     },
     "metadata": {},
     "output_type": "display_data"
    }
   ],
   "source": [
    "el=tpm.loc[['ACTB']].T\n",
    "el.index=el.index.str[:9]\n",
    "dg=sub.merge(el,left_index=True,right_index=True)[[el.columns[0],'age']]\n",
    "sns.boxplot(dg.drop(['GTEX-WI4N','GTEX-Z93S']),y=dg.columns[0],x='age')"
   ]
  },
  {
   "cell_type": "code",
   "execution_count": 165,
   "id": "8518d63e-bc07-493b-9ff1-f12427a4f32a",
   "metadata": {},
   "outputs": [
    {
     "data": {
      "text/html": [
       "<div>\n",
       "<style scoped>\n",
       "    .dataframe tbody tr th:only-of-type {\n",
       "        vertical-align: middle;\n",
       "    }\n",
       "\n",
       "    .dataframe tbody tr th {\n",
       "        vertical-align: top;\n",
       "    }\n",
       "\n",
       "    .dataframe thead th {\n",
       "        text-align: right;\n",
       "    }\n",
       "</style>\n",
       "<table border=\"1\" class=\"dataframe\">\n",
       "  <thead>\n",
       "    <tr style=\"text-align: right;\">\n",
       "      <th></th>\n",
       "      <th>S100A9</th>\n",
       "    </tr>\n",
       "    <tr>\n",
       "      <th>age</th>\n",
       "      <th></th>\n",
       "    </tr>\n",
       "  </thead>\n",
       "  <tbody>\n",
       "    <tr>\n",
       "      <th>20</th>\n",
       "      <td>124352.773576</td>\n",
       "    </tr>\n",
       "    <tr>\n",
       "      <th>30</th>\n",
       "      <td>122518.099346</td>\n",
       "    </tr>\n",
       "    <tr>\n",
       "      <th>40</th>\n",
       "      <td>107091.849004</td>\n",
       "    </tr>\n",
       "    <tr>\n",
       "      <th>50</th>\n",
       "      <td>117348.750317</td>\n",
       "    </tr>\n",
       "    <tr>\n",
       "      <th>60</th>\n",
       "      <td>56399.722998</td>\n",
       "    </tr>\n",
       "    <tr>\n",
       "      <th>70</th>\n",
       "      <td>350899.359973</td>\n",
       "    </tr>\n",
       "  </tbody>\n",
       "</table>\n",
       "</div>"
      ],
      "text/plain": [
       "            S100A9\n",
       "age               \n",
       "20   124352.773576\n",
       "30   122518.099346\n",
       "40   107091.849004\n",
       "50   117348.750317\n",
       "60    56399.722998\n",
       "70   350899.359973"
      ]
     },
     "execution_count": 165,
     "metadata": {},
     "output_type": "execute_result"
    }
   ],
   "source": [
    "dg.groupby('age').median()"
   ]
  },
  {
   "cell_type": "code",
   "execution_count": 73,
   "id": "0bd9ddda-5fd6-4530-8514-f09d187a7835",
   "metadata": {},
   "outputs": [],
   "source": [
    "el=exp.T\n",
    "el.index=el.index.str[:9]\n",
    "dg=sub.merge(el,left_index=True,right_index=True)"
   ]
  },
  {
   "cell_type": "code",
   "execution_count": 90,
   "id": "b13c2b1d-a572-4d45-a58c-f3fe150651a7",
   "metadata": {},
   "outputs": [],
   "source": [
    "mm=dg.iloc[:,5:].mean(1)"
   ]
  },
  {
   "cell_type": "code",
   "execution_count": 92,
   "id": "dcdf1d86-bac0-4cf7-be9d-abd9124aa204",
   "metadata": {},
   "outputs": [
    {
     "name": "stderr",
     "output_type": "stream",
     "text": [
      "/local/scratch/moqri/slrmtmp.41907489/ipykernel_6114/3753233874.py:1: FutureWarning: The default value of numeric_only in DataFrameGroupBy.median is deprecated. In a future version, numeric_only will default to False. Either specify numeric_only or select only columns which should be valid for the function.\n",
      "  sub.merge(mm.rename('mm'),left_index=True,right_index=True).groupby('age').median()\n"
     ]
    },
    {
     "data": {
      "text/html": [
       "<div>\n",
       "<style scoped>\n",
       "    .dataframe tbody tr th:only-of-type {\n",
       "        vertical-align: middle;\n",
       "    }\n",
       "\n",
       "    .dataframe tbody tr th {\n",
       "        vertical-align: top;\n",
       "    }\n",
       "\n",
       "    .dataframe thead th {\n",
       "        text-align: right;\n",
       "    }\n",
       "</style>\n",
       "<table border=\"1\" class=\"dataframe\">\n",
       "  <thead>\n",
       "    <tr style=\"text-align: right;\">\n",
       "      <th></th>\n",
       "      <th>SEX</th>\n",
       "      <th>DTHHRDY</th>\n",
       "      <th>mm</th>\n",
       "    </tr>\n",
       "    <tr>\n",
       "      <th>age</th>\n",
       "      <th></th>\n",
       "      <th></th>\n",
       "      <th></th>\n",
       "    </tr>\n",
       "  </thead>\n",
       "  <tbody>\n",
       "    <tr>\n",
       "      <th>20</th>\n",
       "      <td>1.0</td>\n",
       "      <td>0.0</td>\n",
       "      <td>939.417285</td>\n",
       "    </tr>\n",
       "    <tr>\n",
       "      <th>30</th>\n",
       "      <td>1.0</td>\n",
       "      <td>0.0</td>\n",
       "      <td>828.519120</td>\n",
       "    </tr>\n",
       "    <tr>\n",
       "      <th>40</th>\n",
       "      <td>1.0</td>\n",
       "      <td>0.0</td>\n",
       "      <td>942.947348</td>\n",
       "    </tr>\n",
       "    <tr>\n",
       "      <th>50</th>\n",
       "      <td>1.0</td>\n",
       "      <td>0.0</td>\n",
       "      <td>870.636346</td>\n",
       "    </tr>\n",
       "    <tr>\n",
       "      <th>60</th>\n",
       "      <td>1.0</td>\n",
       "      <td>0.0</td>\n",
       "      <td>792.938246</td>\n",
       "    </tr>\n",
       "    <tr>\n",
       "      <th>70</th>\n",
       "      <td>1.5</td>\n",
       "      <td>0.0</td>\n",
       "      <td>784.088427</td>\n",
       "    </tr>\n",
       "  </tbody>\n",
       "</table>\n",
       "</div>"
      ],
      "text/plain": [
       "     SEX  DTHHRDY          mm\n",
       "age                          \n",
       "20   1.0      0.0  939.417285\n",
       "30   1.0      0.0  828.519120\n",
       "40   1.0      0.0  942.947348\n",
       "50   1.0      0.0  870.636346\n",
       "60   1.0      0.0  792.938246\n",
       "70   1.5      0.0  784.088427"
      ]
     },
     "execution_count": 92,
     "metadata": {},
     "output_type": "execute_result"
    }
   ],
   "source": [
    "sub.merge(mm.rename('mm'),left_index=True,right_index=True).groupby('age').median()"
   ]
  },
  {
   "cell_type": "code",
   "execution_count": 80,
   "id": "875ed2e0-be1d-4528-83bc-8864ef91455c",
   "metadata": {},
   "outputs": [
    {
     "data": {
      "text/plain": [
       "GTEX-N7MS     508.691507\n",
       "GTEX-N7MT     858.985516\n",
       "GTEX-NFK9     577.519280\n",
       "GTEX-NPJ7     894.782469\n",
       "GTEX-NPJ8     559.336358\n",
       "                ...     \n",
       "GTEX-ZVTK     623.790868\n",
       "GTEX-ZVZP     947.084930\n",
       "GTEX-ZVZQ     820.479813\n",
       "GTEX-ZXES     967.563942\n",
       "GTEX-ZXG5    1011.985338\n",
       "Length: 242, dtype: float64"
      ]
     },
     "execution_count": 80,
     "metadata": {},
     "output_type": "execute_result"
    }
   ],
   "source": [
    "mm"
   ]
  },
  {
   "cell_type": "code",
   "execution_count": null,
   "id": "a357edc3-4df6-4795-8938-2af34b650c5f",
   "metadata": {},
   "outputs": [],
   "source": []
  }
 ],
 "metadata": {
  "kernelspec": {
   "display_name": "meth",
   "language": "python",
   "name": "meth"
  },
  "language_info": {
   "codemirror_mode": {
    "name": "ipython",
    "version": 3
   },
   "file_extension": ".py",
   "mimetype": "text/x-python",
   "name": "python",
   "nbconvert_exporter": "python",
   "pygments_lexer": "ipython3",
   "version": "3.10.9"
  }
 },
 "nbformat": 4,
 "nbformat_minor": 5
}
