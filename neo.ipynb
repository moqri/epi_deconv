{
 "cells": [
  {
   "cell_type": "code",
   "execution_count": 1,
   "id": "cc58b7f3-29cf-4797-83e3-52518498cc8e",
   "metadata": {},
   "outputs": [],
   "source": [
    "import pandas as pd\n",
    "import glob\n",
    "import seaborn as sns\n",
    "sns.set(rc={'figure.figsize':(4,3)})"
   ]
  },
  {
   "cell_type": "code",
   "execution_count": 2,
   "id": "3d3e4b4e-8154-4ca6-8f54-1010b992f7ef",
   "metadata": {},
   "outputs": [],
   "source": [
    "# PBMC Neo HG38\n",
    "neo_='https://ftp.ncbi.nlm.nih.gov/geo/series/GSE140nnn/GSE140730/matrix/GSE140730-GPL20795_series_matrix.txt.gz'\n",
    "neo=pd.read_csv(neo_,sep='\\t',skiprows=31).T\n",
    "neo=neo[neo[10]=='diagnosis: TD']\n",
    "GSE140730=neo[44].to_dict()"
   ]
  },
  {
   "cell_type": "code",
   "execution_count": null,
   "id": "ca48f4ba-171f-4ccc-9fbd-26d760f93be8",
   "metadata": {},
   "outputs": [],
   "source": [
    "%%time\n",
    "for gse,link in GSE140730.items():\n",
    "    !wget -q -nc \"{link}\" -O \"data/meth/neo/{gse}.txt.gz\"   "
   ]
  },
  {
   "cell_type": "code",
   "execution_count": null,
   "id": "b5704b46-ae16-418a-a898-8a17dfd71b6f",
   "metadata": {},
   "outputs": [],
   "source": [
    "%%time\n",
    "gsms=neo[43].index \n",
    "for i in range(50):\n",
    "    gsm=gsms[i]\n",
    "    print(gsm,end=',')\n",
    "    neo=pd.read_table('data/meth/neo/'+gsm+'.txt.gz',header=None,usecols=[0,1,3,4])\n",
    "    neo=neo[neo[0].isin(['chr'+str(c) for c in range(1,23)])].copy()\n",
    "    neo.index=neo[0].str[3:].astype(int)*10**9+neo[1]\n",
    "    gsm=gsm.strip('Discovery_TD')\n",
    "    neo[gsm+'_cov']=neo[3]+neo[4]\n",
    "    neo[gsm+'_beta']=neo[3]/neo[gsm+'_cov']\n",
    "    neo.sort_index(inplace=True)\n",
    "    neo[[gsm+'_cov',gsm+'_beta']].to_csv('data/meth/neo/csv/'+gsm+'.csv')"
   ]
  },
  {
   "cell_type": "code",
   "execution_count": 4,
   "id": "8b7f8a1c-daab-48a3-9100-4e4ca8b98c4b",
   "metadata": {},
   "outputs": [
    {
     "name": "stdout",
     "output_type": "stream",
     "text": [
      "[3.18592861 0.7827478 ],[6.41729548 0.80859289],[5.87386885 0.79919755],[5.88349921 0.80723392],[6.14076084 0.79502478],[5.24074394 0.76207878],[5.81906961 0.81124945],[5.22023084 0.80921161],[5.11013348 0.80591659],[4.90698814 0.79862552],[3.67110323 0.79381301],[2.39801762 0.79293369],[3.93878534 0.79617267],[4.2472033  0.79247373],[3.42030638 0.78466645],[1.68770192 0.78654665],"
     ]
    }
   ],
   "source": [
    "for name in ['M_'+format(c, '02d') for c in range(1,36)]+['F_'+format(c, '02d') for c in range(1,16)]:\n",
    "    df=pd.read_csv('data/meth/neo/csv/'+name+'.csv',index_col=0)\n",
    "    df['m']=(df.iloc[:,0]*df.iloc[:,1]).fillna(0).astype(int)\n",
    "    df1=df.iloc[::2]\n",
    "    df2=df.iloc[1::2]\n",
    "    df2.index=df2.index-1\n",
    "    dg=pd.DataFrame(df1.iloc[:,0]+df2.iloc[:,0])\n",
    "    dg[name+'_beta']=((df1['m']+df2['m'])/dg.iloc[:,0]).round(3)\n",
    "    print(dg.mean().values,end=',')\n",
    "    dg.to_csv('data/meth/neo/csv/sym/'+name+'.csv')"
   ]
  },
  {
   "cell_type": "code",
   "execution_count": 3,
   "id": "2a68bcdd-fede-4612-9ec2-fe5b3afc4cb4",
   "metadata": {},
   "outputs": [
    {
     "name": "stdout",
     "output_type": "stream",
     "text": [
      "M_01,M_02,M_03,M_04,M_05,M_06,M_07,M_08,M_09,M_10,M_11,M_12,M_13,M_14,M_15,M_16,M_17,M_18,M_19,M_20,M_21,M_22,M_23,M_24,M_25,M_26,M_27,M_28,M_29,M_30,M_31,M_32,M_33,M_34,M_35,F_01,F_02,F_03,F_04,F_05,F_06,F_07,F_08,F_09,F_10,F_11,F_12,F_13,F_14,F_15,"
     ]
    }
   ],
   "source": [
    "%%time\n",
    "dfs=[]\n",
    "for name in ['M_'+format(c, '02d') for c in range(1,36)]+['F_'+format(c, '02d') for c in range(1,16)]:\n",
    "    print(name,end=',')\n",
    "    df=pd.read_csv('data/meth/neo/csv/sym/'+name+'.csv',index_col=0)\n",
    "    df['m']=(df.iloc[:,0]*df.iloc[:,1]).fillna(0).astype(int)\n",
    "    dfs.append(df)    "
   ]
  },
  {
   "cell_type": "code",
   "execution_count": 4,
   "id": "8e27e4e7-270c-4376-be5c-2c4b363157f8",
   "metadata": {},
   "outputs": [
    {
     "name": "stdout",
     "output_type": "stream",
     "text": [
      "27852739\n"
     ]
    }
   ],
   "source": [
    "%%time\n",
    "dg=pd.concat([df.iloc[:,1] for df in dfs],axis=1)\n",
    "print(len(dg))"
   ]
  },
  {
   "cell_type": "code",
   "execution_count": 9,
   "id": "40274aa7-f542-4774-9b26-6c78069428eb",
   "metadata": {},
   "outputs": [
    {
     "name": "stdout",
     "output_type": "stream",
     "text": [
      "CPU times: user 14min 2s, sys: 15.4 s, total: 14min 17s\n",
      "Wall time: 14min 18s\n"
     ]
    }
   ],
   "source": [
    "%%time \n",
    "dg.to_csv('data/meth/neo/csv/sym/all.csv')"
   ]
  },
  {
   "cell_type": "code",
   "execution_count": 13,
   "id": "f90adf46-0aee-4861-a1b8-63ee336ed311",
   "metadata": {},
   "outputs": [
    {
     "name": "stdout",
     "output_type": "stream",
     "text": [
      "27852739\n"
     ]
    },
    {
     "data": {
      "text/plain": [
       "array([0.71876303, 0.74417575, 0.74775356, 0.74995832, 0.75773999,\n",
       "       0.75896797, 0.75969385, 0.76433916, 0.76532934, 0.76638841,\n",
       "       0.76705705, 0.77318523, 0.77373859, 0.77677269, 0.78142974,\n",
       "       0.7851703 , 0.78535237, 0.78749737, 0.78852892, 0.78860372,\n",
       "       0.78874948, 0.79103973, 0.79171312, 0.79183622, 0.79333118,\n",
       "       0.79396856, 0.79501006, 0.79633519, 0.79717191, 0.79731649,\n",
       "       0.79753187, 0.79786968, 0.79803541, 0.79890829, 0.79981935,\n",
       "       0.80031772, 0.80082648, 0.80093504, 0.8011402 , 0.80166304,\n",
       "       0.80307292, 0.80451438, 0.8052915 , 0.80539966, 0.80587363,\n",
       "       0.80636162, 0.8065682 , 0.80786153, 0.80986556, 1.        ])"
      ]
     },
     "execution_count": 13,
     "metadata": {},
     "output_type": "execute_result"
    }
   ],
   "source": [
    "dg.corrwith(dg.iloc[:,0]).sort_values().values"
   ]
  },
  {
   "cell_type": "code",
   "execution_count": 14,
   "id": "13da0970-7772-44a0-b8da-80b3f4d84402",
   "metadata": {},
   "outputs": [],
   "source": [
    "neo=pd.DataFrame(pd.concat([df['m'] for df in dfs],axis=1).sum(1).rename('m'))\n",
    "neo['cov']=pd.concat([df.iloc[:,0] for df in dfs],axis=1).sum(1)\n",
    "neo['beta']=(neo['m']/neo['cov']).round(3)"
   ]
  },
  {
   "cell_type": "code",
   "execution_count": 20,
   "id": "e371f1dd-e0b1-4dfd-aadf-40cfdb1c71f9",
   "metadata": {},
   "outputs": [
    {
     "data": {
      "text/plain": [
       "Text(0.5, 0, 'DNA methylation level')"
      ]
     },
     "execution_count": 20,
     "metadata": {},
     "output_type": "execute_result"
    },
    {
     "data": {
      "image/png": "[encoded data removed]",
      "text/plain": [
       "<Figure size 288x216 with 1 Axes>"
      ]
     },
     "metadata": {},
     "output_type": "display_data"
    }
   ],
   "source": [
    "g=sns.histplot(neo['beta'],bins=50)\n",
    "g.set_title(\"DNAm Distribution\", fontsize = 14)\n",
    "g.set_ylabel(\"Frequency\", fontsize = 12)\n",
    "g.set_xlabel(\"DNA methylation level\", fontsize = 12)"
   ]
  },
  {
   "cell_type": "code",
   "execution_count": 25,
   "id": "1ba3712e-0142-4402-b1d1-284b2dbbdad5",
   "metadata": {},
   "outputs": [],
   "source": [
    "neo.index=neo.index.rename('g')"
   ]
  },
  {
   "cell_type": "code",
   "execution_count": 26,
   "id": "3d1c61e3-43a4-4e67-9e59-e04005477125",
   "metadata": {},
   "outputs": [],
   "source": [
    "neo.to_csv('data/meth/neo.csv')"
   ]
  },
  {
   "cell_type": "code",
   "execution_count": 28,
   "id": "4fe4fd7a-6733-49a2-ab13-6541ab6ff1e4",
   "metadata": {},
   "outputs": [],
   "source": [
    "neo=pd.read_csv('data/meth/neo.csv',index_col=0)"
   ]
  },
  {
   "cell_type": "code",
   "execution_count": 29,
   "id": "6286aeb1-98c3-48d5-bd46-3fb2ad14a0dd",
   "metadata": {},
   "outputs": [],
   "source": [
    "neo['ch']=(neo.index/10**9).astype(int)\n",
    "neo['pos']=neo.index-neo['ch']*10**9\n",
    "neo['ch']='chr'+neo['ch'].astype(str)"
   ]
  },
  {
   "cell_type": "code",
   "execution_count": 30,
   "id": "143482c4-53ba-4c3b-9a6e-ab7f5c315d49",
   "metadata": {},
   "outputs": [],
   "source": [
    "neo['plus']='+'\n",
    "neo['cpg']='CpG'"
   ]
  },
  {
   "cell_type": "code",
   "execution_count": 25,
   "id": "410e74eb-2eb6-4970-91c5-b96c40a7a380",
   "metadata": {},
   "outputs": [],
   "source": [
    "neo=neo.fillna(0)"
   ]
  },
  {
   "cell_type": "code",
   "execution_count": 26,
   "id": "66599ab7-75c1-4ebf-8900-f360161e7bd4",
   "metadata": {},
   "outputs": [],
   "source": [
    "neo[['ch','pos','plus','cpg','beta','cov']].to_csv('data/meth/neo/meth_count.csv',index=False,header=False,sep='\\t')"
   ]
  },
  {
   "cell_type": "code",
   "execution_count": null,
   "id": "3a745d51-023b-477f-a405-eda059a7254c",
   "metadata": {},
   "outputs": [],
   "source": [
    "#run hmr in bash to get count to hmr"
   ]
  },
  {
   "cell_type": "code",
   "execution_count": 51,
   "id": "7ba3ba52-b30a-4e60-ba97-2dcd00f3e549",
   "metadata": {},
   "outputs": [],
   "source": [
    "hmr=pd.read_csv('data/meth/neo/hmr.csv',sep='\\t',header=None)"
   ]
  },
  {
   "cell_type": "code",
   "execution_count": 52,
   "id": "69d79447-44b9-4b22-8b56-aa8199a5ecd7",
   "metadata": {},
   "outputs": [],
   "source": [
    "hmr['d']=hmr[2]-hmr[1]"
   ]
  },
  {
   "cell_type": "code",
   "execution_count": 53,
   "id": "50b47272-d9a9-44cd-885c-286603d1fb86",
   "metadata": {},
   "outputs": [
    {
     "data": {
      "text/html": [
       "<div>\n",
       "<style scoped>\n",
       "    .dataframe tbody tr th:only-of-type {\n",
       "        vertical-align: middle;\n",
       "    }\n",
       "\n",
       "    .dataframe tbody tr th {\n",
       "        vertical-align: top;\n",
       "    }\n",
       "\n",
       "    .dataframe thead th {\n",
       "        text-align: right;\n",
       "    }\n",
       "</style>\n",
       "<table border=\"1\" class=\"dataframe\">\n",
       "  <thead>\n",
       "    <tr style=\"text-align: right;\">\n",
       "      <th></th>\n",
       "      <th>0</th>\n",
       "      <th>1</th>\n",
       "      <th>2</th>\n",
       "      <th>3</th>\n",
       "      <th>4</th>\n",
       "      <th>5</th>\n",
       "      <th>d</th>\n",
       "    </tr>\n",
       "  </thead>\n",
       "  <tbody>\n",
       "    <tr>\n",
       "      <th>49322</th>\n",
       "      <td>chr17</td>\n",
       "      <td>42057499</td>\n",
       "      <td>42057514</td>\n",
       "      <td>HYPO49322</td>\n",
       "      <td>8</td>\n",
       "      <td>+</td>\n",
       "      <td>15</td>\n",
       "    </tr>\n",
       "    <tr>\n",
       "      <th>14821</th>\n",
       "      <td>chr4</td>\n",
       "      <td>138589798</td>\n",
       "      <td>138589815</td>\n",
       "      <td>HYPO14821</td>\n",
       "      <td>9</td>\n",
       "      <td>+</td>\n",
       "      <td>17</td>\n",
       "    </tr>\n",
       "    <tr>\n",
       "      <th>19944</th>\n",
       "      <td>chr6</td>\n",
       "      <td>101988134</td>\n",
       "      <td>101988155</td>\n",
       "      <td>HYPO19944</td>\n",
       "      <td>11</td>\n",
       "      <td>+</td>\n",
       "      <td>21</td>\n",
       "    </tr>\n",
       "    <tr>\n",
       "      <th>3235</th>\n",
       "      <td>chr1</td>\n",
       "      <td>107574994</td>\n",
       "      <td>107575015</td>\n",
       "      <td>HYPO3235</td>\n",
       "      <td>9</td>\n",
       "      <td>+</td>\n",
       "      <td>21</td>\n",
       "    </tr>\n",
       "    <tr>\n",
       "      <th>61520</th>\n",
       "      <td>chr22</td>\n",
       "      <td>47379338</td>\n",
       "      <td>47379363</td>\n",
       "      <td>HYPO61520</td>\n",
       "      <td>7</td>\n",
       "      <td>+</td>\n",
       "      <td>25</td>\n",
       "    </tr>\n",
       "    <tr>\n",
       "      <th>...</th>\n",
       "      <td>...</td>\n",
       "      <td>...</td>\n",
       "      <td>...</td>\n",
       "      <td>...</td>\n",
       "      <td>...</td>\n",
       "      <td>...</td>\n",
       "      <td>...</td>\n",
       "    </tr>\n",
       "    <tr>\n",
       "      <th>22975</th>\n",
       "      <td>chr7</td>\n",
       "      <td>96987424</td>\n",
       "      <td>97028040</td>\n",
       "      <td>HYPO22975</td>\n",
       "      <td>1190</td>\n",
       "      <td>+</td>\n",
       "      <td>40616</td>\n",
       "    </tr>\n",
       "    <tr>\n",
       "      <th>16458</th>\n",
       "      <td>chr5</td>\n",
       "      <td>93567876</td>\n",
       "      <td>93617173</td>\n",
       "      <td>HYPO16458</td>\n",
       "      <td>1482</td>\n",
       "      <td>+</td>\n",
       "      <td>49297</td>\n",
       "    </tr>\n",
       "    <tr>\n",
       "      <th>44350</th>\n",
       "      <td>chr15</td>\n",
       "      <td>96318996</td>\n",
       "      <td>96370999</td>\n",
       "      <td>HYPO44350</td>\n",
       "      <td>1871</td>\n",
       "      <td>+</td>\n",
       "      <td>52003</td>\n",
       "    </tr>\n",
       "    <tr>\n",
       "      <th>9014</th>\n",
       "      <td>chr2</td>\n",
       "      <td>176066378</td>\n",
       "      <td>176141030</td>\n",
       "      <td>HYPO9014</td>\n",
       "      <td>2965</td>\n",
       "      <td>+</td>\n",
       "      <td>74652</td>\n",
       "    </tr>\n",
       "    <tr>\n",
       "      <th>37329</th>\n",
       "      <td>chr12</td>\n",
       "      <td>53923342</td>\n",
       "      <td>54024639</td>\n",
       "      <td>HYPO37329</td>\n",
       "      <td>2965</td>\n",
       "      <td>+</td>\n",
       "      <td>101297</td>\n",
       "    </tr>\n",
       "  </tbody>\n",
       "</table>\n",
       "<p>61716 rows × 7 columns</p>\n",
       "</div>"
      ],
      "text/plain": [
       "           0          1          2          3     4  5       d\n",
       "49322  chr17   42057499   42057514  HYPO49322     8  +      15\n",
       "14821   chr4  138589798  138589815  HYPO14821     9  +      17\n",
       "19944   chr6  101988134  101988155  HYPO19944    11  +      21\n",
       "3235    chr1  107574994  107575015   HYPO3235     9  +      21\n",
       "61520  chr22   47379338   47379363  HYPO61520     7  +      25\n",
       "...      ...        ...        ...        ...   ... ..     ...\n",
       "22975   chr7   96987424   97028040  HYPO22975  1190  +   40616\n",
       "16458   chr5   93567876   93617173  HYPO16458  1482  +   49297\n",
       "44350  chr15   96318996   96370999  HYPO44350  1871  +   52003\n",
       "9014    chr2  176066378  176141030   HYPO9014  2965  +   74652\n",
       "37329  chr12   53923342   54024639  HYPO37329  2965  +  101297\n",
       "\n",
       "[61716 rows x 7 columns]"
      ]
     },
     "execution_count": 53,
     "metadata": {},
     "output_type": "execute_result"
    }
   ],
   "source": [
    "hmr.sort_values('d')"
   ]
  }
 ],
 "metadata": {
  "kernelspec": {
   "display_name": "meth",
   "language": "python",
   "name": "meth"
  },
  "language_info": {
   "codemirror_mode": {
    "name": "ipython",
    "version": 3
   },
   "file_extension": ".py",
   "mimetype": "text/x-python",
   "name": "python",
   "nbconvert_exporter": "python",
   "pygments_lexer": "ipython3",
   "version": "3.10.9"
  }
 },
 "nbformat": 4,
 "nbformat_minor": 5
}
