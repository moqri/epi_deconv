{
 "cells": [
  {
   "cell_type": "code",
   "execution_count": null,
   "id": "9b112a19-3eeb-4d39-a5d0-49507c180783",
   "metadata": {},
   "outputs": [],
   "source": [
    "import numpy as np\n",
    "from nheatmap import nhm,scripts\n",
    "import matplotlib.pyplot as plt\n",
    "import matplotlib as mpl\n",
    "import sklearn.decomposition, sklearn.cluster\n",
    "import pandas as pd\n",
    "b=pd.read_csv('data/hmr/sim',header=None)\n",
    "b.columns=['ch','beg','end','b','cd3','cd4','cd8','gran','mono','neo','nk','wbc']\n",
    "corr=b[cells].corr()\n",
    "df=corr\n",
    "c=4\n",
    "nrows, ncols = np.shape(df)\n",
    "pc = sklearn.decomposition.PCA().fit(df)\n",
    "dfr = pd.DataFrame(pc.transform(df)[:, 0], index=['sample '+str(x) for x in np.arange(1, nrows+1)],\n",
    "        columns=['PC1'])\n",
    "dfr['cell cluster'] = sklearn.cluster.KMeans(n_clusters=c).fit_predict(df).astype(str)\n",
    "dfc = pd.DataFrame(pc.components_[0], index=['gene '+str(x) for x in\n",
    "    np.arange(1, ncols+1)], columns=['PC score'])\n",
    "dfc['gene cluster'] = sklearn.cluster.KMeans(n_clusters=c).fit_predict(df.T).astype(str)\n",
    "dfc['PC score 2'] = pc.components_[1]\n",
    "g = nhm(data=corr,figsize=(7, 3), linewidths=0)\n",
    "rdendrogram_args = {'color_threshold':0.7}\n",
    "g.hcluster(optimal_ordering=False)\n",
    "fig, plots = g.run(rdendrogram_args=rdendrogram_args)"
   ]
  },
  {
   "cell_type": "code",
   "execution_count": null,
   "id": "5f489274-7720-4f1f-bba1-3bdc0d01051e",
   "metadata": {},
   "outputs": [],
   "source": []
  }
 ],
 "metadata": {
  "kernelspec": {
   "display_name": "meth",
   "language": "python",
   "name": "meth"
  },
  "language_info": {
   "codemirror_mode": {
    "name": "ipython",
    "version": 3
   },
   "file_extension": ".py",
   "mimetype": "text/x-python",
   "name": "python",
   "nbconvert_exporter": "python",
   "pygments_lexer": "ipython3",
   "version": "3.10.9"
  }
 },
 "nbformat": 4,
 "nbformat_minor": 5
}
