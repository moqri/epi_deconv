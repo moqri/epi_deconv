{
 "cells": [
  {
   "cell_type": "code",
   "execution_count": 460,
   "id": "16dc97ba-fed8-428d-9059-ed53ccd7a1f1",
   "metadata": {},
   "outputs": [],
   "source": [
    "import pandas as pd\n",
    "import seaborn as sns"
   ]
  },
  {
   "cell_type": "code",
   "execution_count": 157,
   "id": "60ddca7c-8035-44d8-810d-1304ea9693f1",
   "metadata": {},
   "outputs": [],
   "source": [
    "epic='https://github.com/zhou-lab/InfiniumAnnotationV1/raw/main/Anno/EPIC/EPIC.hg38.manifest.tsv.gz'\n",
    "df=pd.read_table(epic,index_col='Probe_ID',usecols=['Probe_ID','CpG_chrm','CpG_beg'])\n",
    "df.dropna(inplace=True)\n",
    "df['CpG_beg']=df['CpG_beg'].astype(int)"
   ]
  },
  {
   "cell_type": "code",
   "execution_count": 47,
   "id": "78f2a0cd-2fb7-458d-9f2e-32086af5d8dd",
   "metadata": {},
   "outputs": [],
   "source": [
    "mono='https://ftp.ncbi.nlm.nih.gov/geo/series/GSE56nnn/GSE56046/suppl/GSE56046_methylome_normalized.txt.gz'\n",
    "mono=pd.read_table(mono,index_col=0,usecols=[0]+list(range(1,21,2)))"
   ]
  },
  {
   "cell_type": "code",
   "execution_count": 48,
   "id": "9dbad5c7-3cb5-4444-8a9f-ae3d8df32c1b",
   "metadata": {},
   "outputs": [],
   "source": [
    "mono=(mono.pow(2)/(mono.pow(2)+1)).copy()"
   ]
  },
  {
   "cell_type": "code",
   "execution_count": 54,
   "id": "3cb8d5ef-e653-40e0-b2bc-8806acdd754b",
   "metadata": {},
   "outputs": [],
   "source": [
    "dg=df.merge(mono,left_index=True,right_index=True)"
   ]
  },
  {
   "cell_type": "code",
   "execution_count": 95,
   "id": "445c8691-4257-4bb4-90f5-ad6b0cdf00f6",
   "metadata": {},
   "outputs": [
    {
     "name": "stderr",
     "output_type": "stream",
     "text": [
      "/tmp/ipykernel_18223/4254306867.py:2: UserWarning: Boolean Series key will be reindexed to match DataFrame index.\n",
      "  dc[dc['CpG_beg']>=\t22479508\t\t][dc['CpG_beg']<=22513795].mean()\n",
      "/tmp/ipykernel_18223/4254306867.py:2: FutureWarning: The default value of numeric_only in DataFrame.mean is deprecated. In a future version, it will default to False. In addition, specifying 'numeric_only=None' is deprecated. Select only valid columns or specify the value of numeric_only to silence this warning.\n",
      "  dc[dc['CpG_beg']>=\t22479508\t\t][dc['CpG_beg']<=22513795].mean()\n"
     ]
    },
    {
     "data": {
      "text/plain": [
       "CpG_beg          2.250063e+07\n",
       "100001.Mvalue    2.593837e-01\n",
       "100004.Mvalue    2.032546e-01\n",
       "100007.Mvalue    1.961358e-01\n",
       "100014.Mvalue    2.482167e-01\n",
       "100018.Mvalue    1.938082e-01\n",
       "100021.Mvalue    2.546608e-01\n",
       "100022.Mvalue    1.655416e-01\n",
       "100023.Mvalue    1.870954e-01\n",
       "100028.Mvalue    1.620804e-01\n",
       "100035.Mvalue    2.107907e-01\n",
       "dtype: float64"
      ]
     },
     "execution_count": 95,
     "metadata": {},
     "output_type": "execute_result"
    }
   ],
   "source": [
    "dc=dg[dg['CpG_chrm']=='chr14'].sort_values('CpG_beg')\n",
    "dc[dc['CpG_beg']>=22479508][dc['CpG_beg']<=22513795].mean()"
   ]
  },
  {
   "cell_type": "code",
   "execution_count": null,
   "id": "813ab02a-225e-4ce7-a9ed-e720b76a2cbb",
   "metadata": {},
   "outputs": [],
   "source": [
    "wb='https://ftp.ncbi.nlm.nih.gov/geo/series/GSE41nnn/GSE41169/matrix/GSE41169_series_matrix.txt.gz'\n",
    "wb=pd.read_table(wb,skiprows=72,index_col=0)"
   ]
  },
  {
   "cell_type": "code",
   "execution_count": 413,
   "id": "899d915b-a124-40ea-b046-d9ef4fc15649",
   "metadata": {},
   "outputs": [
    {
     "name": "stdout",
     "output_type": "stream",
     "text": [
      "CPU times: user 35 s, sys: 4 s, total: 39 s\n",
      "Wall time: 39 s\n"
     ]
    }
   ],
   "source": [
    "%%time\n",
    "#t='https://ftp.ncbi.nlm.nih.gov/geo/series/GSE56nnn/GSE56581/suppl/GSE56581_methylome_normalized.txt.gz'\n",
    "t='data/cell/GSE56581_methylome_signal_intensities.txt'\n",
    "cols=[0]+list(range(1,643,3))+list(range(2,643,3))\n",
    "t=pd.read_table(t,index_col=0,usecols=cols)"
   ]
  },
  {
   "cell_type": "code",
   "execution_count": 414,
   "id": "bfda54d4-9b70-4d0b-aae8-aa57cae65484",
   "metadata": {},
   "outputs": [],
   "source": [
    "cols=sorted(list(set(t.columns.str.split('.').str[0])))\n",
    "for i in cols:\n",
    "    t[i+'.methylated']=(t[i+'.methylated']/(t[i+'.methylated']+t[i+'.unmethylated']))\n",
    "t=t[[c+'.methylated' for c in cols]].copy()\n",
    "t.columns=[int(c) for c in cols]"
   ]
  },
  {
   "cell_type": "code",
   "execution_count": 415,
   "id": "f4ab6f87-8dd6-46e9-a28f-af7b21e75217",
   "metadata": {},
   "outputs": [],
   "source": [
    "t=t.clip(0,1)"
   ]
  },
  {
   "cell_type": "code",
   "execution_count": 417,
   "id": "81483a6c-b247-409b-a394-bb7cc1be8464",
   "metadata": {},
   "outputs": [],
   "source": [
    "dg=df.merge(t,left_index=True,right_index=True)"
   ]
  },
  {
   "cell_type": "code",
   "execution_count": 495,
   "id": "45bd8805-fbfa-4cd0-bac6-079f925773c9",
   "metadata": {},
   "outputs": [
    {
     "name": "stderr",
     "output_type": "stream",
     "text": [
      "/tmp/ipykernel_18223/4045396747.py:1: UserWarning: Boolean Series key will be reindexed to match DataFrame index.\n",
      "  dc=dg[dg['CpG_chrm']=='chr14'][dg['CpG_beg']>=22479508].sort_values('CpG_beg').copy()\n"
     ]
    }
   ],
   "source": [
    "dc=dg[dg['CpG_chrm']=='chr14'][dg['CpG_beg']>=22479508].sort_values('CpG_beg').copy()\n",
    "m1=dc[dc['CpG_beg']<=22542765].copy().drop(['CpG_chrm','CpG_beg'],axis=1)\n",
    "m1=pd.DataFrame(pd.concat([m1.mean(),wb.loc[m1.index].mean()]).rename('m1'))"
   ]
  },
  {
   "cell_type": "code",
   "execution_count": 496,
   "id": "4259c1e5-007b-490e-a5a7-19543b85df38",
   "metadata": {},
   "outputs": [
    {
     "name": "stderr",
     "output_type": "stream",
     "text": [
      "/tmp/ipykernel_18223/2440160280.py:1: UserWarning: Boolean Series key will be reindexed to match DataFrame index.\n",
      "  dc2=dg[dg['CpG_chrm']=='chr21'][dg['CpG_beg']>=42403334].sort_values('CpG_beg').copy()\n"
     ]
    }
   ],
   "source": [
    "dc2=dg[dg['CpG_chrm']=='chr21'][dg['CpG_beg']>=42403334].sort_values('CpG_beg').copy()\n",
    "dc2=dc2[dc2['CpG_beg']<=42406968].drop(['CpG_chrm','CpG_beg'],axis=1)\n",
    "m2=pd.DataFrame(pd.concat([dc2.mean(),wb.loc[dc2.index].mean()]).rename('m2'))"
   ]
  },
  {
   "cell_type": "code",
   "execution_count": 501,
   "id": "a430a2fc-59b8-4db7-8a24-d09d68a29cee",
   "metadata": {},
   "outputs": [
    {
     "name": "stderr",
     "output_type": "stream",
     "text": [
      "/tmp/ipykernel_18223/3369750014.py:1: UserWarning: Boolean Series key will be reindexed to match DataFrame index.\n",
      "  dc2=dg[dg['CpG_chrm']=='chr11'][dg['CpG_beg']>=118338567].sort_values('CpG_beg').copy()\n"
     ]
    }
   ],
   "source": [
    "dc2=dg[dg['CpG_chrm']=='chr11'][dg['CpG_beg']>=118338567].sort_values('CpG_beg').copy()\n",
    "dc2=dc2[dc2['CpG_beg']<=118345883].drop(['CpG_chrm','CpG_beg'],axis=1)\n",
    "m2=pd.DataFrame(pd.concat([dc2.mean(),wb.loc[dc2.index].mean()]).rename('m2'))"
   ]
  },
  {
   "cell_type": "code",
   "execution_count": 502,
   "id": "d6059c90-662e-46ac-aeb9-463472967429",
   "metadata": {},
   "outputs": [
    {
     "data": {
      "text/plain": [
       "<Axes: xlabel='m1', ylabel='m2'>"
      ]
     },
     "execution_count": 502,
     "metadata": {},
     "output_type": "execute_result"
    },
    {
     "data": {
      "image/png": "[encoded data removed]",
      "text/plain": [
       "<Figure size 640x480 with 1 Axes>"
      ]
     },
     "metadata": {},
     "output_type": "display_data"
    }
   ],
   "source": [
    "conc=pd.concat([m1,m2],axis=1)\n",
    "conc['type']=['T']*len(t.columns)+['WB']*len(wb.columns)\n",
    "sns.scatterplot(conc,x='m1',y='m2',hue='type')"
   ]
  },
  {
   "cell_type": "code",
   "execution_count": 514,
   "id": "a25e9bd9-0867-4e1f-a10c-d6a297f3f7d2",
   "metadata": {},
   "outputs": [],
   "source": [
    "nut='https://ftp.ncbi.nlm.nih.gov/geo/series/GSE63nnn/GSE63499/matrix/GSE63499_series_matrix.txt.gz'\n",
    "nut=pd.read_table(nut,skiprows=65,index_col=0)"
   ]
  },
  {
   "cell_type": "code",
   "execution_count": 555,
   "id": "0f12b1b4-3242-47d3-9a2e-3e3bbe3b722b",
   "metadata": {},
   "outputs": [],
   "source": [
    "nu=nut[['GSM1551105','GSM1551106','GSM1551107','GSM1551109','GSM1551111','GSM1551108','GSM1551110','GSM1551112','GSM1551114','GSM1551116']].copy()"
   ]
  },
  {
   "cell_type": "code",
   "execution_count": 562,
   "id": "d80f50de-9d96-4ce3-9d72-04a3aa03f58f",
   "metadata": {},
   "outputs": [],
   "source": [
    "nu['nu']=nut[['GSM1551105','GSM1551106','GSM1551107','GSM1551109','GSM1551111']].mean(1)\n",
    "nu['wb']=nut[['GSM1551108','GSM1551110','GSM1551112']].mean(1)"
   ]
  },
  {
   "cell_type": "code",
   "execution_count": 563,
   "id": "8374d11a-cfd7-4c81-9b61-36ab8691d42e",
   "metadata": {},
   "outputs": [],
   "source": [
    "dg=df.merge(nu,left_index=True,right_index=True)"
   ]
  },
  {
   "cell_type": "code",
   "execution_count": 591,
   "id": "cd986c31-6a4b-4d9b-baac-25725f3a3ba7",
   "metadata": {},
   "outputs": [
    {
     "data": {
      "text/plain": [
       "GSM1551105    0.270335\n",
       "GSM1551106    0.235784\n",
       "GSM1551107    0.269386\n",
       "GSM1551109    0.306919\n",
       "GSM1551111    0.190874\n",
       "GSM1551108    0.548292\n",
       "GSM1551110    0.636637\n",
       "GSM1551112    0.450762\n",
       "GSM1551114    0.454667\n",
       "GSM1551116    0.465153\n",
       "nu            0.254660\n",
       "wb            0.545231\n",
       "dtype: float64"
      ]
     },
     "execution_count": 591,
     "metadata": {},
     "output_type": "execute_result"
    }
   ],
   "source": [
    "dc=dg[dg['CpG_chrm']=='chr7'][dg['CpG_beg']>=2076535].sort_values('CpG_beg').copy()\n",
    "m1=dc[dc['CpG_beg']<=2077217].copy().drop(['CpG_chrm','CpG_beg'],axis=1)\n",
    "#m1=pd.DataFrame(pd.concat([m1.mean(),wb.loc[m1.index].mean()]).rename('m1'))\n",
    "m1.mean()"
   ]
  },
  {
   "cell_type": "code",
   "execution_count": 593,
   "id": "99f5bdea-10a0-453b-b04a-403cc05ffacd",
   "metadata": {},
   "outputs": [
    {
     "name": "stderr",
     "output_type": "stream",
     "text": [
      "/tmp/ipykernel_18223/3893985181.py:1: UserWarning: Boolean Series key will be reindexed to match DataFrame index.\n",
      "  dc=dg[dg['CpG_chrm']=='chr16'][dg['CpG_beg']>=88839895].sort_values('CpG_beg').copy()\n"
     ]
    },
    {
     "data": {
      "text/plain": [
       "GSM1551105    0.296266\n",
       "GSM1551106    0.239133\n",
       "GSM1551107    0.291441\n",
       "GSM1551109    0.280689\n",
       "GSM1551111    0.171143\n",
       "GSM1551108    0.416473\n",
       "GSM1551110    0.506457\n",
       "GSM1551112    0.383564\n",
       "GSM1551114    0.390712\n",
       "GSM1551116    0.406597\n",
       "nu            0.255734\n",
       "wb            0.435498\n",
       "dtype: float64"
      ]
     },
     "execution_count": 593,
     "metadata": {},
     "output_type": "execute_result"
    }
   ],
   "source": [
    "dc=dg[dg['CpG_chrm']=='chr16'][dg['CpG_beg']>=88839895].sort_values('CpG_beg').copy()\n",
    "m1=dc[dc['CpG_beg']<=88841054].copy().drop(['CpG_chrm','CpG_beg'],axis=1)\n",
    "#m1=pd.DataFrame(pd.concat([m1.mean(),wb.loc[m1.index].mean()]).rename('m1'))\n",
    "m1.mean()"
   ]
  },
  {
   "cell_type": "code",
   "execution_count": null,
   "id": "140bbec5-76ad-4d87-9c82-78e51853a1c4",
   "metadata": {},
   "outputs": [],
   "source": []
  }
 ],
 "metadata": {
  "kernelspec": {
   "display_name": "meth",
   "language": "python",
   "name": "meth"
  },
  "language_info": {
   "codemirror_mode": {
    "name": "ipython",
    "version": 3
   },
   "file_extension": ".py",
   "mimetype": "text/x-python",
   "name": "python",
   "nbconvert_exporter": "python",
   "pygments_lexer": "ipython3",
   "version": "3.10.9"
  }
 },
 "nbformat": 4,
 "nbformat_minor": 5
}
