{
 "cells": [
  {
   "cell_type": "code",
   "execution_count": 91,
   "id": "6e6d4cd2-fada-44ec-94eb-35a5c0f6e054",
   "metadata": {},
   "outputs": [],
   "source": [
    "import pandas as pd\n",
    "import seaborn as sns\n",
    "import numpy as np"
   ]
  },
  {
   "cell_type": "code",
   "execution_count": 117,
   "id": "8fba9ba2-0e9d-41df-b2c0-7ede78ca39e6",
   "metadata": {},
   "outputs": [],
   "source": [
    "hmr={}\n",
    "for cell in ['b','cd3','cd4','cd8','gran','mono','nk','merge']:\n",
    "    b=pd.read_table('data/hmr/'+cell+'.sub',header=None,usecols=[1,2])\n",
    "    hmr[cell]=(b[2]-b[1]).sum()/(3.2*10**9)"
   ]
  },
  {
   "cell_type": "code",
   "execution_count": 118,
   "id": "8433a663-5668-4b7a-84ce-17a002ae3b53",
   "metadata": {},
   "outputs": [],
   "source": [
    "df=pd.DataFrame.from_dict(hmr,orient='index',columns=['Hypomethylated'])"
   ]
  },
  {
   "cell_type": "code",
   "execution_count": 119,
   "id": "aea02c6b-147f-4bfd-a8a1-f9fe8024d6f8",
   "metadata": {},
   "outputs": [
    {
     "data": {
      "text/plain": [
       "<Axes: >"
      ]
     },
     "execution_count": 119,
     "metadata": {},
     "output_type": "execute_result"
    },
    {
     "data": {
      "image/png": "[encoded data removed]",
      "text/plain": [
       "<Figure size 400x200 with 1 Axes>"
      ]
     },
     "metadata": {},
     "output_type": "display_data"
    }
   ],
   "source": [
    "df.sort_values('Hypomethylated').plot(kind='bar',figsize=(4,2))"
   ]
  },
  {
   "cell_type": "code",
   "execution_count": 120,
   "id": "b26d0640-035e-4b62-a353-b9150eea266d",
   "metadata": {},
   "outputs": [
    {
     "data": {
      "text/plain": [
       "0.045"
      ]
     },
     "execution_count": 120,
     "metadata": {},
     "output_type": "execute_result"
    }
   ],
   "source": [
    "df.T['merge'].values[0].round(3)"
   ]
  },
  {
   "cell_type": "code",
   "execution_count": 125,
   "id": "830f6f14-3024-449d-a0d1-60c8b5bde26a",
   "metadata": {},
   "outputs": [],
   "source": [
    "array450_='https://github.com/zhou-lab/InfiniumAnnotationV1/raw/main/Anno/HM450/HM450.hg38.manifest.tsv.gz'\n",
    "array450=pd.read_table(array450_,index_col='Probe_ID',usecols=['Probe_ID','CpG_chrm','CpG_beg'])"
   ]
  },
  {
   "cell_type": "code",
   "execution_count": 126,
   "id": "32c960eb-4423-4d2a-821e-9386650986e0",
   "metadata": {},
   "outputs": [],
   "source": [
    "array450_chr=array450.groupby('CpG_chrm')['CpG_beg'].apply(list)\n",
    "wb='https://ftp.ncbi.nlm.nih.gov/geo/series/GSE41nnn/GSE41169/matrix/GSE41169_series_matrix.txt.gz'\n",
    "wb=pd.read_table(wb,skiprows=72,index_col=0)"
   ]
  },
  {
   "cell_type": "code",
   "execution_count": 4,
   "id": "90f00086-d2eb-45c6-8527-c89e9b85fcc4",
   "metadata": {},
   "outputs": [],
   "source": [
    "wb=wb.mean(1)"
   ]
  },
  {
   "cell_type": "code",
   "execution_count": 80,
   "id": "e4d9d889-27de-4282-8c93-f837ec59a454",
   "metadata": {},
   "outputs": [],
   "source": [
    "def f(c,b,e):\n",
    "    ins=[]\n",
    "    for c in man[c]:\n",
    "        if c > b and c<e:\n",
    "            ins.append(b)\n",
    "    return len(ins)\n",
    "def wbm(c,b,e):\n",
    "    ins=[]\n",
    "    for i in man[c]:\n",
    "        if i > b and i<e:\n",
    "            ins.append(wb.loc[mn[(mn['CpG_chrm']==c)&(mn['CpG_beg']==i)].index].values[0])\n",
    "    return np.mean(ins)"
   ]
  },
  {
   "cell_type": "code",
   "execution_count": null,
   "id": "84baa977-0858-407d-8175-a522bfc90972",
   "metadata": {},
   "outputs": [],
   "source": [
    "b=pd.read_csv('data/hmr/cd4.a',header=None)\n",
    "b.shape\n",
    "b['b']=b[[4,5]].min(1)\n",
    "b['d']=b['b']-b[6]\n",
    "top=b.sort_values('d',ascending=False).head(1000)\n",
    "top['man']=top[[0,1,2]].apply(lambda x: f(x[0],x[1],x[2]),axis=1)\n",
    "top['wb']=top[[0,1,2]].apply(lambda x: wbm(x[0],x[1],x[2],x.name),axis=1)\n",
    "top[top['man']>7].head(30)"
   ]
  },
  {
   "cell_type": "code",
   "execution_count": 88,
   "id": "282aa966-13be-4469-b37f-c9059311c899",
   "metadata": {},
   "outputs": [],
   "source": [
    "b=pd.read_csv('data/hmr/gran.a',header=None)\n",
    "b.shape\n",
    "b['b']=b[[4,5]].min(1)\n",
    "b['d']=b['b']-b[6]\n",
    "top=b.sort_values('d',ascending=False).head(500)\n",
    "top['man']=top[[0,1,2]].apply(lambda x: f(x[0],x[1],x[2]),axis=1)"
   ]
  },
  {
   "cell_type": "code",
   "execution_count": 89,
   "id": "56dce7a6-d733-48ce-b3e4-a093e4a15281",
   "metadata": {},
   "outputs": [
    {
     "name": "stderr",
     "output_type": "stream",
     "text": [
      "/home/moqri/miniconda3/envs/meth/lib/python3.10/site-packages/numpy/core/fromnumeric.py:3432: RuntimeWarning: Mean of empty slice.\n",
      "  return _methods._mean(a, axis=axis, dtype=dtype,\n",
      "/home/moqri/miniconda3/envs/meth/lib/python3.10/site-packages/numpy/core/_methods.py:190: RuntimeWarning: invalid value encountered in double_scalars\n",
      "  ret = ret.dtype.type(ret / rcount)\n"
     ]
    }
   ],
   "source": [
    "top['wb']=top[[0,1,2]].apply(lambda x: wbm(x[0],x[1],x[2]),axis=1)"
   ]
  },
  {
   "cell_type": "code",
   "execution_count": 90,
   "id": "0c7916ad-8e9e-44ae-8cad-d32c6a25b595",
   "metadata": {},
   "outputs": [
    {
     "data": {
      "text/html": [
       "<div>\n",
       "<style scoped>\n",
       "    .dataframe tbody tr th:only-of-type {\n",
       "        vertical-align: middle;\n",
       "    }\n",
       "\n",
       "    .dataframe tbody tr th {\n",
       "        vertical-align: top;\n",
       "    }\n",
       "\n",
       "    .dataframe thead th {\n",
       "        text-align: right;\n",
       "    }\n",
       "</style>\n",
       "<table border=\"1\" class=\"dataframe\">\n",
       "  <thead>\n",
       "    <tr style=\"text-align: right;\">\n",
       "      <th></th>\n",
       "      <th>0</th>\n",
       "      <th>1</th>\n",
       "      <th>2</th>\n",
       "      <th>3</th>\n",
       "      <th>4</th>\n",
       "      <th>5</th>\n",
       "      <th>6</th>\n",
       "      <th>b</th>\n",
       "      <th>d</th>\n",
       "      <th>man</th>\n",
       "      <th>wb</th>\n",
       "    </tr>\n",
       "  </thead>\n",
       "  <tbody>\n",
       "    <tr>\n",
       "      <th>44164</th>\n",
       "      <td>chr6</td>\n",
       "      <td>30006147</td>\n",
       "      <td>30007691</td>\n",
       "      <td>116</td>\n",
       "      <td>0.63</td>\n",
       "      <td>0.59</td>\n",
       "      <td>0.07</td>\n",
       "      <td>0.59</td>\n",
       "      <td>0.52</td>\n",
       "      <td>47</td>\n",
       "      <td>0.127755</td>\n",
       "    </tr>\n",
       "    <tr>\n",
       "      <th>44223</th>\n",
       "      <td>chr6</td>\n",
       "      <td>30955159</td>\n",
       "      <td>30956227</td>\n",
       "      <td>39</td>\n",
       "      <td>1.00</td>\n",
       "      <td>0.44</td>\n",
       "      <td>0.05</td>\n",
       "      <td>0.44</td>\n",
       "      <td>0.39</td>\n",
       "      <td>18</td>\n",
       "      <td>0.089683</td>\n",
       "    </tr>\n",
       "    <tr>\n",
       "      <th>28112</th>\n",
       "      <td>chr19</td>\n",
       "      <td>54361678</td>\n",
       "      <td>54365302</td>\n",
       "      <td>47</td>\n",
       "      <td>0.53</td>\n",
       "      <td>0.48</td>\n",
       "      <td>0.11</td>\n",
       "      <td>0.48</td>\n",
       "      <td>0.37</td>\n",
       "      <td>8</td>\n",
       "      <td>0.140855</td>\n",
       "    </tr>\n",
       "    <tr>\n",
       "      <th>46395</th>\n",
       "      <td>chr7</td>\n",
       "      <td>2076535</td>\n",
       "      <td>2077217</td>\n",
       "      <td>41</td>\n",
       "      <td>0.63</td>\n",
       "      <td>0.45</td>\n",
       "      <td>0.09</td>\n",
       "      <td>0.45</td>\n",
       "      <td>0.36</td>\n",
       "      <td>3</td>\n",
       "      <td>0.435828</td>\n",
       "    </tr>\n",
       "    <tr>\n",
       "      <th>20618</th>\n",
       "      <td>chr16</td>\n",
       "      <td>88839895</td>\n",
       "      <td>88841054</td>\n",
       "      <td>42</td>\n",
       "      <td>0.47</td>\n",
       "      <td>0.41</td>\n",
       "      <td>0.05</td>\n",
       "      <td>0.41</td>\n",
       "      <td>0.36</td>\n",
       "      <td>3</td>\n",
       "      <td>0.380588</td>\n",
       "    </tr>\n",
       "    <tr>\n",
       "      <th>18140</th>\n",
       "      <td>chr16</td>\n",
       "      <td>546615</td>\n",
       "      <td>547423</td>\n",
       "      <td>49</td>\n",
       "      <td>0.46</td>\n",
       "      <td>0.46</td>\n",
       "      <td>0.11</td>\n",
       "      <td>0.46</td>\n",
       "      <td>0.35</td>\n",
       "      <td>1</td>\n",
       "      <td>0.439733</td>\n",
       "    </tr>\n",
       "    <tr>\n",
       "      <th>16215</th>\n",
       "      <td>chr14</td>\n",
       "      <td>105898631</td>\n",
       "      <td>105901543</td>\n",
       "      <td>68</td>\n",
       "      <td>0.57</td>\n",
       "      <td>0.57</td>\n",
       "      <td>0.22</td>\n",
       "      <td>0.57</td>\n",
       "      <td>0.35</td>\n",
       "      <td>2</td>\n",
       "      <td>0.204995</td>\n",
       "    </tr>\n",
       "    <tr>\n",
       "      <th>52786</th>\n",
       "      <td>chr9</td>\n",
       "      <td>127828351</td>\n",
       "      <td>127828880</td>\n",
       "      <td>34</td>\n",
       "      <td>0.70</td>\n",
       "      <td>0.63</td>\n",
       "      <td>0.29</td>\n",
       "      <td>0.63</td>\n",
       "      <td>0.34</td>\n",
       "      <td>0</td>\n",
       "      <td>NaN</td>\n",
       "    </tr>\n",
       "    <tr>\n",
       "      <th>44144</th>\n",
       "      <td>chr6</td>\n",
       "      <td>29631612</td>\n",
       "      <td>29634032</td>\n",
       "      <td>117</td>\n",
       "      <td>0.60</td>\n",
       "      <td>0.44</td>\n",
       "      <td>0.10</td>\n",
       "      <td>0.44</td>\n",
       "      <td>0.34</td>\n",
       "      <td>23</td>\n",
       "      <td>0.156927</td>\n",
       "    </tr>\n",
       "    <tr>\n",
       "      <th>18150</th>\n",
       "      <td>chr16</td>\n",
       "      <td>596112</td>\n",
       "      <td>596699</td>\n",
       "      <td>33</td>\n",
       "      <td>0.44</td>\n",
       "      <td>0.39</td>\n",
       "      <td>0.06</td>\n",
       "      <td>0.39</td>\n",
       "      <td>0.33</td>\n",
       "      <td>2</td>\n",
       "      <td>0.491861</td>\n",
       "    </tr>\n",
       "    <tr>\n",
       "      <th>18519</th>\n",
       "      <td>chr16</td>\n",
       "      <td>4679829</td>\n",
       "      <td>4680656</td>\n",
       "      <td>53</td>\n",
       "      <td>0.45</td>\n",
       "      <td>0.40</td>\n",
       "      <td>0.08</td>\n",
       "      <td>0.40</td>\n",
       "      <td>0.32</td>\n",
       "      <td>5</td>\n",
       "      <td>0.389508</td>\n",
       "    </tr>\n",
       "  </tbody>\n",
       "</table>\n",
       "</div>"
      ],
      "text/plain": [
       "           0          1          2    3     4     5     6     b     d  man  \\\n",
       "44164   chr6   30006147   30007691  116  0.63  0.59  0.07  0.59  0.52   47   \n",
       "44223   chr6   30955159   30956227   39  1.00  0.44  0.05  0.44  0.39   18   \n",
       "28112  chr19   54361678   54365302   47  0.53  0.48  0.11  0.48  0.37    8   \n",
       "46395   chr7    2076535    2077217   41  0.63  0.45  0.09  0.45  0.36    3   \n",
       "20618  chr16   88839895   88841054   42  0.47  0.41  0.05  0.41  0.36    3   \n",
       "18140  chr16     546615     547423   49  0.46  0.46  0.11  0.46  0.35    1   \n",
       "16215  chr14  105898631  105901543   68  0.57  0.57  0.22  0.57  0.35    2   \n",
       "52786   chr9  127828351  127828880   34  0.70  0.63  0.29  0.63  0.34    0   \n",
       "44144   chr6   29631612   29634032  117  0.60  0.44  0.10  0.44  0.34   23   \n",
       "18150  chr16     596112     596699   33  0.44  0.39  0.06  0.39  0.33    2   \n",
       "18519  chr16    4679829    4680656   53  0.45  0.40  0.08  0.40  0.32    5   \n",
       "\n",
       "             wb  \n",
       "44164  0.127755  \n",
       "44223  0.089683  \n",
       "28112  0.140855  \n",
       "46395  0.435828  \n",
       "20618  0.380588  \n",
       "18140  0.439733  \n",
       "16215  0.204995  \n",
       "52786       NaN  \n",
       "44144  0.156927  \n",
       "18150  0.491861  \n",
       "18519  0.389508  "
      ]
     },
     "execution_count": 90,
     "metadata": {},
     "output_type": "execute_result"
    }
   ],
   "source": [
    "top[top[3]>30].head(20)"
   ]
  },
  {
   "cell_type": "code",
   "execution_count": null,
   "id": "1aa189d8-78f6-43ca-a4ba-05fdb30bde2e",
   "metadata": {},
   "outputs": [],
   "source": []
  }
 ],
 "metadata": {
  "kernelspec": {
   "display_name": "meth",
   "language": "python",
   "name": "meth"
  },
  "language_info": {
   "codemirror_mode": {
    "name": "ipython",
    "version": 3
   },
   "file_extension": ".py",
   "mimetype": "text/x-python",
   "name": "python",
   "nbconvert_exporter": "python",
   "pygments_lexer": "ipython3",
   "version": "3.10.9"
  }
 },
 "nbformat": 4,
 "nbformat_minor": 5
}
