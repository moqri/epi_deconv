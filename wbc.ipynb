{
 "cells": [
  {
   "cell_type": "code",
   "execution_count": 88,
   "id": "963188df-d30d-4012-a401-629c13d1e9ec",
   "metadata": {},
   "outputs": [],
   "source": [
    "import seaborn as sns\n",
    "import pandas as pd\n",
    "import numpy as np\n",
    "def anti_trafo(x, adult_age=20):\n",
    "    y = np.where(\n",
    "        x < 0, (1 + adult_age) * np.exp(x) - 1, (1 + adult_age) * x + adult_age\n",
    "    )\n",
    "    return y"
   ]
  },
  {
   "cell_type": "code",
   "execution_count": 96,
   "id": "98cd884a-c551-4fa6-8594-7bddfbb0b064",
   "metadata": {},
   "outputs": [],
   "source": [
    "url='https://ftp.ncbi.nlm.nih.gov/geo/series/GSE186nnn/GSE186888/matrix/GSE186888_series_matrix.txt.gz'\n",
    "url='https://ftp.ncbi.nlm.nih.gov/geo/series/GSE186nnn/GSE186458/matrix/GSE186458_series_matrix.txt.gz'\n",
    "age=pd.read_table(url,skiprows=80,index_col=0).iloc[10].str.strip('age: ')"
   ]
  },
  {
   "cell_type": "code",
   "execution_count": 48,
   "id": "85b22649-d154-4609-b5a6-a2328fdd3410",
   "metadata": {},
   "outputs": [
    {
     "name": "stdout",
     "output_type": "stream",
     "text": [
      "CPU times: user 1min 6s, sys: 5.25 s, total: 1min 11s\n",
      "Wall time: 1min 11s\n"
     ]
    }
   ],
   "source": [
    "%%time\n",
    "df=pd.read_table('data/merge/wbc.table',nrows=10**8,index_col=0)"
   ]
  },
  {
   "cell_type": "code",
   "execution_count": 103,
   "id": "372a4821-c678-4334-be4a-6acaaa44145f",
   "metadata": {},
   "outputs": [],
   "source": [
    "df.columns=df.columns.str[:10]"
   ]
  },
  {
   "cell_type": "code",
   "execution_count": 38,
   "id": "ff748746-7759-42be-9b66-1250c4c9923e",
   "metadata": {},
   "outputs": [
    {
     "data": {
      "text/plain": [
       "0.7929392584634033"
      ]
     },
     "execution_count": 38,
     "metadata": {},
     "output_type": "execute_result"
    }
   ],
   "source": [
    "df.iloc[:,2].mean()"
   ]
  },
  {
   "cell_type": "code",
   "execution_count": 39,
   "id": "52775bf7-d801-4a9f-b4fa-f66db8815829",
   "metadata": {},
   "outputs": [
    {
     "data": {
      "text/plain": [
       "<Axes: >"
      ]
     },
     "execution_count": 39,
     "metadata": {},
     "output_type": "execute_result"
    },
    {
     "data": {
      "image/png": "[encoded data removed]",
      "text/plain": [
       "<Figure size 640x480 with 1 Axes>"
      ]
     },
     "metadata": {},
     "output_type": "display_data"
    }
   ],
   "source": [
    "df.iloc[:,2].hist(bins=100)"
   ]
  },
  {
   "cell_type": "code",
   "execution_count": 42,
   "id": "979acd42-1faf-417d-a592-f84660eae0ef",
   "metadata": {},
   "outputs": [],
   "source": [
    "man=pd.read_table('../biomodal/data/ref/HM450.hg38.manifest.tsv',usecols=['Probe_ID','CpG_chrm','CpG_beg'],index_col='Probe_ID')\n",
    "man=man.dropna().copy()\n",
    "man.columns=['chr','beg']\n",
    "man['pos']=man['chr']+':'+(man['beg']+1).astype(int).astype(str)"
   ]
  },
  {
   "cell_type": "code",
   "execution_count": 69,
   "id": "49635337-5f07-4122-9b7d-484c208fa049",
   "metadata": {},
   "outputs": [
    {
     "name": "stdout",
     "output_type": "stream",
     "text": [
      "CPU times: user 115 ms, sys: 12.1 ms, total: 127 ms\n",
      "Wall time: 266 ms\n"
     ]
    },
    {
     "data": {
      "text/plain": [
       "(353, 4)"
      ]
     },
     "execution_count": 69,
     "metadata": {},
     "output_type": "execute_result"
    }
   ],
   "source": [
    "%%time\n",
    "han=pd.read_csv('https://raw.githubusercontent.com/bio-learn/biolearn/master/biolearn/data/Horvath1.csv',index_col=0)\n",
    "han=han.join(man,how='inner')\n",
    "han['beg']=han['beg'].astype(int)\n",
    "han.index=han['chr']+':'+(han['beg']).astype(str)\n",
    "han.shape"
   ]
  },
  {
   "cell_type": "code",
   "execution_count": 55,
   "id": "81868bb9-096e-4db8-9628-89691d14a08f",
   "metadata": {},
   "outputs": [],
   "source": [
    "df.index=df.index.rename('cpg')\n",
    "df.index=df.index.str[:-6]"
   ]
  },
  {
   "cell_type": "code",
   "execution_count": 70,
   "id": "bbbf3ab9-71d0-4fe8-822b-d8d7e92d7e31",
   "metadata": {},
   "outputs": [
    {
     "name": "stdout",
     "output_type": "stream",
     "text": [
      "CPU times: user 3.69 ms, sys: 981 µs, total: 4.67 ms\n",
      "Wall time: 4.38 ms\n"
     ]
    }
   ],
   "source": [
    "%%time\n",
    "dg=han.join(df)"
   ]
  },
  {
   "cell_type": "code",
   "execution_count": 83,
   "id": "dd15d762-ab94-4ea8-848f-361bd9c4a1d4",
   "metadata": {},
   "outputs": [],
   "source": [
    "for i in df.columns:\n",
    "    dg[i]=dg[i]*dg['CoefficientTraining']"
   ]
  },
  {
   "cell_type": "code",
   "execution_count": 92,
   "id": "999b7ce0-60af-4db7-85e1-62b3b124eccc",
   "metadata": {},
   "outputs": [
    {
     "data": {
      "text/plain": [
       "Unnamed: 23                               16.220699\n",
       "GSM6810034_CNVS-NORM-110033253-WBC.bed    26.478275\n",
       "GSM6810048_CNVS-NORM-110036152-WBC.bed    30.114307\n",
       "GSM6810040_CNVS-NORM-110033746-WBC.bed    36.132690\n",
       "GSM6810027_CNVS-NORM-110000264-WBC.bed    36.348086\n",
       "GSM6810047_CNVS-NORM-110036138-WBC.bed    36.548990\n",
       "GSM6810039_CNVS-NORM-110033745-WBC.bed    37.255289\n",
       "GSM6810036_CNVS-NORM-110033577-WBC.bed    39.471042\n",
       "GSM6810041_CNVS-NORM-110033750-WBC.bed    39.784939\n",
       "GSM6810038_CNVS-NORM-110033727-WBC.bed    39.828774\n",
       "GSM6810031_CNVS-NORM-110029979-WBC.bed    41.112057\n",
       "GSM6810028_CNVS-NORM-110027051-WBC.bed    42.043952\n",
       "GSM6810044_CNVS-NORM-110033933-WBC.bed    45.017791\n",
       "GSM6810030_CNVS-NORM-110029639-WBC.bed    45.079297\n",
       "GSM6810029_CNVS-NORM-110027054-WBC.bed    45.805058\n",
       "GSM6810037_CNVS-NORM-110033633-WBC.bed    49.922848\n",
       "GSM6810045_CNVS-NORM-110036059-WBC.bed    50.793273\n",
       "GSM6810032_CNVS-NORM-110032739-WBC.bed    55.470797\n",
       "GSM6810042_CNVS-NORM-110033907-WBC.bed    56.161561\n",
       "GSM6810046_CNVS-NORM-110036107-WBC.bed    56.944520\n",
       "GSM6810033_CNVS-NORM-110032789-WBC.bed    62.558443\n",
       "GSM6810035_CNVS-NORM-110033397-WBC.bed    64.441666\n",
       "GSM6810043_CNVS-NORM-110033912-WBC.bed    66.031715\n",
       "dtype: float64"
      ]
     },
     "execution_count": 92,
     "metadata": {},
     "output_type": "execute_result"
    }
   ],
   "source": [
    "dg[df.columns].sum().apply(lambda x: anti_trafo(x + 0.696)).sort_values()"
   ]
  },
  {
   "cell_type": "code",
   "execution_count": 109,
   "id": "fbe17974-b922-4284-9868-0f0c48248c80",
   "metadata": {},
   "outputs": [],
   "source": [
    "age=age[age.index.isin(df.columns)]\n",
    "age=age.rename('age')\n",
    "age=age.astype(int)"
   ]
  },
  {
   "cell_type": "code",
   "execution_count": 121,
   "id": "ed2f57b1-fb37-48b2-a55e-76aef5250a7f",
   "metadata": {},
   "outputs": [],
   "source": [
    "df.columns=['x']+list(df.columns)[:-1]"
   ]
  },
  {
   "cell_type": "code",
   "execution_count": null,
   "id": "41e78d18-e126-4cdb-bc70-d872791f044d",
   "metadata": {},
   "outputs": [],
   "source": [
    "df=df.drop('x',1).copy()"
   ]
  },
  {
   "cell_type": "code",
   "execution_count": null,
   "id": "0f03ca96-9437-4b59-896a-e2af002e629b",
   "metadata": {},
   "outputs": [],
   "source": [
    "dfn=df.dropna()"
   ]
  },
  {
   "cell_type": "code",
   "execution_count": 192,
   "id": "4034824c-c06a-45b8-b6ae-d96d02fa56e5",
   "metadata": {},
   "outputs": [],
   "source": [
    "dt=dfn.head(10**8).T"
   ]
  },
  {
   "cell_type": "code",
   "execution_count": 193,
   "id": "1d8dd1a3-4513-4108-be18-ae504e9d8be8",
   "metadata": {},
   "outputs": [],
   "source": [
    "dt=dt.join(age)"
   ]
  },
  {
   "cell_type": "code",
   "execution_count": 195,
   "id": "81fe18d9-d29a-404f-afde-42fd15bbeeb1",
   "metadata": {},
   "outputs": [
    {
     "data": {
      "text/plain": [
       "(22, 25782403)"
      ]
     },
     "execution_count": 195,
     "metadata": {},
     "output_type": "execute_result"
    }
   ],
   "source": [
    "dt.shape"
   ]
  },
  {
   "cell_type": "code",
   "execution_count": 241,
   "id": "436345f5-143e-4521-9425-48b4b4fbac82",
   "metadata": {},
   "outputs": [
    {
     "data": {
      "text/plain": [
       "<Axes: xlabel='age', ylabel='chr6:11044643'>"
      ]
     },
     "execution_count": 241,
     "metadata": {},
     "output_type": "execute_result"
    },
    {
     "data": {
      "image/png": "[encoded data removed]",
      "text/plain": [
       "<Figure size 640x480 with 1 Axes>"
      ]
     },
     "metadata": {},
     "output_type": "display_data"
    }
   ],
   "source": [
    "c='chr6:11044643'\n",
    "sns.scatterplot(dt,x='age',y=c)"
   ]
  },
  {
   "cell_type": "code",
   "execution_count": 236,
   "id": "38d28516-17b6-4b7e-b848-71d09b337e15",
   "metadata": {},
   "outputs": [],
   "source": [
    "m=dfn.median()"
   ]
  },
  {
   "cell_type": "code",
   "execution_count": 233,
   "id": "9587fc01-d879-4d70-b9ff-a466d1ad8f85",
   "metadata": {},
   "outputs": [],
   "source": [
    "std=df.std()"
   ]
  },
  {
   "cell_type": "code",
   "execution_count": 237,
   "id": "0214a7cc-9af4-4198-b9bd-484050c0b21a",
   "metadata": {},
   "outputs": [
    {
     "name": "stderr",
     "output_type": "stream",
     "text": [
      "/local/scratch/moqri/slrmtmp.42058441/ipykernel_29322/1025423528.py:1: FutureWarning: In a future version of pandas all arguments of concat except for the argument 'objs' will be keyword-only.\n",
      "  pl=pd.concat([age,m],1)\n"
     ]
    }
   ],
   "source": [
    "pl=pd.concat([age,m],1)"
   ]
  },
  {
   "cell_type": "code",
   "execution_count": 249,
   "id": "73323e27-a4ca-41be-8a8e-4f5551b0a5cb",
   "metadata": {},
   "outputs": [],
   "source": [
    "dt['age']=pd.cut(dt['age'],[0,45,70,100],labels=['y','m','o'])"
   ]
  },
  {
   "cell_type": "code",
   "execution_count": 253,
   "id": "aa389632-61c9-4531-b06c-ffc59bc2ac08",
   "metadata": {},
   "outputs": [],
   "source": [
    "dm=dt.groupby('age').mean()"
   ]
  },
  {
   "cell_type": "code",
   "execution_count": 256,
   "id": "83fba58d-5c49-4761-8ad0-4d1a7738ec39",
   "metadata": {},
   "outputs": [],
   "source": [
    "dmt=dm.T"
   ]
  },
  {
   "cell_type": "code",
   "execution_count": 270,
   "id": "440992a3-eee8-4910-ac46-4d7f25876acb",
   "metadata": {},
   "outputs": [],
   "source": [
    "dmt['chr']=dmt.index.str.split(':').str[0]"
   ]
  },
  {
   "cell_type": "code",
   "execution_count": 271,
   "id": "71030412-0f7a-480e-a9b4-dc7ffaa79064",
   "metadata": {},
   "outputs": [],
   "source": [
    "dmt['beg']=dmt.index.str.split(':').str[1].astype(int)"
   ]
  },
  {
   "cell_type": "code",
   "execution_count": 272,
   "id": "a79eee7c-1451-4bd0-91c7-5af65fca1f16",
   "metadata": {},
   "outputs": [],
   "source": [
    "dmt['d']=dmt['o']-dmt['y']"
   ]
  },
  {
   "cell_type": "code",
   "execution_count": 274,
   "id": "fa3cb957-7325-4ef9-a956-caa48641318d",
   "metadata": {},
   "outputs": [
    {
     "data": {
      "text/html": [
       "<div>\n",
       "<style scoped>\n",
       "    .dataframe tbody tr th:only-of-type {\n",
       "        vertical-align: middle;\n",
       "    }\n",
       "\n",
       "    .dataframe tbody tr th {\n",
       "        vertical-align: top;\n",
       "    }\n",
       "\n",
       "    .dataframe thead th {\n",
       "        text-align: right;\n",
       "    }\n",
       "</style>\n",
       "<table border=\"1\" class=\"dataframe\">\n",
       "  <thead>\n",
       "    <tr style=\"text-align: right;\">\n",
       "      <th>age</th>\n",
       "      <th>y</th>\n",
       "      <th>m</th>\n",
       "      <th>o</th>\n",
       "      <th>chr</th>\n",
       "      <th>beg</th>\n",
       "      <th>d</th>\n",
       "    </tr>\n",
       "  </thead>\n",
       "  <tbody>\n",
       "    <tr>\n",
       "      <th>chr6:11044627</th>\n",
       "      <td>0.370627</td>\n",
       "      <td>0.525970</td>\n",
       "      <td>0.574350</td>\n",
       "      <td>chr6</td>\n",
       "      <td>11044627</td>\n",
       "      <td>0.203722</td>\n",
       "    </tr>\n",
       "    <tr>\n",
       "      <th>chr6:11044630</th>\n",
       "      <td>0.221690</td>\n",
       "      <td>0.354790</td>\n",
       "      <td>0.446802</td>\n",
       "      <td>chr6</td>\n",
       "      <td>11044630</td>\n",
       "      <td>0.225112</td>\n",
       "    </tr>\n",
       "    <tr>\n",
       "      <th>chr6:11044633</th>\n",
       "      <td>0.733006</td>\n",
       "      <td>0.850398</td>\n",
       "      <td>0.937735</td>\n",
       "      <td>chr6</td>\n",
       "      <td>11044633</td>\n",
       "      <td>0.204729</td>\n",
       "    </tr>\n",
       "    <tr>\n",
       "      <th>chr6:11044639</th>\n",
       "      <td>0.506368</td>\n",
       "      <td>0.697422</td>\n",
       "      <td>0.830090</td>\n",
       "      <td>chr6</td>\n",
       "      <td>11044639</td>\n",
       "      <td>0.323722</td>\n",
       "    </tr>\n",
       "    <tr>\n",
       "      <th>chr6:11044641</th>\n",
       "      <td>0.239236</td>\n",
       "      <td>0.398255</td>\n",
       "      <td>0.451612</td>\n",
       "      <td>chr6</td>\n",
       "      <td>11044641</td>\n",
       "      <td>0.212377</td>\n",
       "    </tr>\n",
       "    <tr>\n",
       "      <th>chr6:11044643</th>\n",
       "      <td>0.428867</td>\n",
       "      <td>0.665850</td>\n",
       "      <td>0.753768</td>\n",
       "      <td>chr6</td>\n",
       "      <td>11044643</td>\n",
       "      <td>0.324901</td>\n",
       "    </tr>\n",
       "    <tr>\n",
       "      <th>chr6:11044646</th>\n",
       "      <td>0.688301</td>\n",
       "      <td>0.786832</td>\n",
       "      <td>0.879344</td>\n",
       "      <td>chr6</td>\n",
       "      <td>11044646</td>\n",
       "      <td>0.191044</td>\n",
       "    </tr>\n",
       "    <tr>\n",
       "      <th>chr6:11044654</th>\n",
       "      <td>0.272766</td>\n",
       "      <td>0.453829</td>\n",
       "      <td>0.468831</td>\n",
       "      <td>chr6</td>\n",
       "      <td>11044654</td>\n",
       "      <td>0.196065</td>\n",
       "    </tr>\n",
       "    <tr>\n",
       "      <th>chr6:11044660</th>\n",
       "      <td>0.293431</td>\n",
       "      <td>0.494572</td>\n",
       "      <td>0.569128</td>\n",
       "      <td>chr6</td>\n",
       "      <td>11044660</td>\n",
       "      <td>0.275697</td>\n",
       "    </tr>\n",
       "    <tr>\n",
       "      <th>chr6:11044682</th>\n",
       "      <td>0.069648</td>\n",
       "      <td>0.072484</td>\n",
       "      <td>0.064897</td>\n",
       "      <td>chr6</td>\n",
       "      <td>11044682</td>\n",
       "      <td>-0.004751</td>\n",
       "    </tr>\n",
       "    <tr>\n",
       "      <th>chr6:11044694</th>\n",
       "      <td>0.057731</td>\n",
       "      <td>0.072361</td>\n",
       "      <td>0.083552</td>\n",
       "      <td>chr6</td>\n",
       "      <td>11044694</td>\n",
       "      <td>0.025821</td>\n",
       "    </tr>\n",
       "    <tr>\n",
       "      <th>chr6:11044701</th>\n",
       "      <td>0.042014</td>\n",
       "      <td>0.052007</td>\n",
       "      <td>0.048483</td>\n",
       "      <td>chr6</td>\n",
       "      <td>11044701</td>\n",
       "      <td>0.006469</td>\n",
       "    </tr>\n",
       "    <tr>\n",
       "      <th>chr6:11044709</th>\n",
       "      <td>0.049586</td>\n",
       "      <td>0.073539</td>\n",
       "      <td>0.046727</td>\n",
       "      <td>chr6</td>\n",
       "      <td>11044709</td>\n",
       "      <td>-0.002859</td>\n",
       "    </tr>\n",
       "    <tr>\n",
       "      <th>chr6:11044725</th>\n",
       "      <td>0.088047</td>\n",
       "      <td>0.079178</td>\n",
       "      <td>0.087811</td>\n",
       "      <td>chr6</td>\n",
       "      <td>11044725</td>\n",
       "      <td>-0.000236</td>\n",
       "    </tr>\n",
       "    <tr>\n",
       "      <th>chr6:11044734</th>\n",
       "      <td>0.165305</td>\n",
       "      <td>0.177032</td>\n",
       "      <td>0.191232</td>\n",
       "      <td>chr6</td>\n",
       "      <td>11044734</td>\n",
       "      <td>0.025927</td>\n",
       "    </tr>\n",
       "    <tr>\n",
       "      <th>chr6:11044740</th>\n",
       "      <td>0.147387</td>\n",
       "      <td>0.156721</td>\n",
       "      <td>0.133882</td>\n",
       "      <td>chr6</td>\n",
       "      <td>11044740</td>\n",
       "      <td>-0.013506</td>\n",
       "    </tr>\n",
       "    <tr>\n",
       "      <th>chr6:11044766</th>\n",
       "      <td>0.290982</td>\n",
       "      <td>0.354039</td>\n",
       "      <td>0.316605</td>\n",
       "      <td>chr6</td>\n",
       "      <td>11044766</td>\n",
       "      <td>0.025623</td>\n",
       "    </tr>\n",
       "    <tr>\n",
       "      <th>chr6:11044819</th>\n",
       "      <td>0.661093</td>\n",
       "      <td>0.728819</td>\n",
       "      <td>0.705300</td>\n",
       "      <td>chr6</td>\n",
       "      <td>11044819</td>\n",
       "      <td>0.044208</td>\n",
       "    </tr>\n",
       "    <tr>\n",
       "      <th>chr6:11044871</th>\n",
       "      <td>0.118089</td>\n",
       "      <td>0.154973</td>\n",
       "      <td>0.208127</td>\n",
       "      <td>chr6</td>\n",
       "      <td>11044871</td>\n",
       "      <td>0.090038</td>\n",
       "    </tr>\n",
       "    <tr>\n",
       "      <th>chr6:11044881</th>\n",
       "      <td>0.171677</td>\n",
       "      <td>0.206049</td>\n",
       "      <td>0.208107</td>\n",
       "      <td>chr6</td>\n",
       "      <td>11044881</td>\n",
       "      <td>0.036431</td>\n",
       "    </tr>\n",
       "    <tr>\n",
       "      <th>chr6:11044891</th>\n",
       "      <td>0.191337</td>\n",
       "      <td>0.223172</td>\n",
       "      <td>0.232510</td>\n",
       "      <td>chr6</td>\n",
       "      <td>11044891</td>\n",
       "      <td>0.041173</td>\n",
       "    </tr>\n",
       "    <tr>\n",
       "      <th>chr6:11044898</th>\n",
       "      <td>0.133660</td>\n",
       "      <td>0.124122</td>\n",
       "      <td>0.165598</td>\n",
       "      <td>chr6</td>\n",
       "      <td>11044898</td>\n",
       "      <td>0.031938</td>\n",
       "    </tr>\n",
       "    <tr>\n",
       "      <th>chr6:11044923</th>\n",
       "      <td>0.218980</td>\n",
       "      <td>0.284478</td>\n",
       "      <td>0.265293</td>\n",
       "      <td>chr6</td>\n",
       "      <td>11044923</td>\n",
       "      <td>0.046313</td>\n",
       "    </tr>\n",
       "    <tr>\n",
       "      <th>chr6:11044929</th>\n",
       "      <td>0.220711</td>\n",
       "      <td>0.256673</td>\n",
       "      <td>0.348941</td>\n",
       "      <td>chr6</td>\n",
       "      <td>11044929</td>\n",
       "      <td>0.128230</td>\n",
       "    </tr>\n",
       "    <tr>\n",
       "      <th>chr6:11044937</th>\n",
       "      <td>0.322926</td>\n",
       "      <td>0.295172</td>\n",
       "      <td>0.413445</td>\n",
       "      <td>chr6</td>\n",
       "      <td>11044937</td>\n",
       "      <td>0.090519</td>\n",
       "    </tr>\n",
       "    <tr>\n",
       "      <th>chr6:11044939</th>\n",
       "      <td>0.195283</td>\n",
       "      <td>0.265782</td>\n",
       "      <td>0.357312</td>\n",
       "      <td>chr6</td>\n",
       "      <td>11044939</td>\n",
       "      <td>0.162029</td>\n",
       "    </tr>\n",
       "    <tr>\n",
       "      <th>chr6:11044951</th>\n",
       "      <td>0.463025</td>\n",
       "      <td>0.543395</td>\n",
       "      <td>0.593162</td>\n",
       "      <td>chr6</td>\n",
       "      <td>11044951</td>\n",
       "      <td>0.130137</td>\n",
       "    </tr>\n",
       "    <tr>\n",
       "      <th>chr6:11044957</th>\n",
       "      <td>0.146308</td>\n",
       "      <td>0.177467</td>\n",
       "      <td>0.253233</td>\n",
       "      <td>chr6</td>\n",
       "      <td>11044957</td>\n",
       "      <td>0.106925</td>\n",
       "    </tr>\n",
       "    <tr>\n",
       "      <th>chr6:11044964</th>\n",
       "      <td>0.581117</td>\n",
       "      <td>0.622046</td>\n",
       "      <td>0.625531</td>\n",
       "      <td>chr6</td>\n",
       "      <td>11044964</td>\n",
       "      <td>0.044414</td>\n",
       "    </tr>\n",
       "    <tr>\n",
       "      <th>chr6:11044971</th>\n",
       "      <td>0.801241</td>\n",
       "      <td>0.776574</td>\n",
       "      <td>0.762485</td>\n",
       "      <td>chr6</td>\n",
       "      <td>11044971</td>\n",
       "      <td>-0.038755</td>\n",
       "    </tr>\n",
       "    <tr>\n",
       "      <th>chr6:11044996</th>\n",
       "      <td>0.686902</td>\n",
       "      <td>0.756406</td>\n",
       "      <td>0.693567</td>\n",
       "      <td>chr6</td>\n",
       "      <td>11044996</td>\n",
       "      <td>0.006665</td>\n",
       "    </tr>\n",
       "    <tr>\n",
       "      <th>chr6:11045016</th>\n",
       "      <td>0.752337</td>\n",
       "      <td>0.776091</td>\n",
       "      <td>0.821959</td>\n",
       "      <td>chr6</td>\n",
       "      <td>11045016</td>\n",
       "      <td>0.069622</td>\n",
       "    </tr>\n",
       "    <tr>\n",
       "      <th>chr6:11045059</th>\n",
       "      <td>0.351190</td>\n",
       "      <td>0.375657</td>\n",
       "      <td>0.423102</td>\n",
       "      <td>chr6</td>\n",
       "      <td>11045059</td>\n",
       "      <td>0.071912</td>\n",
       "    </tr>\n",
       "    <tr>\n",
       "      <th>chr6:11045062</th>\n",
       "      <td>0.652710</td>\n",
       "      <td>0.650024</td>\n",
       "      <td>0.714031</td>\n",
       "      <td>chr6</td>\n",
       "      <td>11045062</td>\n",
       "      <td>0.061321</td>\n",
       "    </tr>\n",
       "    <tr>\n",
       "      <th>chr6:11045132</th>\n",
       "      <td>0.953217</td>\n",
       "      <td>0.927488</td>\n",
       "      <td>0.957508</td>\n",
       "      <td>chr6</td>\n",
       "      <td>11045132</td>\n",
       "      <td>0.004291</td>\n",
       "    </tr>\n",
       "    <tr>\n",
       "      <th>chr6:11045136</th>\n",
       "      <td>0.909825</td>\n",
       "      <td>0.907705</td>\n",
       "      <td>0.945684</td>\n",
       "      <td>chr6</td>\n",
       "      <td>11045136</td>\n",
       "      <td>0.035859</td>\n",
       "    </tr>\n",
       "    <tr>\n",
       "      <th>chr6:11045185</th>\n",
       "      <td>0.912126</td>\n",
       "      <td>0.907100</td>\n",
       "      <td>0.902617</td>\n",
       "      <td>chr6</td>\n",
       "      <td>11045185</td>\n",
       "      <td>-0.009509</td>\n",
       "    </tr>\n",
       "    <tr>\n",
       "      <th>chr6:11045208</th>\n",
       "      <td>0.897164</td>\n",
       "      <td>0.924577</td>\n",
       "      <td>0.925648</td>\n",
       "      <td>chr6</td>\n",
       "      <td>11045208</td>\n",
       "      <td>0.028484</td>\n",
       "    </tr>\n",
       "    <tr>\n",
       "      <th>chr6:11045231</th>\n",
       "      <td>0.943400</td>\n",
       "      <td>0.966201</td>\n",
       "      <td>0.972252</td>\n",
       "      <td>chr6</td>\n",
       "      <td>11045231</td>\n",
       "      <td>0.028852</td>\n",
       "    </tr>\n",
       "    <tr>\n",
       "      <th>chr6:11045239</th>\n",
       "      <td>0.945549</td>\n",
       "      <td>0.939776</td>\n",
       "      <td>0.949944</td>\n",
       "      <td>chr6</td>\n",
       "      <td>11045239</td>\n",
       "      <td>0.004395</td>\n",
       "    </tr>\n",
       "    <tr>\n",
       "      <th>chr6:11045286</th>\n",
       "      <td>0.924193</td>\n",
       "      <td>0.945553</td>\n",
       "      <td>0.962911</td>\n",
       "      <td>chr6</td>\n",
       "      <td>11045286</td>\n",
       "      <td>0.038718</td>\n",
       "    </tr>\n",
       "    <tr>\n",
       "      <th>chr6:11045306</th>\n",
       "      <td>0.923627</td>\n",
       "      <td>0.935925</td>\n",
       "      <td>0.922900</td>\n",
       "      <td>chr6</td>\n",
       "      <td>11045306</td>\n",
       "      <td>-0.000726</td>\n",
       "    </tr>\n",
       "    <tr>\n",
       "      <th>chr6:11045361</th>\n",
       "      <td>0.958077</td>\n",
       "      <td>0.953844</td>\n",
       "      <td>0.952175</td>\n",
       "      <td>chr6</td>\n",
       "      <td>11045361</td>\n",
       "      <td>-0.005902</td>\n",
       "    </tr>\n",
       "    <tr>\n",
       "      <th>chr6:11045369</th>\n",
       "      <td>0.965364</td>\n",
       "      <td>0.966654</td>\n",
       "      <td>0.967333</td>\n",
       "      <td>chr6</td>\n",
       "      <td>11045369</td>\n",
       "      <td>0.001969</td>\n",
       "    </tr>\n",
       "    <tr>\n",
       "      <th>chr6:11045391</th>\n",
       "      <td>0.964168</td>\n",
       "      <td>0.949288</td>\n",
       "      <td>0.961387</td>\n",
       "      <td>chr6</td>\n",
       "      <td>11045391</td>\n",
       "      <td>-0.002781</td>\n",
       "    </tr>\n",
       "    <tr>\n",
       "      <th>chr6:11045494</th>\n",
       "      <td>0.792254</td>\n",
       "      <td>0.784484</td>\n",
       "      <td>0.789928</td>\n",
       "      <td>chr6</td>\n",
       "      <td>11045494</td>\n",
       "      <td>-0.002327</td>\n",
       "    </tr>\n",
       "    <tr>\n",
       "      <th>chr6:11045508</th>\n",
       "      <td>0.931335</td>\n",
       "      <td>0.911188</td>\n",
       "      <td>0.939753</td>\n",
       "      <td>chr6</td>\n",
       "      <td>11045508</td>\n",
       "      <td>0.008418</td>\n",
       "    </tr>\n",
       "    <tr>\n",
       "      <th>chr6:11045550</th>\n",
       "      <td>0.955408</td>\n",
       "      <td>0.958064</td>\n",
       "      <td>0.969431</td>\n",
       "      <td>chr6</td>\n",
       "      <td>11045550</td>\n",
       "      <td>0.014023</td>\n",
       "    </tr>\n",
       "    <tr>\n",
       "      <th>chr6:11045607</th>\n",
       "      <td>0.881598</td>\n",
       "      <td>0.882208</td>\n",
       "      <td>0.918147</td>\n",
       "      <td>chr6</td>\n",
       "      <td>11045607</td>\n",
       "      <td>0.036549</td>\n",
       "    </tr>\n",
       "    <tr>\n",
       "      <th>chr6:11045734</th>\n",
       "      <td>0.932353</td>\n",
       "      <td>0.905288</td>\n",
       "      <td>0.894380</td>\n",
       "      <td>chr6</td>\n",
       "      <td>11045734</td>\n",
       "      <td>-0.037972</td>\n",
       "    </tr>\n",
       "  </tbody>\n",
       "</table>\n",
       "</div>"
      ],
      "text/plain": [
       "age                   y         m         o   chr       beg         d\n",
       "chr6:11044627  0.370627  0.525970  0.574350  chr6  11044627  0.203722\n",
       "chr6:11044630  0.221690  0.354790  0.446802  chr6  11044630  0.225112\n",
       "chr6:11044633  0.733006  0.850398  0.937735  chr6  11044633  0.204729\n",
       "chr6:11044639  0.506368  0.697422  0.830090  chr6  11044639  0.323722\n",
       "chr6:11044641  0.239236  0.398255  0.451612  chr6  11044641  0.212377\n",
       "chr6:11044643  0.428867  0.665850  0.753768  chr6  11044643  0.324901\n",
       "chr6:11044646  0.688301  0.786832  0.879344  chr6  11044646  0.191044\n",
       "chr6:11044654  0.272766  0.453829  0.468831  chr6  11044654  0.196065\n",
       "chr6:11044660  0.293431  0.494572  0.569128  chr6  11044660  0.275697\n",
       "chr6:11044682  0.069648  0.072484  0.064897  chr6  11044682 -0.004751\n",
       "chr6:11044694  0.057731  0.072361  0.083552  chr6  11044694  0.025821\n",
       "chr6:11044701  0.042014  0.052007  0.048483  chr6  11044701  0.006469\n",
       "chr6:11044709  0.049586  0.073539  0.046727  chr6  11044709 -0.002859\n",
       "chr6:11044725  0.088047  0.079178  0.087811  chr6  11044725 -0.000236\n",
       "chr6:11044734  0.165305  0.177032  0.191232  chr6  11044734  0.025927\n",
       "chr6:11044740  0.147387  0.156721  0.133882  chr6  11044740 -0.013506\n",
       "chr6:11044766  0.290982  0.354039  0.316605  chr6  11044766  0.025623\n",
       "chr6:11044819  0.661093  0.728819  0.705300  chr6  11044819  0.044208\n",
       "chr6:11044871  0.118089  0.154973  0.208127  chr6  11044871  0.090038\n",
       "chr6:11044881  0.171677  0.206049  0.208107  chr6  11044881  0.036431\n",
       "chr6:11044891  0.191337  0.223172  0.232510  chr6  11044891  0.041173\n",
       "chr6:11044898  0.133660  0.124122  0.165598  chr6  11044898  0.031938\n",
       "chr6:11044923  0.218980  0.284478  0.265293  chr6  11044923  0.046313\n",
       "chr6:11044929  0.220711  0.256673  0.348941  chr6  11044929  0.128230\n",
       "chr6:11044937  0.322926  0.295172  0.413445  chr6  11044937  0.090519\n",
       "chr6:11044939  0.195283  0.265782  0.357312  chr6  11044939  0.162029\n",
       "chr6:11044951  0.463025  0.543395  0.593162  chr6  11044951  0.130137\n",
       "chr6:11044957  0.146308  0.177467  0.253233  chr6  11044957  0.106925\n",
       "chr6:11044964  0.581117  0.622046  0.625531  chr6  11044964  0.044414\n",
       "chr6:11044971  0.801241  0.776574  0.762485  chr6  11044971 -0.038755\n",
       "chr6:11044996  0.686902  0.756406  0.693567  chr6  11044996  0.006665\n",
       "chr6:11045016  0.752337  0.776091  0.821959  chr6  11045016  0.069622\n",
       "chr6:11045059  0.351190  0.375657  0.423102  chr6  11045059  0.071912\n",
       "chr6:11045062  0.652710  0.650024  0.714031  chr6  11045062  0.061321\n",
       "chr6:11045132  0.953217  0.927488  0.957508  chr6  11045132  0.004291\n",
       "chr6:11045136  0.909825  0.907705  0.945684  chr6  11045136  0.035859\n",
       "chr6:11045185  0.912126  0.907100  0.902617  chr6  11045185 -0.009509\n",
       "chr6:11045208  0.897164  0.924577  0.925648  chr6  11045208  0.028484\n",
       "chr6:11045231  0.943400  0.966201  0.972252  chr6  11045231  0.028852\n",
       "chr6:11045239  0.945549  0.939776  0.949944  chr6  11045239  0.004395\n",
       "chr6:11045286  0.924193  0.945553  0.962911  chr6  11045286  0.038718\n",
       "chr6:11045306  0.923627  0.935925  0.922900  chr6  11045306 -0.000726\n",
       "chr6:11045361  0.958077  0.953844  0.952175  chr6  11045361 -0.005902\n",
       "chr6:11045369  0.965364  0.966654  0.967333  chr6  11045369  0.001969\n",
       "chr6:11045391  0.964168  0.949288  0.961387  chr6  11045391 -0.002781\n",
       "chr6:11045494  0.792254  0.784484  0.789928  chr6  11045494 -0.002327\n",
       "chr6:11045508  0.931335  0.911188  0.939753  chr6  11045508  0.008418\n",
       "chr6:11045550  0.955408  0.958064  0.969431  chr6  11045550  0.014023\n",
       "chr6:11045607  0.881598  0.882208  0.918147  chr6  11045607  0.036549\n",
       "chr6:11045734  0.932353  0.905288  0.894380  chr6  11045734 -0.037972"
      ]
     },
     "execution_count": 274,
     "metadata": {},
     "output_type": "execute_result"
    }
   ],
   "source": [
    "dmt[(dmt['chr']=='chr6')&(dmt['beg']>11044643-100)].head(50)"
   ]
  },
  {
   "cell_type": "code",
   "execution_count": null,
   "id": "79dfbdef-7f23-404b-a72e-c630eb31942c",
   "metadata": {},
   "outputs": [],
   "source": [
    "dmt[dmt"
   ]
  },
  {
   "cell_type": "code",
   "execution_count": null,
   "id": "1b239e83-5f03-448c-8c41-c910a898cb38",
   "metadata": {},
   "outputs": [],
   "source": []
  }
 ],
 "metadata": {
  "kernelspec": {
   "display_name": "meth",
   "language": "python",
   "name": "meth"
  },
  "language_info": {
   "codemirror_mode": {
    "name": "ipython",
    "version": 3
   },
   "file_extension": ".py",
   "mimetype": "text/x-python",
   "name": "python",
   "nbconvert_exporter": "python",
   "pygments_lexer": "ipython3",
   "version": "3.10.9"
  }
 },
 "nbformat": 4,
 "nbformat_minor": 5
}
